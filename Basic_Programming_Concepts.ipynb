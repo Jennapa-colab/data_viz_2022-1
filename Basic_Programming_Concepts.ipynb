{
  "nbformat": 4,
  "nbformat_minor": 0,
  "metadata": {
    "colab": {
      "name": "Basic Programming Concepts.ipynb",
      "provenance": [],
      "include_colab_link": true
    },
    "kernelspec": {
      "name": "python3",
      "display_name": "Python 3"
    },
    "language_info": {
      "name": "python"
    }
  },
  "cells": [
    {
      "cell_type": "markdown",
      "metadata": {
        "id": "view-in-github",
        "colab_type": "text"
      },
      "source": [
        "<a href=\"https://colab.research.google.com/github/Wanita-8943/data_viz_2022/blob/main/Basic_Programming_Concepts.ipynb\" target=\"_parent\"><img src=\"https://colab.research.google.com/assets/colab-badge.svg\" alt=\"Open In Colab\"/></a>"
      ]
    },
    {
      "cell_type": "markdown",
      "source": [
        "# Functions ($f(x)=y$)"
      ],
      "metadata": {
        "id": "aeYErYNYDmmM"
      }
    },
    {
      "cell_type": "markdown",
      "source": [
        "```python\n",
        "def function_name(input_x):\n",
        "     # do something with input_x to get output_y\n",
        "     return output_y\n",
        "```"
      ],
      "metadata": {
        "id": "iLW4S6gwEKL0"
      }
    },
    {
      "cell_type": "markdown",
      "source": [
        "$f_1(x)=x^2+75$"
      ],
      "metadata": {
        "id": "4skmkpZtFzCm"
      }
    },
    {
      "cell_type": "code",
      "source": [
        "def function_f1(x): \n",
        "     a = x**2 #บรรทัดที่เยื้องเข้าไปจะเป็นส่วนหนึ่งของบรรทัดก่อนหน้า #ยกกำลังสองใช้ ** สองตัว\n",
        "     y = a + 75\n",
        "     return y\n",
        "     \n",
        "print('done!')     \n",
        "#function ที่สมบูรณ์จะต้องมีชื่อฟังชั่นก์ มี input process output"
      ],
      "metadata": {
        "colab": {
          "base_uri": "https://localhost:8080/"
        },
        "id": "EIRm7NpxFuOV",
        "outputId": "e50c53b5-90c8-4ad1-e725-b9de8c754d06"
      },
      "execution_count": 1,
      "outputs": [
        {
          "output_type": "stream",
          "name": "stdout",
          "text": [
            "done!\n"
          ]
        }
      ]
    },
    {
      "cell_type": "code",
      "source": [
        "function_f1(3)"
      ],
      "metadata": {
        "colab": {
          "base_uri": "https://localhost:8080/"
        },
        "id": "eVAXNGJtFuL_",
        "outputId": "4798f2a0-c6cb-4730-9572-559844618685"
      },
      "execution_count": 2,
      "outputs": [
        {
          "output_type": "execute_result",
          "data": {
            "text/plain": [
              "84"
            ]
          },
          "metadata": {},
          "execution_count": 2
        }
      ]
    },
    {
      "cell_type": "markdown",
      "source": [
        "Function มีส่วนสำคัญทั้งหมด 4 ส่วน\n",
        "\n",
        "1. บอก ว่าเราจะเขียนฟังก์ชั่นชื่ออะไร ```def function_name() : ``` (ขาดไม่ได้)\n",
        "2. กำหนดตัวแปรที่จะเป็น input *input*(ขาดได้)\n",
        "3. ส่วนประมวลผล do_something wiht *input* to get *Output* (ขาดไม่ได้)\n",
        "4. ส่วน output ```return``` *output* (ขาดได้)"
      ],
      "metadata": {
        "id": "Wwu7WMqIHS_s"
      }
    },
    {
      "cell_type": "markdown",
      "source": [
        "### ตัวอย่าง function ที่มีส่วนประกอบครบ"
      ],
      "metadata": {
        "id": "CPpYVcXxr9Zz"
      }
    },
    {
      "cell_type": "code",
      "source": [
        "def function_f1(x): \n",
        "     a = x**2 #บรรทัดที่เยื้องเข้าไปจะเป็นส่วนหนึ่งของบรรทัดก่อนหน้า #ยกกำลังสองใช้ ** สองตัว\n",
        "     y = a + 75\n",
        "     return y\n",
        "     "
      ],
      "metadata": {
        "id": "zLy9girwr6Gd"
      },
      "execution_count": 3,
      "outputs": []
    },
    {
      "cell_type": "markdown",
      "source": [
        "### ตัวอย่าง function ที่ไม่มี input"
      ],
      "metadata": {
        "id": "kaUyzSwAIuN0"
      }
    },
    {
      "cell_type": "code",
      "source": [
        "def pi_v():\n",
        "     y = 3.14159265359\n",
        "     return y"
      ],
      "metadata": {
        "id": "z_R0HbBEFuJQ"
      },
      "execution_count": 4,
      "outputs": []
    },
    {
      "cell_type": "code",
      "source": [
        "piv = pi_v()\n",
        "circle_area_r2 = piv*(2**2)\n",
        "print(circle_area_r2)"
      ],
      "metadata": {
        "colab": {
          "base_uri": "https://localhost:8080/"
        },
        "id": "VseVlxggFuGx",
        "outputId": "87c1404b-c8d9-466b-d6e0-fac1f6c8e47d"
      },
      "execution_count": 5,
      "outputs": [
        {
          "output_type": "stream",
          "name": "stdout",
          "text": [
            "12.56637061436\n"
          ]
        }
      ]
    },
    {
      "cell_type": "markdown",
      "source": [
        "### function ไม่มี process ไม่ได้\n"
      ],
      "metadata": {
        "id": "luHOEWYDJXyl"
      }
    },
    {
      "cell_type": "code",
      "source": [
        "def function_a(): # Function ไม่มี process ไม่ได้"
      ],
      "metadata": {
        "colab": {
          "base_uri": "https://localhost:8080/",
          "height": 132
        },
        "id": "HA0Lu-VrJXaO",
        "outputId": "9f57df3d-79ee-41b5-9648-9453ab5858aa"
      },
      "execution_count": 6,
      "outputs": [
        {
          "output_type": "error",
          "ename": "SyntaxError",
          "evalue": "ignored",
          "traceback": [
            "\u001b[0;36m  File \u001b[0;32m\"<ipython-input-6-c17eb0e26ec9>\"\u001b[0;36m, line \u001b[0;32m1\u001b[0m\n\u001b[0;31m    def function_a(): # Function ไม่มี process ไม่ได้\u001b[0m\n\u001b[0m                                                     ^\u001b[0m\n\u001b[0;31mSyntaxError\u001b[0m\u001b[0;31m:\u001b[0m unexpected EOF while parsing\n"
          ]
        }
      ]
    },
    {
      "cell_type": "markdown",
      "source": [
        "### function ที่ไม่มี output"
      ],
      "metadata": {
        "id": "gAGxdDVaJu4M"
      }
    },
    {
      "cell_type": "code",
      "source": [
        "def print_name_id(name,id):\n",
        "     print(f'ชื่อ {name} รหัสประจำตัว {id}')   "
      ],
      "metadata": {
        "id": "knmixH0hFuEt"
      },
      "execution_count": 7,
      "outputs": []
    },
    {
      "cell_type": "code",
      "source": [
        "print_name_id('วานิตา','623020536-5')"
      ],
      "metadata": {
        "colab": {
          "base_uri": "https://localhost:8080/"
        },
        "id": "gyFkEwFXFuCL",
        "outputId": "8a502038-788e-4212-fcc8-e5603e4558db"
      },
      "execution_count": 12,
      "outputs": [
        {
          "output_type": "stream",
          "name": "stdout",
          "text": [
            "ชื่อ วานิตา รหัสประจำตัว 623020536-5\n"
          ]
        }
      ]
    },
    {
      "cell_type": "code",
      "source": [
        "a = print_name_id('วานิตา','623020536-5')"
      ],
      "metadata": {
        "colab": {
          "base_uri": "https://localhost:8080/"
        },
        "id": "rU6W5h_JLZZ3",
        "outputId": "e4fdd21d-167e-4e20-c0e1-07655f180d87"
      },
      "execution_count": 13,
      "outputs": [
        {
          "output_type": "stream",
          "name": "stdout",
          "text": [
            "ชื่อ วานิตา รหัสประจำตัว 623020536-5\n"
          ]
        }
      ]
    },
    {
      "cell_type": "code",
      "source": [
        "a"
      ],
      "metadata": {
        "id": "80CW6IgMLg_I"
      },
      "execution_count": 14,
      "outputs": []
    },
    {
      "cell_type": "markdown",
      "source": [
        "### ตัวอย่าง function print https://www.programiz.com/python-programming/methods/built-in/print\n",
        "\n",
        "![Screenshot 2022-01-06 204203.png](data:image/png;base64,iVBORw0KGgoAAAANSUhEUgAAA3cAAAJnCAYAAAA0kqo5AAAAAXNSR0IArs4c6QAAAARnQU1BAACxjwv8YQUAAAAJcEhZcwAAEnQAABJ0Ad5mH3gAAP+lSURBVHhe7N0LXFRl/j/wT8E0gQpyS5BQAVMUE9Mk9beoBa2U2YXd5GfartZ2U39Zq93WtW27/Ld189flZ27llu6u5k/bH6Wm4QbmpUS8gooIKSioQIgXVHAapP/zzJyBuZwZZoZBYPy8X695ceYwc+ac5zznOc/3PM95zjW6Hxt+AhEREREREXVq1yp/iYiIiIiIqBNjcEdEREREROQFGNwRERERERF5AQZ3REREREREXoDBHRERERERkRdgcEdEREREROQFGNwRERERERF5AQZ3REREREREXoDBHRERERERkRdgcEdEREREROQFGNwRERERERF5AQZ3REREREREXoDBHRERERERkRdgcNcWdIV4a9wjGDTI+Lp38RHD7MIPZjbNGzRuJQovG2YTERERERG1WucL7qoKkbFkGd5bmIF1h+qUmR3LqfUZWHpCeYMBeOKXscap9HSkGKaEExvw4YZzyhsiIiIiIqLWuUb3Y8NPynTHd2Ijpj+wDFuaYjoNxi+Yjz+PC1TedwCXj+Cju9/Ae0pwp508A9teGgat4Z0euX+aiUeX6w3vEDkOn61PxwAf41uXXdbjxKHdyN1xGMcvKvPQHbGjBmN0Qi90c3e5RERERETU6XSq4K5w8Uw8+K5Va118GtasvAcxytv2psv5CKMe2w6d4Z0/nl65EI/HG94YFaxEavoGHDe80WDS4oWYO1JjeOeKUzkr8cLzG5B7RplhzT8MaS/NwNwHeimBJRERERERebNO1S3zx1qVbphnLyqBVBvQ1eH8GfOX0uJm1zlk/csU2AnxqUgxD+yk+FuRFqlMQ48Vn+/GeeWdc+qQv/AFjHvMQWAn1VUjY94reHDedpzoJPf26SzSWrzabMcSEREREXmfThXcxaXcYdNCF/PLWzFAmfa0U+vfxsikmWavlchX/qfqzD58vUGZFm5MGaDSohiLpF/6K9PC+u3IdSG6021dhkc+qHY6oC35/CM89dfCtguAPaYQ/2OR1jPxwvpTyv+IiIiIiKglnSq40yZMwSefjMPoHhogKBApM5/BJ48YByvpCM7v2I0sZVp2yUxLUl+3AcNGmHWVFAHhNmcHhjmFdZ+atQw20SAmPgwDxCvULG40KflgGTLKlDdEREREROSVOt1omaGJ6ViU/SEObH0b7zw5GKEdZtAQPfJ27FOmpcEYEK1MWosfgDRlUlqXf1iZaoHuGAq3KtMmkUn4OOdDrFn5Z3wmXpty3sCfH7AeYKYCf99gfBwDERERERF5J88Hd3V1OFGwD7kFFTjfyicV6MQCWr7PzXlyeZ5aN1tlKPxWmZTG9sUAeyOZaHtjQJIyLWUXolCZdOjsOTQ9YcHk5yNwWzdlWvKJwPiX0i2CR+l4/jFc0U6OIh+cKi1E7p4ynDrvuX1o12U9zleVIT/nCE54MM8QEREREXUWbo2Wmb/gEUxeoryRkqZgw2uhWPfKR/hwU51Ft8FuCSPw3CtTkHaTSn/Bqo2YnrwMW5S30tR/fIL/6rYRb7y0EhmHjJX00a/Nx6IHQu1+fs5Q5Y0IXzKeeh4vm7duTXsOu++twFuvrMSKfMtKf7eR4/DOn9Jxm1i0yanP38DYec62csXi1ey5SOshJk+JdRvbvG7aJ8XvzrR/N2D+wicw+QPT+sTiz5vmYrzZeqiy+g2DhHuw5h9piHGyBfP8+r9g5POWoWTK/Lfxzt3qj5M4sXIuxr1WobwzMn3elXygjRuGuX+aZpUPCvHWoL9gqfKuRWJfHphtlaaXTyF38Yd44ZMjOGUesAf1wtPzZ2J85YcYZ7E/78DyA1OQIAemWTBXrL/lswZjxG98Jn7DMi6vQ+785/HoPyyvCKh/loiIiIiofXim5a5kLZ66+x28Z1Whl87nb8fLD8zFyxucbDcq2YhnJy9rCuxabdNHePCBZTaBnXQ+ZwMevfsNZNg0h7nhxEnkKpPSbZFhypS6yMheypRUgRPOJE9obwxpGmlTkf8lHkx/B0vXH8EJJ1ojuyXfg6lWy8havt22RdCgAlvWWAZ28B+BScl2nivoIB/oDu025IO39niwyfTUbrxxvwi6FloFdtKZMrz32Fw89YnV+jfxR8LMx/G4VdfZkiXv4392WC7s1Nq3Md0qsEP0HXhNBO8M7IiIiIioo/BMcHfiHEoc1tnPIWP2G05V7FfMX2n2kHIPKBXrpkyqqjuCl1/f2Ooui7pay4AmprfjZrjQyJ7KlFSH6mpngtlYjH8kQplupju0D289/wbGJT6CYclz8cL8L7Gu4BR0ao9A0A7AJOtl5K8Vn1emzRVswd+thgdNmDUBt9mLaJzIB0tfykC+deTnDvmw+GnvY0Wp8l6VHiWlDlZIpMXTH0zBaItG5Tosnfk21lUpb09sxMuvHbEMVv1j8ar4XgIjOyIiIiLqQDx8z51p1MZAmN8GZiQq9n9Yi8IWnrmmq/NQi501f3/DaJID5Eib1rZmIOOQMu2m86eqlSkn+Vqux4lTlt0D7Yn85SOYE2f/oee6qgqs+0cGXkh/HqN+/gaW5tsGN5E/T0WKMm1Uhw/X7LZqbdMjd81G5WHrJgPw0N22waUtJR9Eq6ynCJY+3dT66L3kfz/BeyqBnbaHcdTQmCBlRksi78Dcl2ItW+BkwP/aRpy4XIEVzy+zutigweiXnjB7ViERERERUcfgseCu27h0fNY0auPbyMl5BXPHWlXuSzdgaVbLFXvD/Vn/eAM5Wxdiw8rHMWmAyv16LtCOTceGnIWG0SQ/y/4QG+ZZP6KgDrkHjG13oQ/MxYEDnxhem16z/py8X8v4P+NLud/ORi/EqM43E9Tdvefz+cRi6j+ex5yR9gM8E13VEbw1+VlM/9yqXTJoBCZNtvy+bvlGZJk/FP3MdqxYbhloayffgZSWgqboO5pH71z7IXIWJ+FG5V8mzaODDsCcprR8DlOVuSbyXsvmtBYv0/12ut1Y8a51d9FeePofb2N3tnHU0DVbP8GG+cNUnjNoK/KBZ/FOulV6bFqGX459BW9YtVxq0x/H2/L+TyIiIiKiDsYzwV1kEt55bRwGmDfXdeuFSa9Nw3iruGzdjhYeqC2WtegfMzBpaAS6BfkjMn4EkuJaE9wNwKti3SLNBhyJvD8Vk5Rpk9xjLra8OSQCBV9l0h5/fzi+K88BfxHgLf4Qmxbfg/EJLQV5emyZ9wbes7jnUIPbJqchQXlnVIivc5pbD8/nbDd7Zp/kjyfuHdbCPWb+ePrNKRajd3YbmYpfxytvTEpPta4b7KFCZFhdIxj90kw8PtTyXsDIu2fgzzOdyTv+SJr9DKZa3X9nM1KrCFw/md1SGhARERERtQ+PBHfaCSNwm1odOmgY7pmgTJu0ULEf8KtU9WW5K2kYbrNubbJ+FIHH1ULXUgPlmWrH9wI6IXRkGv68/EPsznkDn81Pw9QJEaoPMZddYj+av9Fy0JReI/DQOGVa0TywSgW+XG71cIZx6ZhkHaTZEPnA5jMRGJioTHrIqZJjVhcIBiMtRb01bcC4VOdaSP0HYM5fxjlo6QvE03+ZggRP5k0iIiIiIg/ySHBnf2RIDQKsK8M7qh0Gd0N6ebjLW18R8CiTV041Tph3cVRTp7e6n8192m4RGHD3PZjzpzewKedtfPaaSnfE/F3Is0j4QKT8coRlK5RpYBWbgVQ0mCQ+a3sfpZWknmifW9FCEWZv5VxpIY1Lx1/nmY9i2uy2ec/j8TjlDRERERFRB+SR4C73hL0ujXrUWrdgJYY5DLa0XVq+l6wjshz9UmhQ/tqhu2iZMDGRLYeg+UtewIPp5q93mkd1NPEJxIAH1LojluGI1fMOtIkTMMeib6YcWGU7sqwHUom8A2mJHXm/nEL1eWXSWl2dCLWdVFeIFcvKlDeWcpdlQ2VsGiIiIiKiDsMjwZ1u7XbkqlV8z+zGl2uVaZPo0HZoSfMUB0FEgL/FwCElLTy4znJ0zTC08Fg8g8juASgsqDZ77cOnWfae42ZNg+utbxbzicA9ky07LeqWf4RnrAZSSXhkNAY4+ZB0TyqxM4JoaExvq/ve9iEjSz29CzdkwqqDqR3nkPXKO1hq79EKpRvxyALrEUWJiIiIiDoOzwyocmIrnpm3AYXmgc/5MqyYtwTrrIK+8Ymd6MHPNoOi7MOS5YU4b/44B9N0ZG+LAUq2lDhuLzry/RFlSopAmBMRb+iwW60GQQHy//QKJi/cjpIqJSDTnUPJ+iV4+RPraLsvYlT6THZLvgOTHN1H5j8CT9/vzOMPWu86q/U4vnitZcukKa3jBiDN6rNb/rQQH+2xDAZPrH8fLyx0rrntxOcL8cJ6qwFUrOhWfoRnrUceJSIiIiLqIDwT3AnnN6zEgyOfwL2G7oLPYuTIV/DGJuvRBsdhaoqjSKJjCR2UYDMYR/7Cv2BkgnE7xya+gQxTXb9bbwwxH0ykoMxyABMLp3DC/Ll68SLwavGGNqFXEp7+lXX66ZH/wUe4N/kJDBr0CAYNexb3Pr8VhVYxjXZyEpLUfkM7DGmPWY4yae7GR5LtP7Tco/riFuvBd+r24YVk+WB2kacmiO17R2mDE+s8aZZVwFlXhvd+9azxs2Lf3Jv0CMY9v9upQWt0e5bhqXlWDyqPvgPLs5+zGkHTOPKoMw/jJyIiIiK60jwW3BnpUWLoLngOtr0XAzH1jxPapXuf26JHYKr1s/oMjNt5yqKOL0eFNPvsjkLLlkxz5w8jd4cyLWiTYp16Hpscsv+2mTNshuxvkX8sXn3E/hD+A36ZZvVQc5MI/Ppu62f9tRUNEu+9QzUddFUiT5VaXiiI+c9H8LRKOhg+K/ZNSUsD2pic2Ihnn9xoFQTKvJqGhB4D8F+vW6/TOSx98m1k2I/ciYiIiIjahWeCu8hAxDhskAtE2oK5mDO087TaGYVi/Hzb55/ZE5c4TJmSCpH3vTJpRZe3D+uUaRnUpA3rq0w7QQ7Zv3Iunh7q5AAnQQMwd/mzGO/ooeoqDzWXtHdPwD3qg0e2CW3CFPz1tVjnuu36xOLxJTMwyeG+0SAm2kGeu3wEHz25DFssgnQNRr/WnFdV16nuCF5+fQNOmHfPJSIiIiJqZ54J7mIm4K/rn8HTY/1tKubdEkbg1c/fwKvjOukwKjKY+mI+Pp49GAnWz8uzohXBXfPD0fVY8Y36UB6HduxWpgT/YUhxNlAz8ZeBzdv4bH4SRvew811/f4ye+TjWrH8Ok25qKajWICDIejn+eOLXTjz+wMMiH5iLTf+ahqkqeclG6DDMlftmZi/b9Qzqhac/mY+/PmLnfsHLdch9ZyHesxpAJWbaM3j7Acu8GvnAs/hkmlXX1a0r8dQ7+yzvvyQiIiIiakfX6H5s+EmZdlr+gkcweYnyRkqagk1/vcM4CmZdHU6UHsYp/56I6RGKbp2tsa4lYvvOG27O0qCbTUCkR+6fZuJR02iTkePw2fp0y66olwvx1si/YKnSWqSdPAPbXrLfZdIpYp1OVR3DkUrxu9ruiI2OQKjNujmg2403kt7HCvMWrIR0bFg+rp2eW6e4rMf5WiUtRbDazVEiyc+eqkBJiR6hcb0Q6cr2ExERERF5AQ/fcyeISnhk/GAkRHthYCfJICNIvtSCBw1uu/eO5kcinNiIjB2W94rpdmw1C6L88cS9rQzsJLFOodEDcNvIwbhtaC/XAjvhfPZGy8BOSJk8on0DO8lHBtBKereUSPKzPXohYWQsAzsiIiIiuip5Pri72sWPxq+bnlegx4p/bTcbXOYcssT7plEZEyZgvPkIm+2iAl8ut+o+GnkHpiXbH0GTiIiIiIg6HgZ3HheBtCdHNLfGbcjEl2XKdOlWfLpBmYYGk2be0e6tY7qctXgrX3mjSHgkGQmtbk4kIiIiIqIricFdG9COmoC5yWEYEC9fDfhyQyF00CM/Kwc/GuaJV3I6po5s7+6DVi2JBgPw0M+vzEPLiYiIiIjIczw/oAp1HmUbMPnulTBvuPPIAC9ERERERHTFuRXcNY8YqfDVoFs3DmLR6ejEfrQaSKXFUSmJiIiIiKhDci+4IyIiIiIiog6F99wRERERERF5AQZ3REREREREXoDBHRERERERkRdgcEdEREREROQFGNwRERERERF5AQZ3REREREREXoDBHRERERERkRdgcEdEREREROQFGNwRERERERF5AQZ3REREREREXoDBHRERERERkRdgcEdEREREROQFGNwRERERERF5AQZ3REREREREXoDBHRERERERkRdgcEdEREREROQFGNwRERERERF5AQZ3REREREREXoDBHRERERERkRdgcEdEREREROQFGNwRERERERF5AQZ3REREREREXoDBHRERERERkRdgcEdEREREROQFGNwRERERERF5AQZ3REREREREXoDBHRERERERkRe4Rvdjw0/KNBFZOX/xEs5eqMelHxvw0088VFxxzTXX4PrrfNG9qx+6dblemUtEREREbeXKBHeNl1Ff1wD4+MLPz0eZ2U50p1FeWot6TReE3xiGAK0y31WmbdJo4We+DJ0O9XrA118LDdtFOxYX93312Quov/QjggO7oMv11xmCFXKeDIYvivQ7fe4i/ET6hXXvqvynZbVlR3EuoA+iuisziIiIiKhFrgV3+lqUHjkNEbs4yQchsVEIuZiPRb/fhIKBY/Gn6QkIUP57ZelQ+uUKvJt5rnn9U9Lw/v1RyhsXHdmEGW/n2yyj9It38VYWkPzsLKTFKjOpnbm+72WL3ZnzdYjqEcSgrpVkkFdedQZB3fydasGrz1+HlxYfFvuqDx77y30Y4qf8g4iIiIgccq1t6WIpvlq4Gu86/cpB0UXlu+1Mf+gbY+W+SxiSp6Ri1swUpEd3Uf5L3sydfS+7YsoWOwZ2rSfTUKalTFPX6FCnUyaJiIiIqEWuBXfaYAxKTUCqxasPYgz/DMZwm//1RYS73R497PjhI4ZWmyEP3o+0Ef3RLy4eoxOCjf8kRR3yPl2KN+evQ16tMssLuLPv5T12sismeYZMS5mmzvBLGI9Xn78Pc+bdh1HslklERETkNNeCO78ojL5nLCZYvIYi2vDPKIxR+19H6VLVYKxYhgT5G/6SmgbUnT2H8rKLqGtUZnkDN/a97ErYfq12tdi26F3MWJQvpryDTEtXBqQJ6NUH0T06yJUhIiIiok6CQ34QXQ3kPaJflCtvnFGOjJkiwJy5CaXKHHPy3tIZ4v8ZR5QZRERERNTufObNe/kVZdpNtShcXygqgOEYdXcfBClzLVyqws6NR1Ed1gcpw8PRWFWEnA3fYfWXe1BYeQmakFDc0NVX+bCKsxXYtXM3vv33JqzNOYYfanXw6RKEEEffkerLsWXDXuwrPorC4iqcPAtc03gJNeVHUSzmFdcHoH+4H+qP7EHmtiJU+USgd7DtMmvyNyF711HUB/VBuOlWrTNHsX57FRAzAOPjApWZYlUP5WJbiZg9cgQGONHrs16mxaY8fPPvLdhy6BR013bHDWF+0BgajWpRvDEH2woq0HBDFG6wOxZFLQqycpB7sALXiM+F/KRsd5UPevUORENL6V1dhLXfHBBpUo7iompU1+vRePkCKkuN6WSTLvWnUbw7D5s3bsXqHSdwpu4yAm8IRVeNDqVbv8W3+0/juqgIBGnEmhXvxL9zvkdxBdCrT3eIWZYaq5G3bid2it8+3/VG9OzW8vUGfU05crftRPb6LcjMr8SZMxdxXWAYgvzNvuvkvren5txFhAS21z2ZWkQNH4Hx4ljxVNtVbfEOZF+Issir9snALgPZctCZ3yaoHtNBcWL9+l/CwrdXQ9ffubzudJqa9p2Sfy3yjMh7Bdtz8e3mbVi9tQQ/6K5BkCHvKf9X1OzPwvK/54kypzf6htjkOiIiIiKvdIWDuxvQ68xWvL14H/YdPSsqe3U4ebQcO7fk4ZBvFIbHdoPlgxJ0KM9ahdcXicp/QRWOVelQe+osSg8dRa74zv7GGzCsrwgY7PWeu3gU6z7KRc5hY+VeOnOiCofFe8MruK+hsltfvBUfZhwG+t6M4TfaVqertq/GP/5dhaChZpVYDwR3NdtX4eWFedh3uBonT+lQc6IaBbv34Zt9l9A/UaSlr1iX41uxePVhlF4biZ+J31F7kIQcMOTNfxSg+LqbcH+SCAhM2/1TN0Q6k96VB/DesnyRJjKwkzMuo/pYczqZp0vtwSy8vSAL/957AqUn6lBbVYPDBYex5esDOBtxA3x3b8bnOXpEj4lHlAhGtUHdUPNNFj7f9D1OBMdZpa8IBlevwsJ/l+NsVCIm3hasun1NGmuRt2IF/vLPPOQdMqaZ4fdFfti2aQ/21wdjcFwwtDI/OLnv7Wnf4M7TarF7zVbs72aZV9XJLqErsLo6AXPsBHZNgvtg4I+5WP5pGYJGGfe3I06naVP+7YHbzQPcmnws+uMarM+vMuY9WRbIvLflEBr7DkB/0wWI2nwsnb8T+8/Vojj3NCJvj0M44zsiIiK6ClzZ4K62CgUHLyEqdQKe/c2duO+uoRgVXY/DB0TgdvAw9P1vEQFRc+tLzfYMvLmqCo2RfTHpqV/g0fQkTLhrOJJu9kf90TIU7C3EPk1vjBFBiioff4Te1BvDE+MQqS9CYSUwJO0+pCfHYYSYNyImDCHdNNAdL0D2vgu4YfAtqsGdasDW2uCuvgirFuShXBuByb9/FE8+OALjUweiT933yN1fjmKxXbff1A3+PbvgogiMCr+/gIjRA9DTZoyPOuxd/W/srvTFmPS7MTRUpJ+r6X1dF9wUFyPSJApdK0tQei4QyVNTce/PjOnUPyrU0CqmP7IJC/5nP05e9kX/8RMw69Hbcd/4EUgZcSOC9MeQvaYABbWNaLzcDYPvUCr712gRFa3FsZwSsb++h65/vPhNYyW8dofYv5+fRmOPBEyfNgQhto2mZmqx68N/4uPd9fAR+eHB34zHtPtH4ecpt+JnN/tBV3oUBQe+R4E+EqNkEOzkvrfHYSByVgQZc1aivP8IRBavwm/fzML69bnipR7kyC6Mvz8UKfLJNSJw+gBv/l1+1viyaPVSlrtU+d/6o35IUmm9q90ufnNNg/ifHutmLsVC0+fXX8JA82NQdsV8ebWYn4f91eJ9SaHyOePrWPBA2/x+JAdvrq1C8rP/iVEtXJyQguIioVu/E6uvldvnOHB0Orizauk3rqEOeSv/hcxyX8RPmoxXnrwd4+8egaSosyjIPYG84kYMHtMbgTKwbzyHgq8P46T8mjYUw+7ox+COiIiIrgot94HzJF0Doh6chNn39EFIVx9otFqE3JyC6Q9GyH9iy35DdczoQgEyllVAHxyP6b8dj1G9/I0PBb/WBwG9EjD5t+MwRtT6KtfkYNcF41dsaAIQHdcH/cQrJsQ4K6S38b3h1bMdB1fRXRJhmRDbH4PCDHPEtgUg/n4RtKQm4FatToQzgqYvRo6TFeJybN57Ws6xdHw3vtor/vZJxOh+Vu1ezqZ31zAlTaIQbnjOtD/C+zanU3SIWG5jBbI/zUelqGonz/wNnr5LLlMLjcYHfmFRGP3QJMxK0UKvNnR9SAIem54gwv+LYhk5KJWfqcnHspVi/8rgdvpYiPjPofq932DZgQaxnUMxW+SH0bHB8BO/L18hsUMx+fk0JPcQ+SFrHdYeuXxF9n322+/ipWU3YM7CWXh/ofh9VGD57+3ch3byCDIWLcHynmnis6bPJ+AW82chdhdBruF/0zB5oDLPnoOb8JKp66T8zrMJYmY+3jK/Ry52rNlvCabPKq/pI6yfOFmLbRvygYFjkeL0MxqjkDJF5KesHGxTWkjbhg51hlblMAyJb446A26+E1N/lYDURF/Um0af8euP9NljkZqaiGnPpvA5eURERHTVuLLBHfogOdG2OSAgrj/ixV/9ydPGgEaoPViAPPE3Knko+qlV/LUi6BHBhAx6dhw0hEmdS5cuCJWrf3AnMvfXQm8anVITgVvlSKN39Gl62HvUqJEYIv6WfLEDxRZPkL+M4px9IuAChoyNR7jN3nQ+vVt08jByqsTfW5JwV5zqDkH0+LGGgFuNRgQaU+8VQWpVPt5dsg7LF21Cgc4X8Q+mYpQSfNlXi705R6EXvzFhYhKiVH8+ChMe7A+NCAKyd5U2P6y8LcmH8i8UganhTRTSlCAqWwRINul6UATGQ6eZPThdft70XffETzFbngzklABvr9uDnJxD5UHxp2dwU95zhjE/VSDvkNO5yQ3ieAmTTbsVyP66CDVNO9gHUYlyZN6R6Gf22AS/6ATDvFtVWuKJiIiIvNWVDe5uikKUk1fRa05WGP5Wfr0Gb86Xz16zfS3/7rLhMwUnawx/OxVNXySnR8EfF7H5wyV45rkP8ObiTGRvLzeruCq6xiFFBrK6ImzONwtkLxzC5s0NQPBQpA5VaYlyIb1bUnu8AqfE3/5xUbC7SE004hOVaRVRKRMxeZAv9AcOY5sIFMNT7sVjNq1HapSgA30Rc6NhhipN72hDEIyCCkPA29bih0ZbBUFRuCVF/Dl4BrY5MgF3ObWtzorAkDir5YUEGYJ2tx05gmzxJ/lmUwDqpO7BCBd/CirPGd+3CR/0u+NnGNJFlAmbM/Hys+/jpT9lYFVWPkprjOUAERER0dXuygZ3Gh/b0RJboHF04T2gC6J6BSKqpVEzO6iQxDS8Oi8VaYlhCPfVoTy/CBnLMvDyi0ux9oh5/0YfRP9HouFh8Xlf7Ua50spXvnWroXUz5s54RKntSTfSuyW+Dkc88YG/o/11bQD632zqg+qLkHCrkRBb5GvsmmuPVmsMtk5fhnOPy/a8kHDZ5fUHVFh3URwYhBYbKF1yAyKutgd8y+69rzyM6ff3Qf8eQO2Jcmz+YhPe+sMHePPL8ivTWktERETUgV3Z4M4FvkqUMPwXD+PF56c6fqXICnVbqUWF2a2AnubXoz+Sf/UQ5v15Ft55fSKm3R4Gje4cMhd9Y9kFMyweqUkiiK3ah5ziy4D+MHKyRACo7Y8JI5wY+aKV5P16UtWZi4a/6kRaHVMmVcgBWRatqAB6iIBc24CCzzKxzalGV1/4GzbxNGrs3V8pVVejWP71eCBFHYZfMOJT7sPT82bg/QXT8OLUeMSIvFSeuQafH2ILHhEREV3dOmxwFxUbZ2jV2ZZ7GIZxFFTU7M/B2i83Ydfx1lXq/AKM3dsKTqgMWHKhHAWGLoGeVX/yKIoPHbXoUqbpHoFbf3E/ptwi3uiOoOi4cb6RFvEjByMUDdi88QCKt+dgs4jtwscloN8VGAnQ76a+hi6Pp7LyUaA2aIp0PB/Z3yvT1mrysXiRHJAlGOmPT8VsOcCKrsJw751hgBWHIsS2y+CyHJt3q+wjg8sozdktPgHE3Bzl0j1j7lLrhlhTKbsTX4Wtam3tggjcxfFSXFrb3EKnDUDUrSmYPkl2I23AtsNmV2EaL6P+gq75XlYiIiKiq0CHDe4QOxQTBwL63VlYsrka9VaVtPrSrVi6dAcyv7kEvzCHfQVbpOkpggc5sW2HZUtS42lsW7bJ0PXR4+TAIgtX490se4N/+EBjHbT1SsA4OYriwU14d6UMcqJw1yhPtlpq4W+4oe40Kn+wirjkfX+pXQz3/S1eshPl1hH32SKsWrJH/V43XTkyTAOoTLkPo3uINLcYYCUfNS1UwqNGjkS8iO9KPsvAqv22A3fUbF+NRUpLZqrKIDJtwmZAmnLszRJ/UmJbNVCK5wUivKXRNyXlnr3KahcHRjkr8ov4Ex/e0jP0WsFHHIvyeFm4DcV2LgYEXqd0zxbH7Zb/+QBzXvwAz33Uct4iIiIi8hYdN7hDAEalp2JUD9l971O89PIqrPpyk6GlbtUHH+ClBXtQouuC5Om3Gyr9rdJ9EO4yBC4VWP7/PsCileJ3/m81Fry8Asu/D0O8MxVjF/kNGopUEeTot67D7xbKgVSKULxrp9i2f2CZfLRBj3jE9zR+tlkAht8hR4Q0Ck0ZjgTDows8RYv+Q/qI5euQ/d7f8JoycM3SXbKy74Pou00DomzDm7//AAv+kWXcH4v/hud+n4ltvlGI72VcUpPGWmxbsgbZKgOoNA+wsgmL1rRwz1R34+MUorTGAWiee00EeTI/yP30+/fx8rJy1GkjkD7bA/nBWYbHEZgePSACWPloAkRg8lgXByRpcwGIkHkpKwOLtjsI3LpHY4jI6wV7Sm1H+3Sg9lARCtQGePEkv74Yo1xcWPTyp4aBVAoOFWDLylV4dYVsr+2CkQOVCx215TjwvfGuS/2BIhS5GKsSERERdVYdOLgTQvpj8pyHMDkpGJqzFdicmY9M8dp84LIIjuIx7XcPIy3WEzV5Gbg8hFnjw+Cv06Fgq/idb46ivEsfTJ59H+6yCbI8QBOFCc8btw2icpyxLBPvLt2mbFsi5sxJUh0kRRMdjeGGqWAk/0eUxwdM8bslFS9O6Y+YLg2oLDuH8rKLIuhSWkSuFQH34w+LdIoQ4YIOJTsKjPsjXycCtVTMeyEFQyyCTR1K16zC8gMN0Awai+n3Wq2vXN60e5Xn063BYkeBhyBb+16cdx8mDNJCX1VuzA9iP5WcBWISEzHrDxMxuueViuyMjyL405Qf8NbMdzHDFNi9PhGj3OqSKYLgRXI58rUEy2VXYEPwaJpn9vw6N0Tfb3x2XsGyJcry3lUJ9MT+GJdg+N0spx+nUI6sZRVAykg3t9tZ4hi952HMk3kT1YaBVBYtzMLKrRWo94tA2uyHkWoaSTVABKmDjHlWM6g/BrGLLBEREV0lrtH92PCTMt2xyXto6pQxELVa+LXVfWam3/HxhZ9f67p7Os2FbavflYE5S8uhGZaKP03rb/+xBJ6guyzWx04amK2zHPzG4SiWbaGNf7+47Af063WD8s7K2Xws+v0mQAR3tg8C7+xkkCmCS4zFn6YniHDPsdrtq/DSMjgV1DpMUxfpL+iMI6I6OE71Fy5D0/UKHcNEREREHUDHbrkzd60P/LqKwEe+2iqwk0y/c6UCO8nZbWs8jZ2bZBc0LVKT2ziwk+wFdpLZOl/xwE5q79/3WgEYNT0NybLV8AuZ1xw4Ij6zrALJz7rbWuk+jbLvHR2nDOyIiIjoasNqcSeiL96BjKNiYuBIjLK+t43IY6KQtlAEeFkZdruDln7xLma8nS8Cu1lIi1VmEhEREVG7YnDXadRi58Yiw/1vY+4Y1GJ3OWqda665Bj/91Dl6LLcNGeDNwvsLx6qO/Bl9v/yf84GdTEuZpkRERETUdjrPPXdXOX3ZTiz+3wLUBg3G1EeHIpxheZsqrzqDoAB/dPW7cgO0eLML9Tqcqa1DVI8gZQ4REREReRqDOyIV5y9ewpnzxmCELU6tI1vtDMFyN39063K9MpeIiIiIPI3BHZEd1WcvoP7SjwgO7IIu11/HIM9FMqi7KNLv9LmL8BPpF9bdow9lJCIiIiIrDO6IHJAteGcv1OPSjw1X+T14rpPB8PXX+aJ7Vz+22BERERFdAQzuiIiIiIiIvACH5SAiIiIiIvICDO6IiIiIiIi8AIM7IiIiIiIiL8DgjoiIiIiIyAswuCMiIiIiIvICDO6IiIiIiIi8AIM7IiIiIiIiL8DgjoiIiIiIyAswuCMiIiIiIvICDO6IiIiIiIi8AIM7IiIiIiIiL8DgjoiIiIiIyAswuCMiIiIiIvICDO6IiIiIiIi8AIM7IiIiIiIiL8DgjoiIiIiIyAswuCMiIiIiIvICDO6IiIiIiIi8AIM7IiIiIiIiL8DgjoiIiIiIyAswuCMiIiIiIvICDO6IiIiIiIi8AIM7IiIiIiIiL3CN7seGn5Rpl5y/eAk/nD6HhkaxkGuuUeYSERERERGRM3766Sf4XgvcEByIbl2uV+a6z63grvrsBRwtO4Flf/8EBw/sx48//qj8h4iIiIiIiJxx3XXXYeCgmzHl14+gT69IhHXvqvzHPS4Hd7LF7tCRY/jdc88yqCMiIiIiImolGeT9v7+8jbjY3q1qwXP5njvZFVO22DGwIyIiIiIiaj0ZW8kYS8ZareFycCfvsZNdMYmIiIiIiMgzZIwlY63WcDm4k4OnsNWOiIiIiIjIc2SM1dqBKvkoBCIiIiIiIi/A4I6IiIiIiMgLMLgjIiIiIiLyAgzuiIiIiIiIvACDOyIiIiIiIi/A4I6IiIiIiMgLMLgjIiIiIiLyAgzuiIiIiIiIvACDOyIiIiIiIi/A4I6IiIiIiMgLMLgjIiIiIiLyAgzuiIiIiIiIvACDOyIiIiIiIi/A4I6IiIiIiMgLMLgjIiIiIiLyAgzuiIiIiIiIvACDOyIiIiIiIi/A4I6IiIiIiMgLMLgjIiIiIiLyAgzuiIiIiIiIvMA1uh8bflKmnVJc9gMe+/VDyrvO47aZb+HxwcC+T+bg3e3KzA5o4rz3MS6qHBsefxOrlHmuG45Z/z0Vg1GAj367CLnKXOek4Q8fJaNXeTYefS1DmUd0NWjNcUNNJr6Ij1OilDdSvWq522KZbL0clkntS9kfZVkz8Ef3T06diFIedFXeSuZ5sB3zp6GeENQZyinrNFQvC4jI0uK/f4p+vW5Q3rmOLXduk0HQi5iovHOGLJA//uh9/MHBl46dqVemrjaupyc5Zsxvb2HWCGWGB7TFMr3OiOn4H3GcfzwvTZlhRfn//8wcrszwrHbdR3LbZIX3gqh4Pj4Dj4rXR1nbsN2dytyqNw3ff/TxbJQps6j1ZFDdVnnPk9p7PSfOMwYlMpg15cMNRWbBm9flT3kONtZR1F6O6i327cS7v1XKgX3tUbeRwaVcf56z6Opy1QR3uQvniALGg1eMRoQjVJl0huFKm6FFzvqq53BMnNh8Asv94ZSoGNXimPJe/v+2K1ooZeCP8oR1pa+Qu5ieRJ3W9kXYWg74x4hjW5nlLW67NQb+8ur8quYWhdxVGaqtCx4vk8kpvYP8lKmOrX3XMw0DZKNcebbZ+ToDq66GFkvZAmkIWi1fnbO11hhcfrQPGPwIAzy6erDlzk3GSoxz5BXIceJEUZal3tUyYsTU5itk8qp313g83nTFbCpSeykf9GKupCc5x9gKfAoVHqw8t8Uyvc72SpFCQN0ZEcHZserrAtSJ4zy1DZqquY/IPiVo6fA6y3pSZ5C7cCX2XfATAR57B9HVoYPcc6f0yz6TjUe/Dsf/PBLfVNGv27cU/7Vwp/JOYejrDsN9accM922YXeGz6PfuZH9v2ZXokRgcFv+ruFO2sCnzBcv7C5T70ZR3NmRXJJs+8K7cw9a8vo7uazDeq2K2zTa/qyxH3ju0PQCPm90XoJaeNsuTVLfFyNgKqbwRVPeRgXX6K5rSwvX0VF1XtPYeRWepr6/q9hvyVHM+tl1HF/O8G4xpdcqjadMWy3RKi+mp5EvYpqe9vGyZl2TZsFIsRDlu7OR95xjzSajD/Wh2jNr7LafLJUtXfB/Z7BtLlvnZukxw5h4c58pQ58slZ7V0vJu2Rb38Me4H63sKXShDnNbyMi3zui3b/GS1TJn2Rf1U77mzWbbK8WbYN2r3iBnO5aFNaeT6enqWdR6yZO884zh/OrvtJuppYPnbTcsUM6Y4UdY5x/F2WFLLc/bSx0j9eLDkzLabuHy8K+UUWl0uELW91t5z17GCO+WEbyrAmw5e68JGKRTLyoFeUc2VGPn5AUXqhb/DgsWicmIqSJoLL7UTinHdHBdmkjMFmonhszEl2FASg3F2Kmc2adJ0U7f5ujhOT8eFoKNKp2m5zRWypsLYeh+ZpWnz7xnTFG6mp+1vOVpXTzPlB7PKqJL2NvnDtE+a1lPlu67k+aZ9bEerTuidgFPpaZZ2ginPNeUZqzSyfxwJTZ+13Edq1MoGpxl+07Zy18SNcqm9uVzeOfVZZZvNjwkLTpZLLh1HTh7vavMM1MomJ5fpEheX6UwFtynfmZapXlZJ9o8jy7Lc8DkXAhyn1rNNtZTnzDn+rCvb7uw5zumyrml/2KGW553YZtPvN+UFO/vdXEvHu7Pb7vTxrsK43o7rGUQdgZcNqCIP1uYTx6rXZmCD7NkUNUqlr7QfegWV4COzg1R+3r0TpEIWdE3Lk/eeGW+U7tXfzsAITjDeN+BEFylROMrCqa5kJ1Yt3CZ+Nwrj/nu65T054oSXJMpPWZg3FWDypu5PClAnP28zgIN6evoPTnara8JtM9MtClRJ3jdjuFHaah9NvNNUOZhhdnI23s/n7j4ypKXcR02Ft3KztvVJsy0o9wSWZZmdmJQb6i23R5wg5UnO4iRjykt+GHync/vIIj2bbty387oS299uXE1PY4XDlOea8mfXGIwwpadyHFkss+k4Mtc8GIC9V6vKm1XFdrfBQhuUS97E6XLJlePI2ePdsA9V9sWI4egrgiFZnru8TFe0wTKby27TMo3HgaFcMufy+Yha4uo5rsWyzpU8bxKV3HybSNPrLYvzuzxPye835TH5O1mGExcGuNnv0dltd6UeYm1VUevWkaiz6FjB3YUSm1HVjAejH7pb9zkRyrZ7tlJrcSI2KMfZC8qkW0w3ZRe3eJVo4g2h4oRYjq2GgjoDmbKgQgB6mxVUpsEKDu+yupKpDNCAqH6WQZvd9HSncBuOETGy8LVdZu6uErHu5vvItN3bmiscHmC4l6hrPKa0xwhqyn1UvVJa6LM/sZ+xVcV8VDWDDBTKpA8KtwzYXczzVx1X01McQ4VWB5thkCJzvQIMrWE2y1T28ZWjHOfWx60Vz5dL3sSVcskFzh7vTfvQslJpLKtN5bnC6WW6wOPLHI6IIPFHJT2tR3J2+XxELXLtHOdEWecOedHLOgh0ZuCjslqri2OucW7bW3m8K+sYekP7jcJKdCV0/AFV7B6M9Tjr4fGHT/1gdZK6glYtnIP/MmuFlFeiHv2teG9WgDndCuiI24VbFLrLbjkWg70oL6XrWNMylavJjgaUcIdME2PLo2kAmit5c3QG/mi6Iq1st9ow3beJIF3qlWKWPsrL0I2mqwjYDZ9wgCegJi6np8VIs+qMy1QrP6580GSskEQhyUGFpj3LpY7PhXLJJc4d75KpUtn3VtP/lQqozUU955fpPE8vU0nPM5U2F06tAwePnI/IgkvnOCfKurYkuzga11F5Kcebu5zb9rY63om8C0fLJNeoXtUzvq7EvRGm7iCGLhimCs2V6v6zfZEIwOXvG7vFGU9Clt1VjIxdLa3Tx/hqDuCdJu9nsD6Rmb+su+96HQ+np9PkvR0q6W32cu/ZT2a8+LEIV5Qz5ZKrx5Gzx7v1PlS6ZNq2NgtOlyEuaItlUrvx6DmuTc4d8t685nvumo41Q7fM1nF629u5HkLU0XWs4E6tVUPpQsWr16ZuMaGIcPak7dH0VFo1bLrBqVC6CvkHyaaVtmFo2RQFuTP97D1P3vckTySyMmV5z5Tx6rYLXcGc2Ufu3DfhJVxOTyfYX6ZyVbhJG99zp1hVJCpFXdvmsQjez4Vyye3jyP7xbmLch8Z7nUxdMq27zFlqeZmu88Qy7aenqRXdxOXzkQrrZV5NWtp2j5zj2uDccdvMUcau8mYD63ia/W134Xgnuop1sJY72xPFxP6Gm7daOFFeedb3H6jzbEFk2/3HxN69fZ5Mz53YXiK22fxmbbuU+6FcuOfCufS01ar7alpN5b4vewMs2NV58ny7cDk9naB0e7UdBMPYnfiKW5WNfaKc4AAp7nClXGote/d5CsrgOH1vTYPsklm3L9vJFmUHy3Sbg2W2eF/pTlScEX9U0tPYDbOZy+cjmwtZSvdVNS2uZyfjyrZbad9znD223dqN5y3Pst32Vh7vbCygq0QHC+78MPiR5q5OpuF2nT9RXjnGq/9RtiNaWvBwxWP7IizbV2/sdmPqqiCHjDYMhV2ODU2jTJl4Nj2bHwRqeV+Hse+9Zf94w0OalW4VzV3XjN3c1O4JaTk9lS5y5v9Xhst2eJVc6ZbS6ntblOWYd8NrSk+LAS8y8EfZPcUw4phZmhj2k9p6dJ487xpTl8bW3hfpano6QelGZ1im6TiS+7eV94y4TyknrngLtKf2UftypVxymtPHu4lxYBU5ErEcyc9mkBHJ5WXKVpK3DN+xux0uL9N4wVGeQ8y/Y85Ydsv0fEvJj8Z8IpdpwYXzkaFl03A+MG2H7NrX/HgFWy2vpwUlHVpdzrcB57fdzXPcFWYKuAZPNK2nnfzhEue3vTXHOy+c0tWiYz3nTj7PRBx05g/lbH5GmhlZkDt6PpSi6dkndjR1K1AKkVM23QyU9ZIPmrYJnFSWL4fxtenmIAtyZ5+X4yTD9puVpDa/a1zvviUi7X4QFVizz6qmpwWzfWGny4ZauqovV1mW1UnM3jq0lJ6mSosF1TRvZvyO5bDJbmk60Viy3zVF2e/KOyPz5+u4mOc7G1N6eSzft5Seyr52+2HBxjxieFi42jLanEo54Wa55DSP7yNTmjrxLCs7mo8ntf1tRmWdnS+XnODy8S6YvmOvTHJjmc3bZOfZXO6sp0ra2n7e6jMyvb8ON/yWTX5s8XyksP5c0zKND+q3zS/OrKeRx8r5JirHowUX86eT2+7sOc7Vss45LW2zGbXteQ2G75s/x9bx8W65v5zddhOXj3flWOFDzKkz8K6HmDsIKDozYyFkv8LTsXjTvvBQJbhNeHeeb10lg64I7iPPUiqPtsE4ta2OXM5TR2EMHu1cJCHqYLzsIebeyTjEr+xG4GYXIXKPo1HrqE0Zur+oPIuIOg7uI89ybiAV8jiW89QCeYHd2LLLwI6uDgzurhA5xO+Gcut70NrfbTNfNLvPR7kCKk+U272gNUkZIpxX0a88w5DW3tgi6UW4jzzH1EWs898r2wmxnCe7ZJ3m/U7Uc4rIM9gt8yqn1m/d8f0a5BnM80Sdnfl9Ql5xrywREbU7L7nnjoiIiIiI6OrGe+6IiIiIiIiIwR0REREREZE3YHBHRERERETkBRjcEREREREReQEGd0RERERERF6AwR0REREREZEXYHBHRERERETkBRjcEREREREReQEGd0RERERERF6AwR0REREREZEXYHBHRERERETkBRjcEREREREReQEGd0RERERERF6AwR0REREREZEXYHBHRERERETkBRjcEREREREReQEGd0RERERERF6AwR0REREREZEXcDm4++mnn3Ddddcp74iIiIiIiKi1ZIwlY63WcDm48xXfGDjoZuUdERERERERtZaMsWSs1Rouf/2G4EBM+fUjbL0jIiIiIiLyABlbyRhLxlqtcY3uxwaX2/6qz17A0bITWPb3T3DwwH78+OOPyn+IiIiIiIjIGTKoky12MrDr0ysSYd27Kv9xj1vBnXT+4iX8cPocGhrFQq65RplLREREREREzpD32MmumLLFrluX65W57nM7uCMiIiIiIqKOo5W37BEREREREVFHwOCOiIiIiIjICzC4IyIiIiIi8gIM7oiIiIiIiLwAgzsiIiIiIiIvwOCOiIiIiIjICzC4IyIiIiIi8gIM7oiIiIiIiLwAgzsiIiIiIiIvwOCOiIiIiIjICzC4IyIiIiIi8gIM7oiIiIiIiLwAgzsiIiIiIiIvwOCOiIiIiIjICzC4IyIiIiIi8gIM7oiIiIiIiLwAgzsiIiIiIiIvwOCOiIiIiIjICzC4IyIiIiIi8gIM7oiIiIiIiLwAgzsiIiIiIiIvwOCOiIiIiIjICzC4IyIiIiIi8gIM7oiIiIiIiLwAgzsiIiIiIiIvwOCOiIiIiIjICzC4IyIiIiIi8gIM7oiIiIiIiLwAgzsiIiIiIiIvwOCOiIiIiIjICzC4IyIiIiIi8gIM7oiIiIiIiLwAgzsiIiIiIiIvwOCOiIiIiIjICzC4IyIiIiIi8gIM7oiIiIiIiLwAgzsiIiIiIiIvwOCOiIiIiIjICzC4IyIiIiIi8gIM7oiIiIiIiLwAgzsiIiIiIiIvwOCOiIiIiIjICzC4IyIiIiIi8gIM7oiIiIiIiLwAgzsiIiIiIiIvwOCOiIiIiIjICzC4IyIiIiIi8gIM7oiIiIiIiLwAgzsiIiIiIiIvcI3ux4aflGmnFJf9oEwRERERERGRJ/XrdYMy5TqXgzsiIiIiIiLqeNgtk4iIiIiIyAswuCMiIiIiIvICDO6IiIiIiIi8AIM7IiIiIiIiL8DgjoiIiIiIyAswuCMiIiIiIvICDO6IiIiIiIi8AIM7IiIiIiIiL8DgjoiIiIiIyAswuCMiIiIiIvICDO6IiIiIiIi8AIM7IiIiIiIiL8DgjoiIiIiIyAswuCMiIiIiIvICDO6IiIiIiIi8AIM7IiIiIiIiL8DgjoiIiIiIyAswuCMiIiIiIvICDO6IiIiIiIi8AIM7IiIiIiIiL8DgjoiIiIiIyAswuCMiIiIiIvICDO6IiIiIiIi8AIM7IiIiIiIiL8DgjoiIiIiIyAswuCMiIiIiIvICDO6IiIiIiIi8AIM7IiIiIiIiL8DgjoiIiIiIyAswuCMiIiIiIvICDO6IiIiIiIi8AIM7IiIiIiIiL8DgjoiIiIiIyAswuCMiIiIiIvICDO6IiIiIiIi8AIM7IiIiIiIiL8DgjoiIiIiIyAswuCMiIiIiIvICDO6IiIiIiIi8AIM7IiIiIiIiL8DgjoiIiIiIyAswuCMiIiIiIvICDO6IiIiIiIi8AIM7IiIiIiIiL8DgjoiIiIiIyAswuCMiIiIiIvICDO6IiIiIiIi8AIM7IiIiIiIiL8DgjoiIiIiIyAswuCMiIiIiIvICDO6IiIiIiIi8AIM7IiIiIiIiL8DgjoiIiIiIyAswuCMiIiIiIvICDO6IiIiIiIi8AIM7IiIiIiIiL8Dgri3oCvHWuEcwaJDxde/iI4bZhR/MbJo3aNxKFF42zCYiIiIiImq1zhfcVRUiY8kyvLcwA+sO1SkzO5ZT6zOw9ITyBgPwxC9jjVPp6UgxTAknNuDDDeeUN0RERERERK1zje7Hhp+U6Y7vxEZMf2AZtjTFdBqMXzAffx4XqLzvAC4fwUd3v4H3lOBOO3kGtr00DFrDOz1y/zQTjy7XG94hchw+W5+OAT7Gt07R1eF8SzGt1h/d/JVpIiIiIiK6KnSq4K5w8Uw8+K5VZBOfhjUr70GM8ra96XI+wqjHtkNneOePp1cuxOPxhjdGBSuRmr4Bxw1vNJi0eCHmjtQY3jnj1OdvYOw8YzdPR7pFD8C0303D4yNDlTlEREREROTNOlW3zB9rVZqszl5UAqk2IFvJzpi/lBY3u84h61+mwE6IT0WKeWAnxd+KtEhlGnqs+Hw3zivvPOl8aSHee+x5jJy9ESd4b1/HcFlvlZ/qoOO+ISIiIiIP6VTBXVzKHTYtdDG/vBUDlGlPO7X+bYxMmmn2Wol85X+qzuzD1xuUaeHGlAEqLYqxSPqlWZ/J9duR2xbRneL8hmW4dxYDvA7h1Fa8YJGfZuJ/HGYoIiIiIiLndargTpswBZ98Mg6je2iAoECkzHwGnzxiHKykIzi/YzeylGnZJTMtSX3dBgwbodyDJ4mAcFvbDgyj27QS72Vx8BYiIiIiIm/W6UbLDE1Mx6LsD3Fg69t458nBCHVlMJI2pUfejn3KtDQYA6KVSWvxA5CmTErr8g8rU+6ZtHAhcrYqr/XPYe4vw8yCR0mPdZ9sRYnyjoiIiIiIvI/ng7u6Opwo2IfcgoqWR3VsgU4soOX73Jwnl+epdbNVhsJvlUlpbF8MsIywmml7Y0CSMi1lF6JQmXSHNsAf3YKUV68BmPTKH/BOutUgLQX5yKtSpq3Je8GqypCfcwQnPJzeDvdfW/yurg6nSguN+/i8nWVa/K4b9701fX8f8ktP2f+dNtCUh91ddyst7iNxPJ8vOyJ+bx8Ky8R0m93gSkRERESt5dZomfkLHsHkJcobKWkKNrwWinWvfIQPN4kKpzJb6pYwAs+9MgVpN6mMzV+1EdOTl2GL8laa+o9P8F/dNuKNl1Yi45Cx0jn6tflY9ECo3c/PGaq8wSlkPPU8Xt6qvJWmPYfd91bgrVdWYkW+ZSW228hxeOdP6bjNbEBJZ0ejNIrFq9lzkdZDTJ4S6za2ed20T4rfnWn/bsD8hU9g8gem9YnFnzfNxXgnBrZUWz/LNFDsWIJBj5gnhMrnLp9C7uIP8cInR3DKPNgN6oWn58/E+MoPMc7it+7A8gNTkKC8c3n/mbT2d/csw6BfbVTeSGI/bJiJsP+dj+eXiKBOmSsZ9vHrYh/LfXS5Dvn/+givLxCBisXvRmDSSzMx9+4IZYYdVfvw0f9bgiXZ52wGwdH2iMWk2Q/jiXG90M28NVkljRyxSStJrHfhmmV4feFu5FdZB2IaJEwYh6efSTNuozW39pEIIDetxRuvbcQWld8LHSuO6ZnpGB/H520QERERdSSeabkrWYun7n4H71kFdtL5/O14+YG5eHnDKWVOC0o24tnJy5oqna226SM8+MAym8BOOp+zAY/e/QYymh443gonTiJXmZRuiwxTptRFRvZSpqQKnHAyeTzm1G68cf/zeHShVYAlnSnDe4/NxVOfVCgzXNDS/muT363A0iefx1NWgZ1k2McT5D4+h63/by4mv2YV2ElnKrDi+Vcw/XN7O6EOJSv/gpHJIo+rBHaSruoIlopljE1f5tkBckR6vZX+LB6ct10lsJP0yF/7JR5NfgLPfO5kujncRyIAXjAX42ZuUAnsJD1ObdqKF375LJ5Ze6UzLRERERE54pngTlScS6wrzBbOIWP2G3hrj8MPGayYv9LsIeUeUCrWTZlUVXcEL7++Ea2tpupqLQPbmN6Om+FCI3sqU1IdqqvtBENuMT6SwVIsYkyPYJAPWp/2PlaUKu9V6VFS6vqOcLj/2ux3RfBV6iD9xD5+4z+fxzMrHQ0qo8eWeR8iQ6Xr6onP38aDrxU69cgK3aGNePShZcj3RB6uK8RbIr2WOnWhQ4+seY4C1GaO9pEuZxkeWeLM4Dvi915STy8iIiIiah8evudOg5j4MAyID0Q3ZU6zc1j6h7UobOEeIV2dJ4McM/7+Yr3EusmRNq1tzUDGIWXaTedPVStTTvK1XI8Tp9wfzVIGlqbnpp0q3YcVopL/zHqrdEy4tanbXsn/foL3VAIsbQ+578IQE6TMcIOj/deWv2ukQWicWFa07T7WndE3Bd/G31PLoyL4XGPVJbf0Szw/74hF4K6NG4a5C+diw9b5WLN4CqZaP4S+dCNe+GuhTSu2a+qwdcE7WGqRXhrcNnMalq+dj5z1c/Hn2YMxwKJnpP0A1ZyjfZS31ew5jZJ/LOauFL+3dSE2LBxh9WiPI1iR5UbrLhERERG1CY8Fd93GpeOznA+xZuWf8dnKt5GT8wrmjrWu9G7A0qyWmzQMled/vGGsUK58HJMsa7Au045Nx4achWK9xLplf4gN86wfUVCH3APGFo/QB+biwIFPDK9Nr1l/Tt77Zfyf8aXcb2ejF2JU55sJ6u6x5/OtmNn83LSxE97BG59bB4oajP/VCBga7nS7seJdqwq5fy88/Y+3sTtb7rs/Y83WT7Bh/jCVZ/Q5R3X/tfXviiDk1fUfYtO/xLLWinz4vNr9cxqMfukVbDP8nsijG9IxWvmPyfE9x8xacfXI/d+1ls82TLhHfHcGJo2NRWRQKGJG3oE5H7yBV63y+vElGVgng6wed2CRKb9kT7H5PXn/W3N++qT5vreyrfhgpXkQpsGkhW/j4yeTkBAdim69YjF+2jNY9oH1sx+P4I1lLQ/Po36M1eG8dcNfUE/EyN8L8kekOI5ee+kOPP5k8yspXPkcEREREbU7zwR3kUl457VxGGDeFNKtFya9Ng3jreKydTtaaNEQy1r0D1F5HhphrFDGj0BSqwZuGIBXxbpFmg1yEXl/KiYp0ya5x1xseXNIVPR9lUl7/P3h+K48z5HB7XPjAo1vDhUiwyq+Hv3STDw+VPm/IvLuGfjzTDfS3d7+a+PfHTDrEaSZ3cYY88AEjFemm0Tegf/6z17Nj4kQ7yelK9MmW0+i+RbMw8j93LKV67aRPVG9Q45WafbacRJhw/oqnzA5gqwd7rfGnsrfZRlUhg5GjFasj/nvileeriduu0n5jEK3crfjh+3bPcbEtPXARye24tGxMzFZDr6y6RRC703H0zOnNL+SWxiEhoiIiIiuGI8Ed9oJI3CbWn08aBjumaBMm5Secnh/24Bfpaovy11Jw3CbdXc/60cReFytHJHfsTPVV+S5czEPPI41794B0x2Ap0qOWQXXg5GWon5/4IBxqS63Ltrbf239u7cNsAoyugXaBs/JAzDA4rmIGsQMMB/YxkpVBQ5Z7cfcDz7Co4+9Y/N6aoFta9mW4pPKlOtOFFt1D5UD0aj87qOPLcOK75XPmNQdwxEHXTMdHWMDkpJsW07r6pC/dgNenvkGxo18AsOS5+KFJftwqpWPYSAiIiIiz/JIcGd/ZEgNAqwrkTuqHQZ3Q3o5HojEZX0jmgKbK6caJ84ok/bU6XFcmWwL3RIGY87i+Vjz2giLVktboQizvfnMyI3WRef3nyd/12ywGEd8bO/F06rM8xgRFLXuvjt3Ob644HAfxaXjr6/FWj0E35JOBL3rFryDsfe/jyxPjDRLRERERB7hkeAu94S9Lo161FpXMhPDHAZb2i5tWNluQ5ajXwoNyl87dBctEyYm0v0QdNLChYZ7p5peuz9BzvJnMHWkM8s8hWp7w0CK4MTVzqrO7z/P/u6V4Y/b0i3vOXP46uePH5VvtlrcYPXfUH3djDAHAX1L+yjygbnY9K9pmJqsNuiMmdLdeOb5DWbdWImIiIioPXkkuNOt3Y5ctZaCM7vx5Vpl2iQ6tB1a0jzFQUAS4I8blUmppIUH11mOrhmGFh6L55BW/La8d6rp5aDZJTSmt1WrzD5kZKmva+GGTLQ8NIdz2ut3W6VHBCxv96xDt2ETLO85c/RKH+A4OBKqq9Wb2CL7WQ3mcz4Cdz6l8ht2XikOeps6o1tcEua8+zZy8j/EprXP4c/zkjA+QSUozN+ILQ4fbUFEREREV4pnBlQ5sRXPzNuAQvPA53wZVsxbgnVWddfxiQMcdvnqUGwGRdmHJcsLcd78XiPTdGRvJCiT0pYSx21PR743v6cqAmFXKuKNG4A0q66yW/60EB/tsRz848T69/HCQvXAwy3t9but0he3PWAZ0GS9shAZZcobMyf+9QaGDXoEg8xez6y3GlBFpTVt3T/WIt/8uFHyU2jCrRb5CSc24IV39lnmPen8Prw1wfJ3B41b2eIjR9QdwdL0F/Cg+Wv+PmijB2B8+jT8efmHyHl3mPJZEye6IBMRERHRFeGZ4E44v2ElHhz5BO41VAqfxciRr+CNTVbP04oeh6kpdkZy6IBCByXYDOyRv/AvGJlg3M6xiW8gw9T41K03hsQr01JBmYPuaqdwwvy5evF9EdNSE4+naIdh0iyrwUfqyvDer57FsGRjhf7epEcw7vndnh3wpb1+t1U0uO0/J1gGWfKh93c/gbEzP8J7C5eJ10d4ZsITGPeK5bPwZF5/wjRCqUnoACSZ5xEpfwMmj3wEIyeINEh+AtPXKBmqVxKeTLcMLEuWvIORY+fihfnyd5fhrZfmYmyy7bPwxv821WrgGGdF4Mbe1SgsMHstX4a/fH4Ep87roZPdZU+dVT5rosF1bv0WEREREXmax4I7Iz1KDJXCc7DtvRiIqX+c4Gals51Ej8BU62f1GRi385RFA1MEBiaafXZHoWVLprnzh5G7Q5kWtEmxbj9Tzh0x//kIno5W3pjRVRkr9CVt1BLTXr/bKtH3YL7NACN6nNq0HR99sFG8tiOr1Ooihn8vzH0vXSWvR+DOKeqDlZwvFWlQZb4cfyTNfgZTrdPrTAXW/UP+7kYsXVthlQdFGqc/jt9bB5VOE7852fq5eeeQMe8NjJWjZCbOxL2vWY3iGX0H7hykTBMRERFRu/JMcBcZiBiHDXKBSFswF3OGdp5WO6NQjJ+vUsG2Iy7RvMtaIfKsh6hX6PL2YZ0yLVs+0myekdbGfGLx+JIZmORwuzSIifbw/mqv322lyAeexWfzWr5/ziBoAOYuf97uNoZOeBafTHMy+PIfgDkivabGqV1gsKbBgF/NwCe/G+bcetqhTZiCvy5w8kHy/rEiiE3rXBdsiIiIiLyYZ4K7mAn46/pn8PRYf5tWiW4JI/Dq52/g1XGddBgVWcH+Yj4+nj0YCdbPy7OiFcFd88PR9VjxjfqwIId27FamBP9hSBnqTOXdw0KHYa7crpm9bIOBoF54+pP5+OsjbfCA6vb63VbxR0z6c8jJFnnc3giSQREYP/sZbNr0HCZZPwjcgj8SZr+NTYvvUR+gxJpIrzkr38Znr41AQg+1z2sQOjYJf/6X+MzzwxDqgUArctwMrBHbOmdChPq2+vtj9LRp+Cx7rghi2yHvEhEREZGqa3Q/NvykTDstf8EjmLxEeSMlTcGmvyoPyq6rw4nSwzjl3xMxPULRrbM11rVEbN95w81VGnQLsq7Y6pH7p5l4dLnSvS5yHD5bb9U973Ih3hr5FyxVutNpJ8/AtpeGte8gM5f1OH+qAiUleoTG9UKkzXa1kfb63daS6117CscPVePHcJHPQ0XA183NdTcsy5hfrgvwh7aF4Ex3XuS/U8dwpPI63BgXgVAnvtMqZttaGxCGgT0DnVpPIiIiIrryPB/cXe0KViI1fYPygHINJi1eiLkjmyv+upyPMOqx7crgG/54euVCPG49yAYREREREZGLPDygCiF+NH7dNLyiHiv+td1scJlzyBLvm0ZVTJiA8QzsiIiIiIjIAxjceVwE0p4c0dzNckMmvjQ9F610Kz7doEzLVr2ZdyBSeUdERERERNQaDO7agHbUBMxNDsOAePlqwJcbCqGDHvlZOfjRME+8ktMx1ay7JhERERERUWvwnjsiIiIiIiIv4FZw1zxipMJX4/5ogURERERERNRq7gV3RERERERE1KHwnjsiIiIiIiIvwOCOiIiIiIjICzC4IyIiIiIi8gIM7oiIiIiIiLwAgzsiIiIiIiIvwOCOiIiIiIjICzC4IyIiIiIi8gIM7oiIiIiIiLwAgzsiIiIiIiIvwOCOiIiIiIjICzC4IyIiIiIi8gIM7oiIiIiIiLwAgzsiIiIiIiIvwOCOiIiIiIjICzC4IyIiIiIi8gIM7oiIiIiIiLwAgzsiIiIiIiIvwOCOiIiIiIjICzC4IyIiIiIi8gIM7oiIiIiIiLwAgzsiIiIiIiIvwOCOiIiIiIjICzC4IyIiIiIi8gIM7oiIiIiIiLwAgzsiIiIiIiIvwOCOiIiIiIjICzC4IyIiIiIi8gIM7oiIiIiIiLyA9wd3Oh3qLygvnTLPGY06VB45itKqOmUGeUzjZdf3h6K27CjKzypvyHWmtK+/rMzwImcrUFxWq7zpnPSGsqqd9039aZQeOY36RuV9G1Pd5iu8Dl7DW47vVpwj6ApQ6lV6Hp8dhl4cLNwnZOIzb97LryjTXqn0y/fxyke78O8s8WqMxPi4QOU/DjTWYttHS7FwTSG2bdmH/ddF4Wcx3ZR/UquVbMEzr69zfn8o6vPX4ff/k4MtG8sQNCoeUdcr/yDnnduPxb/7F5af8EfS8HBoldmdXn0Rlr+yGv/akofqiFswJMJX+UdnUo7Vv/0nPszSYeDdfRCkzHXPZdSUluF41VnUXtMNQf7OXserRvaby/Fx1j7s0fTG7bFtXe6pbfOVXgcv4i3Ht5vnCLoyTPUqfdwIDAhWZlI7qkXu4r9hwYoTCPkP1o2I3TLVHduDVQcalDcNKP+qCKXKOyLq2Op0vNwPXETRV6vx7sLV+Or7i8o815yrM5WB7acjrAMREVFnwuBOTdcARCmTBhEBCFAmr6jSHLw5f6nyWoe8zt3jrNX8Esbj1efvw5x592FUd2XmlWbaJ1kVygznlGYZ92P2FbhKcCV/q8Pw64/J8yZi1rMPY1qiB47W2gIsl/v50wJcXYddGJLnPIw5Myfi1XstSsErqCOsg1FHPJY62jq5tT5X7fFF5J6r8rxObmNwpyZsKKY+2h8x3X3h36c/Hps2FCHKv66oRh3Ky84pr4uoY19qBPTqg+ge7djZyLRPLrjYonDBuB/PXYl9eCV/qyPpHoF+scHw80Sp1tiAc3I/n+1ELUfHc7Dgg0xs2VWBGp35ejdAX12BXVmrseCtHJQrc+3yC0Z0XAQC2vPs0BHWQeqIx1JHWyd31qczHl9E7elqPa+TWxjc2RFySypmvz4Df5mTiiHtEtkRETmv8kgRSg4UYeXSVXh59j+x/KBxfsGyf+KZP67Cki+OouRoPgqOG+cTERGR9+mcA6rUn0bx7jxs3rgVqzfsx+HKS2jo2g09A21bdM4eysW2EuVNzACMj70Gxdu2Yu3aLcjMr4ROr0Voz0Bor1E+Y6BD6dZv8e3+oyguPooqnwj0DrYdoKG2rAC5W/fg3198i68PVuJMnQ7+gTcg0NHNrGcrsGvnbnz7701Ym12Ck2cuoP56y3Wvyd+E7F3yt8tx+ES9MlePxssXUFlqXKf6oD4I76L8q7EOlQfy8M23u7Dhy+34xrAulxF4Qyi6apTPtDF9TTlyt+1E9npjup45cxHXBYapD+Rw5ijWb68y7o+4QIvv7iw9i4uXtAgK72a1T4T6cmzZsBf7qnzQq3cgbDbNIl98r5q2auqripCzaZdhP3535BR+qNUjMESk3XXKByzyg7JPGuvReLrSsC+Ki3UI7RcKf+XTTUzrKz5TWFyFk2eBaxovoabcuA+L6wPQP9xP+bBRy+tih7O/dakKOzceRXVYH6QMD0ej/L0N32H1l3tQKI4jjfitG7o6GIzEPP/mHBPrp4NPlyCEOPqOueoirP3mQNP6uL3vz5Zj27d7kXfQlPamfXQa10VFIMiUOax+r/ZIPr79ehtWrS/Eyfof4R8cjiCz47Xp2Csqw/fHLqDusg4NF6tRYtjPVsuW3EkPs+9kF5zChXqNUgbVolCsVynCMcrlAVUuQ/ejD7Q/1eKkyJ96Za45TfdgDBt7K4b1E9vs4JAwpYFFGWOV/g2tyDfObLPqOphxqbwxsbsOp5H3ZS52mo5jV49bObJykTgXbM7Fl6L83XfcQT6WGmtRmrsH3363E5/byYc22uH49mgaKZw+vqzOES0dt9bMz82yHL1Qfy38Q7rbng9bLFcUru5jG1blU0M1dm3einX/+hZ7jtfjp+43oGeAsl+U/PH1V9mGfaC7tjtuCPODxs7vNG/rDuyvFGmqDURUsDjArcva4wVYv+Ugis9qERPZDT7K963pj+eLzx1CcW0XxPTsovo5U70qZuQIDOh+GTUl+5HzjUybgzjmzHm3A6enS2WLVRobz98HbOsobtZNnD7uRXqU78zD/upuGHxHPKJ+Oo2C7d9hvajnbjnU8jZbrN+OE2b1R/XzqkX57Necvmv32KtTO0EvlrNzD75pSqOzOOcTiPDuWvhYL8vquG3N+citekwncI3ux4aflOlOoWbXOixecRjlKmMm+MclYvqjIxFtdk4p/eJdvJWlvBkYhSHHypFnPb5Aj754bPp4sxa6WmxbtKTpynf8lGmYPsLsPp7ao1j7t3XILFHrUuKLmNTxeExUVCy6FInCrDTr//DummrVipdc96cfG4kocaxbrLMdyc/OQlqsmKgpwvJFmdgmzoM2RCGf/OhEpA20CTs8RxScef+bgaXbzqlsly+ibh+H6Q/0tUyLI5sw4+18ICUVL/rvxgK1NOkShfRZ4zG6p1nhdzYfi36/CQUDx+JP0xMs7oOs2SvyxTI7+eKWsXhxWgJCrMtmXQWyF2cg45D6fhySPhFTk8JEAW2ZH2wlYM7CsYhW3jUxra/y1kZKGt6/X7mnyOl1scPZ32pKw0RM61uKZTZpL/LvvWl4+ucRVr8lTh4i/773RTVsHw4i9rPI87NEnm+xS2Sr930SZo2swMqPD6PS8A9T2pv2UQQmvz6x+Z5M0+/dnoTH6vdg8Xbrg78LRoljZPItxtzk+NgzX7Y76SEqNFvXYcHKctvvaMMwYdYw1M3PRLa9/OQscUzu+vsSLNmtvBeG/2oapjp5L6IpDZrKGKkV+cadbVZdB8md8sbVdXDluJXl70dZ2HZC5bgV+XjynDSMClPeS7pyZMzPQLZNeS2O8V89jMfs7aMrcHy3WRqZcfr4cvG4beKoHBXnw9QnJmFCP1fKFcHVfayquXxKmxqBvBV7UGJxrvIV9YyHMf2Wc1j732uQafVbmkFjMe9xq3OYrhpblq3Cyr2266WJGYrZd17Gmx/KslbZF/rDWPXiOmzWWZWRFk5jy1v/xMqjWnHsPSaOPfUQsOn4fGIi/L/OwFqVupD/LUmYPWUowq3jl46anp6sy5jVUdyqm5g4fZy1lB5KnpiRZKhjmqs9mIVFHxeorJ88xlIQnbPa5rzatP8npaJ+o0r906ZO7ZijNNJExuOxGSmINz/UW1HOeaQe0wl0qpa7mu2r8No/ynDGziN89KdOYNu+Sxg4og+ClADcouWuuhaVtkctcPE09hSaf890FcTwX9ww+BYMv1E5IuTJ+b+/wNfH7XV8bsSZw0Uo0EdiVFygctVLBHar/4m3vjor/qtOrntu6XUYkhiBhiKzdbbDcMUsuA67VqzC2sPKTGuXxe/uO43I/4hDeEstP24RlcgP/4mPd9fDJ7IvHvzNeEy7fxR+nnIrfnazH3SlR1Fw4HurtBBMV2VPHEXuwUuIGf9zTP91CtImjEDKiBsRpD+J4pIfsG/HCQTdGo8oU2xqdVXaVEbpRQH79qJCnLxeVEKe+AWmT7kdE8aPwM/FZzRVR8Q6lODbH4Iw5pbQ5gO9sQKZb67C6mONIrAeiseeSkX6Az/D3bfHY3jstag6dAIFe/cjz7c3xsQGwT80AoOHxWHEjXXILawFbhmFWb8cihGJYl5iJCJDu1gVIoKPP0Jv6o3h4jOR+iIUilrDkLT7kJ4svyNeMWEI6Sa+pS/H2j//C2vN1+Vusf4pN+O22J9w/EAFCvMLUR4c15wPrTn7W6Y0rK1CgUj7qNQJePY3d+K+u4ZiVHQ9Dh+owrGDh6Hvf4vIX80lXM32DLy5qgqNYj9PeuoXeDQ9CRPuGo6km/1Rf7RMpFUh9mlkWrUwbH1r973fBVTnnIB+UCIefPBWsU974IYe3UResLpyabqqb/q9ipPYf8wXI6Y8gOkPi/zx83gMCa7BnoJTKNlb1fRojesDwjEgQaTXQF+czKtGba94THt4FMYY9nMvRPUIhL/IyO6kh/zO/1txAjpRyRw16T5Mf0jm06Fi2aHwP3kQazNLcPxyoygj3Gm5a1a7czXezbwgluML/y7XQq9vxMlDZ50uByyuypuGOW9FvnFnm1XXQZyO85b+HYt3mJU3D47G3XeKdRgkypvy4yjYV4QtVse6y+vg7LEkzwXvrMWWimvRf/wEzHoyFb+8dwTGJ/fDTZoK7C+owB6R98zTvXzjCvxzz2WEp9yHV55JxX2inLpjsA9O7DyG/Xtq0GP0APRU20dX4PhukzSy4uzx5epxayAq59s+XolVB4GoUaMx/al7MOmBkRh/52AMDqsV2y32x7ZC+Aweir6mimJL5Yob+1idqXy6hMOFJ6ARlfqZclnjbxX75TwKd1ejtKgKJ8v24ttKUUGfeR8eFXn75yODoTt0GCXiXPpDyMDm8t+wrSuwYl+DqPzKMug+/DpNnL/uFOevmGtxMmcP1ov81Cj2man1Ez7BCPf/Ht8UVKPCrzduv0mlrC7bhU/WVaCuzyhMuyfStjeKwnR8Hj8g9n19ECY8cj+m/ecYTEgV+SxeHosnDa2xOSf9MHxoOPxNLS8dNT1bW5dpPI2TuecQePtoTLonAaNib0BQiJ8h+HO5bmLO6ePMMj1qIxPwX08/gEkibVPENl8+fBSHy07gUGMkfma2/rLutOB/9uPkZV/j/nj0dkOZZDwXH0P2mgIU1Irj/rLlebVp/39/FMeuj8HkGcb89/PRomw4I+q/h09hzw9+Tj2OpXbHKvxxqajX+4qy55fj8djDYzBepPvP/6MXgnRl2Ce2Z+cBy3p9u9djOoE2j09XrvwGs2f/1fCS0267UICMZRXN0bk4CQ2/fRQmT0nEmDizptSqfCz9qlzlyouRJrIP0qbeh1lPjEWy1feWbW5pBMTLKP1qXfNV1x59Me13M/H+wll4/+1pmD6muf9QZZb4XJnypmwHlmY1X3lsWoeZKZhgtg7677di+XenERCdgNRU8Uo0f4CMFvFjlPniFWM4OdVAlF1NotIeMq7LH5MQr8yD7ii2HbS9RuEJ9Xu/wTL5yIg+QzH7t+MxWg5m0VVreIXEDsXk59OQ3MOYFmuPqETkOqDflIfx9F39DU3vGo0P/MKiMPqhqXgxTWy7rgKr1hTB1DFVlQjSsv+ej0p51ff5h5AaFwyNkqs1IghMnT4J6X1E2u7+BptN+0Oo3JqFtWI/ht5+H16dLtKrRwD8xO9rugYg/OYkPP38WMSLUqlyTRa2VPsgJLoP+sWJV29ln4SEG98bXmGw7YAkaAIQrXwmRrmCFdLb9B3x6mk8dZZ/swGZYl00iSmYZ1oXQzrKdRmL2b+T69KAgmWZ2HbW8BVbTv5WE10Doh6chNn39EFIV7HdWrHPbk7B9Acj5D+xZf9J4+ck07EXHI/pYj+P6uVvTONrfRDQKwGTfzsOYwxplYNdF4xfaZG7+77sNOqS0vDiYyNxq9yumyOcG8lW/N6o6Q9j8gjxeT+xvX4BiEoSldgUeeqpQN4h45h9fj2V9OobZlxu17DmNIyLQog8j7qTHheKsPYzWX5FIP3Fqcb1kOmu0SKgR3+RT8W63STyqfJxt9WIcmylsZzUDPoZXpybguFyE0U5sHRZPmpaezO+S/nGs9usP7gFS3eL8mZgEua9oJQ3WrkvlfLmt/cayhv9bnFsH1LKG3fWwdnjdqPxXBA/SeZjkR4ynSVtMPrd9RBmPyjz8VF8vrX5vNJQZ7w0HX9z89VhvxuHY8qjiaJcF58/a+fKZZse322XRtacOr7MOXncSvV7srBcnI9Cbx+P2Q8lICpAqcJq/BE1Qsx7tL+oQF/E2g0FTpcr7uxjxxqgj00SwbNYP1nuGfbLnUgfI+oBoszLO6DFhP8S500lb/uF9cfEXw9FqPhmwZ5SEYIY1ed/Y3xck3IsjOolzhmGY6H5/NVP/Ja1kFsSDeXBqax8FNsceHXIy96HU/DFmLvjnRpETo8w43n3ZrE/5f6R2yOPxRcmIk2edw98i7X5zfWPDpuera3LHK2Fnzifzf5FAuJl/uknvu9m3cSCy8eZSI+IUXjxGbH/w2R6GLc57amfGeqEp7YeQVO7hFy/T+X6aZE88zfG/SG2t/lcPAmzxHGmNxZZqvSIxfTnm/OfX/cIjP6VKIfFbsTBIhywV18xEWVPhuF8FYwJsyZhcpIoA5R0N6yDSNM5KaJeba9e3971mA5MyWptQwZzW7buwyXdj4aXnHY3wKvZuwd5yjRERkibPRVTfzEco0aMxESRMWfdbiolZMFVoFJwCT0SMOu39yH5VnFQ3JyANHnSGNQcXFVuaOF5dvpS7Mwy5XQtxtwrKuIBDai/oEO9TouYcUkYo/xXZqzMPXJcussozpUFpsKQsZR1iIs3njjN1qHk6wLUJYzFhHvE6z/Mu7UEY8idynzxGqJ0WxDn3yblG75GxvYilDcmYLoM8pTX9ET1E62J7GNefOiozavSYQavxd6co+JgE4XnRNumfgNtFCY8KE+oOmTvKrU9MPuMRLp5d1cz4WNF4CsKCP3uQyhyFN0dK0LmafE3aSiGq52Nrg3G8LEyHcX+2GcaJ1AU+tnyS2L9xtlpgg9JUCpcUSJ9misQHtdYjp0bZOAfhSlp8eqjA4p1Sb9flpYV2JIv19sT+iDZ4uKBUUBcf8NJQH/ydNOJr/ZggeHYi0oeCvMeTU20fTHSUNkqxw5nLyS4ve+jcFdKlPpVTkeCB2PkQOuV90H0zXGGqYLKc4a/znAnPeq/P4SdougIHZ+E0Wpdjq4NwKhfjESM8tZtPtcjPFSUJ7Ksk919Avpj8vQEhIsKW3jY9a6nmw3n841nt1mHgtwiY3lzz1D1bkyyvJk2Vhyz8fC7cNpQ3rRdupcjz3Au6I8xdrpShg8biiHi76ms5vNKQIgx7bZ8vRPlZuVrwMCRhnL91hub2gRaqb32k4c5fdzWoWCXLN8DkfyzPqr5XBOXABk/Y69sjTDOa6ZWrri3j1syZqx1NzwfhPdWEn6gqNPcaJxscmMUEuTfg2dQY5ihQ1Gecu61dyw0nTOsdO2PZFk26URAv93qXFJ9CNny4olM8zi1gs1WzP0pGKV63g1D8kQZRDVgZ165Ekx31PT0QF1GpNkE621yq27SesOTByPcOk90j8aQgeKv7gdUmPL+ycPIEYE2bknCXar7W4vo8WMNAY89oeNEMGv9f00UbhkqJypQaUxgu2oP5CtlTwpSezleB/V6fTvXYzowtWLBY3bsOKRMNVOb17LLqBQ7qcmwRIzqqUwbaNHvtnjD1RijoyiXmdZK/zuGItp8p4qT1vDRZjd0yIzv6EpDba3SH1/SYfPiJZjz4gfNr99lYrPyX0lfXCk+fxGnTjZfQdMk9rfMWPLE+eSMpkDs/VdF4aL8q2U9Meh2s9EGLlYje1km3vzjQsyY/QEWrNyD0paunAj13+cYHnZs/VK9j6/JOVQa7kHrixjrwtOMprcoVOREgTjQDXOaRQ3vY//q4LU3IEoenWJflphdfLFWW/WDsaDdswkL5hufA2P9evcr41VAfZlyoJ/9ASUyO93UB9Fd5Qx1pgpXcpz6icgjak+jUp7vWlgX2XIo83d5SbXjlkxn3RSFKNXmRls1J43pV/n1GtX0la/l3xmvZhacbKE0V7i973tF4UYH6WRXgtheZbK13EmPymNHDX8TYuUVRTvC+mB4L2XaXd37I+2FaYbWaFNZp5FXtv8wDS/+or/6xQNXuJBvPLvN4pg13EPYQnlzY4LhmJ1wq/H+1DZL97OnlftDjiDjbfU88OaiHBTLj5idV0ISRfAZ6Qv9gW1488V38dxrn2Lp/+1EQZWHKxPttp88zOnjtgZlB+Tfi/jqE5V9IV9vbcBmQweaCpQpt1w0UStX3NzHjoXhxh62AXxAyA3GiZ7Btj0RrrX+vHPHQki/ONW0ixo50lDxlReSy81a8st37YC8G2TIvcMQ5VQ5EYjh/VQCSJOICMPvYLdy7u+w6dn6ugziI2wCKrfqJq0Whn6qQZKt2uMVhkaH/nFR6j2PJE004hOVaRUJfRyUGU6oqTRuv8OyRwSL/QbJCZV6fTvXYzqyNg3uPOcizpmndYDWNjN2DUAPZVIGXkrvFwu+KhdFNVoHQ25ZE8GdLPycVnZRVMTPocasyT28m8rQb27zQfSd9yH9luaWvyY6HUq2bsVbry1FZqmdrj4KTVjfpu6e5i9j18+W+DZ1NVCl1RoL19OXbTqJBGhV1ruJD/ydK6MMNBoHy9J2QVSvQER1t/qM7IapTLa7ltbFr4sxGKq/ZHvV0B1ubLt5K7GNACWNnRxtyu193/U6u/eBOOSjcvC3klvp4XA1fOHrTuBq7Vp/hISY/5APQsLcSjVb7hwzHt3mFsobe9oq3WVXOGXSli9CZB7o1QVNA+3JFoAXHsacKfEYEqmFvqoaO7/ZhkWvLcZzH3ug26xJu+8nD3HjuDXcs2dHYA+5PwIRaJ2HHJUrru5jh0R54Pom2dHSufc628BG6j4IKbLb4ul9yDZ1mbxQgMx1otKk7Y8xCc6WFf7wdVQGigJStZTvtOlpvy4j/2dvm9yqm7jN9fRQqxc3a6Ee5qm0d7gcLfwNCa9Sr2/nekxH5tTh467ERGPXCXNq81oWgIheZomdX25xxUmqP3zEbEShMISrjARVXK5cSTFTc9K8OVxkIkc7PiQI/ZRJedUqfV5z10f1lxxtKwQRNylfEcoPV9i0vNSfNO8O6WLLjDYMox+dgXf+OBHT5f2HCaJQVP5loDuHtV8dcHhVyC92qPFqt9XL1PVTnS/8DRftTqPGUffN6mrjlbiBQTYtNQUnHHUxrJX30guO94nsYy2F33kvXnx+quPXQ/HGwrlLF2Mrb2Vt+z8QVHu9cX+1sC76qh9QJCfUrkS2MV9lBwz/xcPq6Wr+SnHuSp4n9n17cSc9TN+pOeOghabxtHIF2Tt4dpvFMWtoOWqhvLHSZuluOm57DMNUtf1u8RqPIeYH7bUBiB6RgsdeehLvvP0kXp2ZiCE9gLq9m7D0O0fHRdvwjrxpOh/FIu1ZtX1g+Up2Zija1uzjNuXkufeHajujLPqg3+hExMguk9mHDF0TTbe9xNyfiH5O15YrUPmDMqnmrMgz8m+wjww5On96OqjLqHGrbnIFmdav6oz1SLTmxLn4mDLZBpwqe8R+qTwi/0Yg3JmEt8P0W56sx3RkbRrcpaffjtFJg3G99jrDS07Lee64sW9sc4R+eg+W/l8RapRIrb5sJ5asMAvS+sShv0om0G/ehM/3N4c59cd3YuUXZifTW/qiv6Mm3oAoDOqjTOMcMj7fY3mltf4oMhc2N/G++X+HRaDmj+h4s64L4gS+xOwELtdhyYLmrpCLdpmtj9g7zeVsBfL2iMDP9Hvyb9UeLFJ+a8HHG1ASnIiJj/0Gf3nvMUw3uwexuW+5J0UgfqT8jXJs3m2vQnIZpTm7xSfESePmKNvCa1s+8uwVpvK5JbIyERyPeIsuuJb8ovsYun6Ub7HsYmJOX5aPtV9uQrbp5ntNT8TcIv6e3oecQypNvAZ1yFvyPmbMfBeLdzkqeFrJT+SpFtelFjs3ydDOF2PiHCRGG4mKjTPkw225Mj+rq9mfY0jjXccdtxI38cC+by/upEdUnLHbeN6mAlTayaf1+fnYokxbaLxsuK9Xb+d7HVWrttlGMKJvbqm8Ef/9998Mx+wflO5Onl0HM34R6CfvYRFlS569h8LrKrBN5IG1G48aL67J5zhZX8DTaBESNxKPKYM8lBSUGz97BbVZGl1REeg/VIYQR7DzgJ3yurEWBVlif3wpzhXOdH9wZx9fEc6ce8X56zvD5UB1PeIxRp53ju7A5oNFyJb1IG0fJN9iVldxwhbxG/bKwMr8fYbgMnRkX2P30E6dni3UZVS4VTe5gvxu6qvc35iPAntVj+P5yP5emW4DzpQ9+iP7jIMT9hH1c9XHdzinTeoxHVibBneSDOYWLHjK8HI3sJM0/UZhovngJ5sz8fKz7xpO5HPmbzPLnFok32tvpKeL2PzhEsP9aC+9IL73ptX3xsbZ73tsEIyRd8ubao30B7bi5ec+UIK5v+G551Zj7aFzKC+TrwYMua2vYXnyPgs50pJRAwpW/BMzXvgb3vz9+1br0AWpY/s3r8ONN2KUWYxWkPEp5jxt3OYMebdxWARiLph+7xwyP16JTPmA2OJSlBwzy5ymK2ceZui7L9av5LMMrDILmk1qtotgVd5Are1vNfKnwjCC306UWx9pZ4uw6qNtKBFrHX9PguP+/90H4S55E6wIdGXAX2tdQFQXYNXfNyEzsxyaIFOR7I9bxw1FuNgXmz9ejS3HrUq2Rh3KN39pHJmvx1CkDjVrC9X6GAojnKx2qQuV6apRZaV1Ovkj4Q454IX9dSn+UqSvDHb6JGJ0v5b7Qdj/LTfFDsVEcVKWoxAu2Wx2gUFRX7oVS5fuQOY3l+AX5mQ/DU/s+7bU1KJabbwn0pw76dErARNk+XV0Gxar5FPDRZ5l8qZ+K/IxGW8sNNzT+9xH+Ve84t8q7m6zHVFJtxtG+rNX3tTuz8TSNRfFvuuDB5KUK6+tXAf7x1IAho9LEGXBRaxdkokC6/uDGk9j12frsDwzH8U+AcbKoOYiij6VF/EysdPe/cwi3zVf0FPn8eO7zdLIAUfHl5uix8oRARuwc9mXquVoadaXWPyFqKxe1CK8pUQ2cGMfXyEOz73m5y+7xHlnrNw2HbIXZWKzSK7QlEQMcbHrrb0yUB6Liz+TAWMEJow0tYJ00vQUWqzLqHGrbmKfx4/7rnFISe0izsVFWLzEzrl4yR7b+ws9qYWyB9X5WCrOe66M4GpXW9RjOrDO85y7a7SIujkCuvxClNptRRYVwgcfxKRhAU1deE3P4zDQ+kIjn9Vz+TJ0Fmcq+fDCCZg6orvyPdMzQwxvLJ5z5xMWhXjfY8gtqjM0nkEsq/acTrz0Zic/4wNW0/obvwPfQAwYeB2ObS9DtSnm0utRe8k8d8mH2D6E9AHKdyT5XJrAMny7Tz6zypLh+U8h3dC71yXkba+CoRFEX4fivCLk7ijB4TOmb/hi+EN3Y0yEU2cz11wfjiF9L6Fgbzn25eZh0+6TOHu+CiX78/Hlp9nI2HEWelG4p89OxfCmB5QIpmfDDIzC4KMF+FdWHg5VnUVNeRnyN2dh6YpCHBb7ODzlfsxKvqG5O7bp2SZh5s+5uxZB0ZHwOVyEPXnFyN7yPaprz6C85CgKtm/FJ58WoOSifKDpRPzSfESogN4YFHoSuXtOIO/bPHx7qAK1NZU4LNd9xSas3VOLxi5RmPZMKgaY3ybZ9Tro9hSg+KjYLzmHkLdLfHfLeUQm9Xb4XLJAbT32fFuB0gMH8G3+QezKEd+7GIKfxQbCJ6iP+rrs3YNVyzYiu1CHxh79MX3GGMQ4cYuoo99ST0Mzqv8Xx15MEM4WFmPPjv34JqcMtXXVhucY5W8UFerVx1FzuQuSn74PY8LM9rMaj+57c6Zj1s5z7kzPerJm7/8aUfWs2oc9JVXI/e4A9u/dh2+/O4br4+PQ83p30kOLnkr5tb/gsMinB3DydC1OHj2MnC//jeVrj6J2cBT6iRN3telZYvJrZXvx16+rDMd/4w++iLm9n5MVU/c5fM6di/nGrW0WVNfhulDEq5U3xYewZeUGLBcn7AvaQKROfwBjwluZ7gqHx21wBPrKc8GeMuRu3I1Dp2oN+bhYliH/2IJvSvWGhyXPSotWnvPVDTd0KcOW/Gqx/odQfUGPhmsv4Oj277DqX4U4oRdl9d1jMLyFsrotju+2SiO7HB5f4v/uHLfifBQTUYPCnWJ/yHK07DTqK4+jWOSP7H9mY3W+OI/2SMBvHx2KEFP2aCG9XN/H9tgpn0wcbm8tCteLeo952ivn3rzt5SjYbXXuNZy/6jD4lh4iEBA1Aztp6BMs6kkH9ylBVgQe+PUI2/Wyw3R8xt8SidLs7/DvnO9ReUaed82ORVEPSn56IpJ7Np8TOnp6ul2XUf0dN+smdjg+zlpID9X/i/Xr2xdB5QeQd+CYqMfYnouPdY/CgCBx3J+zXK5q+Wympf83M5Y9jQXfI2+/TCPLsmfpF0dwUpSL8Q9OxOThzfV6d8s5j9VjOoH2ui7uHm0U0uZOw6zxEXJMFQv+ffpj8ou/wfQxxlHSVCWl4MX0Ppbf7RKMMeLgmn2Ps8Oriwzy84fw6tOJGN7HOgP4ImDQUMx6/TeYfIvVlZiwoZj+ehrSE4ONVyzNmNb9MZXhgUNGTMSrM4ci3s4Nt5rYsXjxdylIHmR7Q69/nz5Ie3oapt5i/YueY/j9efdhgvh9fVU5NmfmI/OboygRJ4yYxETM+sNEjO5pp+DqORyPzb0PaYOuR/mOAmSK727Ov4g6wz55CC/e7+Q+EYVu6jMPG/NFw2ns/Easg1hW9o7TgJIG01WG3Q9JTMOrL47FmD6iuBcFbrb5uieJ7XolDbdaXyq6VvzWLOP24qzSamp9BVLNjUmY9bTcj+K3Thi/V3O5eZ+qrsvWclQ2aBGfkoJ5z6ci3tlLmS38lltCRB6d8xAmJwVDc7bCuJ/l/jpwGX6D4jHtdw8jLdbOflbjqX3fZvwx5CFxQhHb63/xonE/V11uLjHdSQ9ZfinfkcvM2yq/U4CdJ67HkHSx/6cNF9UNKzfGGkZXlMKT+jvuNt4RubPNDqiWN5lFyBP1K0PZO28qJngi3U0cHkvKucBQPgMlSj42lCEIxvD778Orj1sO0x6QKMpzuTy/i4aBVJYszMTyTOPnx0yd5FxZ3RbHd5ulkT0tHF9uCrllPOaYytEDRcb9IfJHQb2PUo6OtRwxu0Wu7+MrRR4Lxm31RZ3Zube8y40iCBH1ibHKiJF2BaPfUOOVS82YoRguts9V4WPTME/UhYZ0qVXOu/JYbDDWaVTPCR07Pd2uy9jjZt1EVVsc93K09seV9RMBoGl/bM7XISolFfNeSHG5NddlouyRg0wZ08is7CnRQWNKI0f1eld4uh7TgV2j+7HhJ2W6c5H3odQp3Q40Wvi5sj/Mviubum1HSDqNLfP/iZXKKJfxUxwcgDod6pUmO/VlqXB33fXyeXoOfkf5v4GraeIJLaarA03r7gu/rk3XZyydzcei329CwcCx+NP0BPVuG+6mrZv7UX/ZBxpXSx29+J6P+J693zDbjy6no7WWfssd5mmsFWnsyvYf2YQZb+cDKWl4XwRwBs7s+3YmVlFmJ3XupIcrx4rhs+iwaeM0V7bZGe4cJ61ZhxaOJb1YmQZDzwzn8rGrn1fVxse3p9PIHofHl7vcKdNb4JF91hZM2+oj1svPyfVqrEDmK6uw9nQXTHjxN0h18BgAZzSljQvn3Q6bnp4uqySzZba6ftbRjnsP0l8QeUJOtDaNWmK+P1ytx3QC7bT7POBaH1EYiB0iX65mALPvqmXg+uJ92Gz2+AKHZKZwsCxV7q67zOyOfkf5v8vL9ZQW0tWhpnVvZQHvbtq6uR9dDuwkOXyvo98w248up6O1ln7LHeZp7IkC0VP7vg2JVbTPnfRw5VgxfLbjpo3TXNlmZ7hznLRmHVo4ljSiwDEu27l95ernVbXx8e3pNLLH4fHlLnfK9BZ4ZJ+1BdO2OhvYCfpD+caHbN8yEmNaGdhJTWnjwr7ssOnp6bJKMlumK2mkqqMd9x6k8VQatcR8f3hZYCe14y7sgGSrghyg5b18s5tItYi50dn+cNSW9CcrjEMR+7U86AARERGpOY2c9UXQi/pNywPJEVFnw+CuBeEp45Hsgata5L7avesMo5H+bpE8GflizG19eDIiIiJyg2F4+aNiok8ixsR2sFYzImo1Bnd2+PeIQvLUjjCwA0Enb7i/CH33CCQ/MQkTB7Z1ez21mWu1iOoViKiurbwRnIiI3FCHgl1H4SfK4eR7Wjm8PBF1SJ13QBUiIiIiIiJqwpY7IiIiIiIiL8DgjoiIiIiIyAswuCMiIiIiIvICDO6IiIiIiIi8AIM7IiIiIiIiL8DgjoiIiIiIyAswuCMiIiIiIvICDO6IiIiIiIi8AIM7IiIiIiIiL8DgjoiIiIiIyAswuCMiIiIiIvICDO6IiIiIiIi8AIM7IiIiIiIiL8DgjoiIiIiIyAtcFcGdvl6H+gs66BuVGc6qP43SI6dR7+r3iIiIiIiIrrCrILirxc4lH2DOi6uxs1aZ5ZRqZL/1T7z19j/x0ppyZR4REREREVHHxG6ZREREREREXoDBnV1hSJ7zMObMnIhX741S5l1pdcj7dCnenL8OeS61OhIRERER0dWGwZ0jfsGIjotAQLulUgPqzp5DedlF1PG+PyIiIiIicoDBHRERERERkRe4Rvdjw0/KdOfRWIfKggLsPFiOgmOXEB7bEzH94jE8Pgx+NuFqLbYtWoLlByMw+fWJGBVg9t1qH/SL64NBN8ehXw+t8vlmNfmbsK0ciLptLIaEKTPN1JYVIG9fOYoOVqI+/EbE9+uL+IQ+CPdTPqBCX1OOnXuLUHzoOCq14YiPjsCgWwYhOsRH+YRQXYS1uRViogHlOwpQcFqL+DFxiFKWGzhgJEbH2q4vERERERFdvTpdcKcvy8Ff39+BoovKDHNdopA+azxG9zQPfMyCu6cTULoyE9uqlH818UXU7eMw/YG+Fl0wS794F29lAcnPzkJarDJT0lUge3EGMg41KDPMaAOR+sQkTOhnFXw11iLvfzOwdNs56JVZzax+/8gmzHg73/gvFfFTpmH6iADlHRERERERUScL7vSlm/DmgnxUimCo//gUTBzZB4G+4h8NtSj59msszqyGXiuCuN9NxKgQ43eagztfaLQiGAvti7SJIzH8xkD4Nl5EzeF8rFq2xxAshqek4cX7o6BRvqka3IkgbdtH/8TyA0DUqJ9h8j2DEBXgI1auDuW7v8Hyzw6jXNcFE178DVJvVL4jB0ZZsgSLdzdAE2n++w2oPVmAzFU52HZC/G9YKv40rT/8LlSj+LiMXi/iwJosZJcFInnqWAzqalyaJizKsqWPiIiIiIiuep3nnrvGCmQvMwZ2w6dOw9N39Ud4dy38uopX9zDE3/MQ5k2JgEZXgeUr80VIZ60B+u4JmPXb8RgdGww/rQ80fgEIvzkJT7+SijFaoDJrA7KPKx+3o35PlgjsGhB6+3jMfijBGNhJGn9EjRDzHu0vgsOLWLuhAPXG/0B/cAuWisAOA5Mw7wXz39ciJHYoJv/2XiT3EJ/bnYW1hy4DXcMM3UX7xUUh3BDQ+SO8r3xvfDGwIyIiIiIia50nuCstQqbsTnnLWKTf6m+cZyVkRArS+oiJg3uRp9L1csyDSYhWu1XNrz8mTJKPO7iInIPyXjd76lCwSz7QPBDJP+vT1MJnThOXgNRgMbG3AAWGCFOHgtwi6KHFhHuGIkQtxbVRmDBtLFJT4+F34bRKt00iIiIiIiLHOk1wV1v9gyHo6R8XBfvjlQQjerCM3s6h5KTOOKtJLOJj7bd4+UVFQYZ3pw7/oNLqZ1KDsgPy70V89Yl8/pzK660N2Gy4H7ACZdXy7w8o2S3/9kVMUzdNW5obE0TwNxYTbg1TDRqJiIiIiIgc6TwtdwrfFnok+ncxDjRSp7MO7q6Hv6OoSXsdXBmixN/BegT2CERUr0AEWqSuLzSdLrWJiIiIiKiz6DThhkZr7E9ZdUZtmEyTy6g8bmguQ3iYdah2EhU1yqSamjMoln/9rnfQcuYLf9nlErFIe3YqXnze8Ss5Wn62C0J7yb+nUXNB/iUiIiIiIvK8ThPc+d3UF0PE31NZ+SiwbpQzOXsAm7eKv9r+GGQIqMxVI3u3vfvpdCjYVWDo9jnkZkfdPiPQf6gcnvMIdh6oM86y1liLgqxNWPtlAcoNN88FI/pmGZiWY/Pu03KGqvJ//w0zZr6LP3zl6J4/IiIiIiIidZ2no2DXOKSkdhFxWBEWL9mJctNQlCb1R7H2r9+iQEzG3JuIfirNb5Vr1mHVfqs76hp1KN+8Gou3NgA9EpCSoD5Yi0n02J8hHg3YuexLbDluFWWKZZVmfYnFX+Qj+6IW4co6RCXdjuEiviv5LMP294Xa/ZlYuuaiCEr74IGkCGWupIW/IdI8jcof7EW0REREREREne0h5o212LXkn1iyVwRiWi1iEvqiX7Av6isOY2f+Rci2tPAx4zHrF+YPIzc95y4Q8bcAxXvPQdMjCsNvCYaf7px4fxwlZ+XyrJ+PZ/8h5jV712HRx4cNj2UIGBSLUTdeL+ZeQvn2IyiQyxJB4pznx1qMzKk/sgkLFuWjXMRo/qbfF9+p3HsEeVXy9wOROn0SJsSafUmo37saL318FHrxW+G9uhi6jIbfkYapt/Ih5kRERERE1KxzBXeSbGnb8Q1WfV6EErPb7zTdIzD6/ttVRps0BXcieHv9PsQc3opVnxUYHlpuJAO0wZj2UBL6WcVL9oI7qf54Ptb+77fYfFQEZiYi4IxPSkLaXfEIt4zRjM4eReb/ZiLzgM7scQfK7/+n+P3uyiwLOlRu/wbLm7bXF0OmTsNjdh4HQUREREREV6fOF9yZ0dfr0HBZTPj4ws/PtQd76y+I78oJEZD52RlBxVFw10SnQ70Sqfn6a50bEVMvvqP0snT6O5JObKyWDzAnIiIiIiJbneeeOxUaPxGYdRUvFwM7SSO/J192AjunyeBQWZbTQZrGje9IDOyIiIiIiMiOTh3ctanG0yg/LCe08FfrYklERERERNSBdOpumW2jAtnzN2Bn7UWUy8FR+ozCvN8ORzjDYCIiIiIi6sAYsthowLmycyKwA2ISR2HODAZ2RERERETU8bHljoiIiIiIyAuwTYqIiIiIiMgLMLgjIiIiIiLyAgzuiIiIiIiIvACDOyIiIiIiIi/A4I6IiIiIiMgLMLgjIiIiIiLyAgzuiIiIiIiIvACDOyIiIiIiIi/A4I6IiIiIiMgLMLgjIiIiIiLyAgzuiIiIiIiIvACDOyIiIiIiIi/A4I6IiIiIiMgLMLgjIiIiIiLyAgzuiIiIiIiIvACDOyIiIiIiIi/A4I6IiIiIiMgLMLgjIiIiIiLyAgzuiIiIiIiIvACDOyIiIiIiIi/A4I6IiIiIiMgLMLgjIiIiIiLyAgzuiIiIiIiIvACDOyIiIiIiIi/A4I6IiIiIiMgLMLgjIiIiIiLyAgzuiIiIiIiIvMA1uh8bflKmiYiIiK5a5y9ewtkL9bj0YwN++qljVI+uueYaXH+dL7p39UO3Ltcrc4mI1DG48yL6eh0aLgO+/lpoXGmTbaxFefFFBPaLQADbcols6XUQhxeg1cJPY5xll058Vu/GcUgdhr62GsdPXoQePgjo2RPhAT7Kf64QJQ8ZaESe0yrTnUEnXvfqsxdQf+lHBAd2QZfrrzMEVR2BDDIvivU6fe4i/MR6hXXvqvyHiMgWgzuvUYtti5Zg+cEITH59IkZ1V2a3SIe8ZX/D4u0NwMCx+NP0BAQo/yEio9rtq/DSsgrET5mG6SMcHyGlX7yLt7KA5GdnIS1WmUlOqkPloR9EaWbLLyQCoQFtHCzUHkXmP9Zh7SFRHpq0Q7loykMGKWl4//4o5U3H11nXXbbYnTlfh6geQR0mqLMmg7zyqjMI6ubPFjwisovXlYmIqIOowbaFq/GuyuvNP36AObPfxXNvrUb2IbXwr5X05Vj77mrLwI6uGrIrpmyx66iBnSTXTa6jXFciInsY3F31tBjy0MN4cWYa5k1rv1a70qyleHP+UmSXKjOIVNUh71OZV9Yhrw3q99Tx1R09ioyFS/Dcx3tQKbvKekjt7hxkVilvBE33QET1Eq+uvsqcDqI0x1BWGl88DjxF3mMnu2J2dHId5boSEdnD4I5ELghAVFwUwv2U9+3hwjmUl53DuUblPZGqBtSdlXnlIuqYV65qdXu34s3/3oRSjwR4l1F+rEKZFoKHYvarU/Hi8+L1q/iO1VW9UWcoK40vHgeeIrs8duRWOxO5jh1loBci6pgY3BERUcck79laOMv4evtJvDpzKPp3Uf4n6E/kY+mXR2Eav8N9F3GuRpmUhvZBFM+OpELefztj5rvIOKLM8IC2WCYRXb185s17+RVlulPQ15Qjd9te5GRvwtrsgzhceQF12kBEBdu/y762rAC5W/fg3198i68PVuJMnQ7+gTcg0OZ+5NPI+zIXO4uPoli86oP6IOTSUXz31Was/nI79h2vh87P8W95Wn1VEXI27TKs+3dHTuGHWj0CQ0LR1ab3iA7lO/Owv7obBt8Rj6jr6lB5IA/fbMrF55uKxfd08OkShBCVLkb1R/Ygc1sRqnwi0DtYpQvS2Qrs2rkb3/5bpHnOMYfLaqKvRenOPfhm41as3vA9Tp45i3M+gQjvroWP6eJofTm2bNiLfSKtC4urcPIscE3jJdSUG9O/uD4A/U3NiY1iebl78O13O/H5+kKcrP8R/sHhCHLxnvLmvLAD+83zTnUR1n5zwPI3RZqWbv0W3+4/jeuiIhDko6xD3hFD3gg3q2Sa5zG5ny7UXwv/kO7o2tLIimaM+1rss39vwZZDp6C7tjtuCPODxs7FZKd/05TOVT7o1TsQmgvVKMjdiU1if2YXOLmuZnnA+B0NQnsGQnuN6ZjRIbRfKPwNH3Y+3Zxermn/FJejuKga1fV6NF6+gMpSY16xybuNOlQWifTZnIsvDcfuWVy8pEVQeDexbOUz1iy+cxDHzlwAAkNxg8jnuuMFyN53ATcMvgXDb3R8/J89lIttJUDMyBEY0P0yakr2I+eb5mXWX98NPQObl6EXy16/5SCKz2oRE9kN9sZl1B/PF587hOLaLojp2cXu5zp0PmpRLQrF8d3UOztmAMbHBRqnfXzhH9obt42OhC5ffOaicXbd0ePQDB6KvtbNa+blVnaJKINs0765DDLlK2V+Yz0aT1cayyHT9ir/Qv1pFGz/DuvXbkFmfiUarwsW6VuPgnXN546m/GhWxpnOKc3533ScGP9nXvaY8pCBkgY1+SKdd8nPluPwCdOKWh4HNseXUF8qyvfvioy/IT8TKD5jPdjihaPY8u+8pvW0yGNK2fv1V9mG8v9MYxdE9LweJ791ft2l5vUXL+s0bTq+5f+VcsM6HzmzP010Fdjy6VqsPtSI3jeFw5metTXnLiIk0CrxVJjKAsPxHazMbCVXl+nsuhLR1akTjZYpgpd//x8WrKlWvUrrf0sSZk8ZinDzcr72KNb+bR0yS9T6p/siJnU8Hru7j9nw/+XImJmBbOVd/C1RKN1bjjrlvUn4iFRMf6g/Qtryyq44OWUvzkCG6s39vhiSPhFTk8KaT47mo2U+nYDSlZnYZnb/iJEvom4fh+kP9LV45IH9kQBFmmf9H977otomDQzLEuk3S6Sfn1U61Oxdh8XLDqNcpbuUJjIej81IQbz8mbP5WPT7TSgw/suWaaQ1ndgv88V+UdmeIb96GI8lOtFpSleNLctWYeVe2/TUxAzF7Dsv480P861Gd7Ofpk0jITraTyJwTH1iEib0cxwMSDViH7wm9oF13tZEJmDWb8ci2nwRrv6mKZ0HJmHWyAqs/PgwKpV/NRHfS350ItIGGsOzZiLg2boOC1baHgfQhmHCrGGom58pjpkEzFko1tPwDyfSzdXlHtmEGW+L/WOHRd6tKcLyj7Kw7YRK+nSJwuQ5aRgVprw3qT2MjPc3IFvlO/J4T4/Ox7srXBwt84mJ8P86A2tVyh+L8kp/GKteXIfNOkcj3Z7Glrf+iZVHtSINHxNpqB7addx85CzLMtjuaItlW/GH+XtwSnkbeu9E/PHnEcY3jXUoXv8FFmWqnys0MQmY/pux6OdMGSSZjZZZX7wJ74pywrps0wyKQL8DFU3LaconVsu3HEHVdJwob822VW3ESYt5dqiO0KoT+et3Mn8Z32rGjMdfHuxrdu4Q27UrA3OWlivvtJjw/JNI7SUmq/Ox+K1NyFMC6SY9IhCvFdtbprxvYd0li/nWI5BaHN9Wx4Er+1NR+uX7eCvTmK8t8oYDxWU/oF+vG5R3DhjW9QcXR6VugYvLdHpdieiq1Hla7spy8N+fHMEF5a01fWUZiq/vjTGx3YwzZEDw31/g6+P2bkhoxJnDRSjQR2JUXKByFdzyqnF1Za3qyeTC8cMotPieh8lR2/78L6w91gj/uKF47ClRubx7BH6ecjNui/0Jx0UlojC/EOXBcWatCKaWu0s4lFeMk1374sHfjMe0B0fj7jvjMTzmWlQdOoGS4u+ttll8006rRM32DLy5qgqNkX0x6alf4NH0JEy4aziSbvZH/dEyFOwtxD6NWZoL9XtX4+WPS3DGNxCjfimC54eTcd/4oUgZ0QtB+pMoPFiO3G+rEPkfcQj380foTb0xPDEOkfoiFIqa4pC0+5CeHIcRYt6ImDCEdNOgfOMK/HPPZYSn3IdXnkkVyxuBOwb74MTOY9i/pwY9Rg9AT0f3wTeKStTHK7BiX4Oo5MptuQ+/TvtZU7qczNmD9WI5jZdFXjFvKWhKUx9crCrCvoZIpD14O37+s2j0viEUgdfJ5a7EKlE5ixo1GtOfugeTHhiJ8XcOxuCwWhw7WIE92wrho9aqYK6+CKsW5KFcKyo1v38UTz44AuNTB6JP3ffI3V+OYpHGt9+kpLFhW1z8zUtV2LnxKKprT2LPzrMIHPUfePyRuzHx/hFISeqLvn6VKCg8jeKdRdD1j8cAsxYwmQf+34oT0IlK+6hJ92H6Q7djgtifYxJD4X/yINZmluC4SLdGhGOUCPSDDN9qId2ud2O513XBTXExIl9EoWtlCUrPiSBiairu/Zkxr/SPCkWQ/7XG4/6dtdhScS36j5+AWU+m4pf3ivRM7oebNBXYXyDSZ7uS/0x5xlBWrEF2hfF4mz7jPjwo0ubu2/tjUEgdCjftwDeFlwz5w5WWu+MHRJ6uD8KER+7HtP8cgwmpQzEq3k/83ElxHB5Fzkk/DB8aDn/fYIT7f49vCqpR4We2r82V7cIn6ypQ12cUpt0TqbSQWunA+ch5DlruzAVeB932AhQrDVh1PmFIGh4uwhIdSlcvx9v/PivyjrrGM1XIPXAJA0eIfNWgbJPyP1VhfZAil318K94U6XvysjLfTOMPFyyW0ZRPTGmmzLdsmTEdJ8pbs21Va/2ymGeHasuPyF8BjXn49nvjijceu4QIizLzNHI+3YqCs8pbkcem3BUB/wtFWPp6FvaoDcx4UWzvOWVaamHdJYv5pjRV3uLMUawXx6WR0vvE0CvDxf2pZLkLR/fg2yLj9gYMSMCYmJZbuZxuDTOs60WzdfQAF5fJljsicqQt254MVq78BrNn/9XwktPuqj1Z0XSVFuiL6QvkfRhPYtbtzRWtyg1FSqXgMkq/Wtfc0tOjL6b9bqZy38Y0TB/TXChWZonPma4+2vBF1LBETJspKp9T4i3u9ajM2oDs48obDyv/ZoNh1DZNYgrmTU9CfI8A+HXVilcAwm8ei9m/G4t4bQMKlmVim+mE3KQB+u7yKv14jI4Nhp/WBxo/+b0kPP1KKsaI5HJq3S8UIEO2AATHY7pY1qhe/sYHMl/rg4BeCZj823HGZa3JwS5TxK07jLXL5P0vEUh/cSomJ0UhpKv4ffkg27AojH5oEmaliETUHcXSrw5DrwlAdFwf9BOvmBDjIkJ6G98bXj2NVdiGOuMl5/ibm1sJ/W4cjimPJiI1VdRkzqrUtszU53+DVQcagIFJmPeC3BaRnubp8vxY9BPpZt85lNTHY87zaUi+Va5bf0R1F8vdk4XlYrmht4/H7IcSEGV60LHGH1EjxLxH+0ODi1i7oQAOB67WXTK2XsWKYMLUonRtAOLvF8F5agJu1epEldeoVb+pa0BIyr3ie0MRHaYV+8UHft3DEH/XQ3j1CeP3sj/dgXJTLUpU7tZ+JluBlP05IgIByv4M6NEfqdMfxuSbZMcwe9TTza3ldg1T8kWU0qXMH+F9lXwiXtEhxnQo32g87uMnPYyn7+qDEFPxoA1GP7Gdsx8U+UXkv8+3Ng+eUb5ZHA/iO6G334dXxfHWT6SNn0gbTddgRCeJNJ2egBCRdq7SIwyTn38IqTeHIcBPLE+rRUjsUEx+YSLS+oj/H/gWa/ON7ZYhtyRiuFjXU1n5KLZJ0DrkZe8T5Z8vxtwdD+VQsdVR81Gb6IKAcGVSOnIG8pY5/ZEcLM0yNTN1waipD+Gd90S5/95Mw7o1faUqH0s3ijwg8sUgkTapqfGINw+K+vQR8+R88bo5WGzTaWz53z1mLZW+iLl9LKarnBvaSkC0sj6J5iuqRfwYZb54xdi5iBR1ayJilGnZOrp572llWigrQPZRZVoYMjZO5LHLKP4qCzvNWijDE4znwllTRV6NdCdwd53L+1MRlTIR0+8XaZIu1vcO62b6VoodK+oSHmy1k9pimUR01WrT4E4Gc1u27sMl3Y+Gl5x2O8CzWNOjWPupCCqO1CL83ieNQZt8LVC6helLsTPLdFbSYsy9IkAKaED9BR3qdVrEjEvCGOW/oqaCzD2m7iiWwmUFZtpI3Coqj/EjUgxBQHxTLHkRmXnq3zOSD+M9imLrV6l6a2CTxnLs3CBPZlGYkhZv0X2ySUgC0u+XJ/gKbMk3O0kbiArgg0mW3a9M/PpjwiTZReYicg6ajQynovZgAfLE36jkoVDtVajti5Ep8h/l2HHQWEGtF9+RXX9CxydhtOr5VIvo8caKZrKfDpUOE6JZQIixMrPl650oN2u6DRg4EhPuGYtbbzS1QarRoShPBpxa8dmh6l1pm9LTviF3JVqlaR0Kdsn9H4jkn/URlT9bmjhRuZCL3VuAAkfDlXfpglC57IM7kblf5A9TpVgTgVvF9k24o4/SfamVv6ntj/TxUarf87t5NKbcIiaqxPdOGufVf3/IULmzuz9F4DDqFyPNKo22bNPNM8tVV448w3HfH2PsdNUNHzYUQ8TfU1mmC0EVKPjWeLxNGGfbxVjSxCYhfYzrldmY+1MwSi0SuzYMyROHIhQN2CnKEEPw1LU/kuXxpBOB73arY7r6ELJ3i+AyeDBGxlklprkOmo+uiC4+ouQTAcmu/KaLgAFJSUiNCzBcHKqva4B/9GhMSFL+KRjygDYKo2Xa3JOIIebBYt+hhrLF8EqKgl/VEWwzC4BiHpyE2b9IQHzTuUGcY5T/tZWQBGV9/sO8m2owhtypzBevIfbimLA4jJH7RVHydYESfIs0y5UXDhRi345J8DecQ/M2N1/Q0CSNx4uPGc+F/W4diam/HY9kx0WmB7ixP015/tpgxKfIfWd+2wUR0dWhTYu9HTsOKVPN1OY5I6Bff7PAqgHlu3dgyduf4qVn38Vzr2WIysxp1JsK9tpasyusOmxevARzXvyg+fW7TGxW/ivpiytt7x2BqICJk7pFBSZkkKg0KtOCvux005VwW3YexvtVqeNWnNrTxmc33dQH0dY3vZsJie4jKoeiOltSbbW8WMTbuR9H8ouKEtVYcSI8/IODdRdrf9IY/FV+vcbsmUqWr+XfGVvMCk4ah5mrPGas/STEOri/wVTRvCceUWq1QxUhiWORGukL/YFtePNFub8/xdL/24mCKpu7tVT8gJLd8m9fxNxomKEqpF+cIV3UBaJ/lHVHuBqUHZB/L+KrT9TT5823NmCz4aJzBcoc9fvS9EVyehT8xbI2f7gEzzz3Ad5cnIns7eWosQiAW/mbiX0RbTfN/XFjX9l9SoeS48ac4dT+DOuD4fLeHFVq6eaJ5dpx9rRyL9QRZLytkjbytSgHxfIjuh9QIVu9z4r8IWMph8ebD6LjrW9kakkghvdzUPuNiDAGA7srmsqeqJEjDfOaK95G5bt2QPZmG3LvMMcjOHbQfNQm9D/guPnIgtE3iPLwIs6ZFeS1WzPxsnm5/+JiLN6q/FPSHUW5o+PS3LlzaL6UF4GRCVb7NiQeo4Yp0x2SP269U15QUJwWwbfsvVF/GNvMgriYexPRT+5bi3OoL0bfanmPHrTi+PyZgwsNHtGG+5OIyIt1nmta3RMw5VEREKicT+qqyrH2w3/i5SUFxoBFnJhauDXBUtlFlYDLV9bprPjA3+nzWRfEKF1lLF6GLj5OkN3ClElVfl2M3bPqL1m1BF4Pf0df1F7n0jObNI62N6CL+kN+HTWkuUMbhQkvPIw5U+IxJFILfVU1dn6zDYteW4znPs5HjVlF2D5fY7dSexymiz98HaSDv4PtDewh0kekUWALR1pIYhpenZeKtMQwhPvqUJ5fhIxlGaIysxRrjxgiFgtu/aZW6zBP+WtV7+RqYX/6wtduUOQ43dxfbgtkl1tl0pYvQmSe7dUF8ha9Ji0cbxqtqzfXtLDt4sCyaQvsPggpsoXw9D5kK901ZffozHVi/5taVFrQofORB9Xs2NM0QIgUPyACfjiHGrtd7NWcwyl7N3FbqT1r3poaANvbnbTwd6VgbQ+94pHcR5kWwXdm7mHUFBRgpzJHtl6PGaYErRbn0C4IVTkW/bu09Qa33f4kIvJmLVQ5WycxMU6ZaqY2z1kBA1Pw4l8ew7xnU5B+ex/EdLesHtXt3YQseTU3JAj9jLOEQKTPU7pt2n2ZRvkzV43jldb3cp1G+WFlUvK73kElJxhDlK4yFi/ZxUf5hCpRiTRUjSprHT7QW1/1A4rkRM9gq6DkJCrMn9dkreaMseXC4bqLKrASxQ7/xcPGB/k6eqUYW2D8gow3zteccaZFzUXXBiB6RAoee+lJvGN43lUihvQw7vOl31l3TTXnC39DfeU0ahyd+H+odjxing3TcmOR9qxKmli9km0zmA2/Hv2R/KuHMO/Ps/DO6xMx7fYwaHTnkLnoG+U+rFb+5rFqw31J9tRUGi97+4vKu2TKAw73Z+NpVJpG+3NSWy236djpMQxTVdLD8jUeQ+SB4+TxVlPpah/DClT+oEyqEcGCoVEiWHYnNPFBv9Hy3qgG7Mw+ZNhXNXv3GLpHx9yvtKg4oaPlI0+TI1YuWmHWrVzbB6MGyZ0ZgoibjLOkqAcfVinrLV82I0vaERB2g1l5eRTl1r3aGytQYn8w12bmp5TGc6i8os81C8bwsc39E/SbRTp+1dweqRkzGAmmIM7iHHoOReXWx2odSg+1oplMf9niomRttdrB0nb7k4jIm7VpcJeefjtGJw3G9drrDC85Lee5ToeC/zN1F1qFpRsbEP+L+zD79Rl4Z575vQ4NqKyuFWfiKAxqukJ5Dhmf77Fs3ak/isyFyvLk6/8Oq7TcNWDzZ183jyDWqEP55ixkmN94fnMLgZo7/MS6y3sjTu9DziHbK+1Gtdi5SYZ2vhgT19M4q0k1snfbu59OpOOuAsNJtaV1j4qNM1RmtuWqpY1Rzf4crP1yE3YdN9ZYwqNjDd1+8jYVoNJeRfn4Vrw2813MeHmrcwMuyOflGe5XNOt+qtEiJG4kHvu1sZtRSUG5gy6mEYgfKSuZ5di8214QWIe87wyhsgsi0H+orJYfwc4DdoKUxloUZG0SaVSAcsvmVQv1J433Y5bWNNf8NN0jcOsv7jfev6Q7giLDADit/M3v92CnvYF0dIexc6vsniXy303GSnlUXHyL+7M+Px9blGlntdVy4ReBfgPF37J85NndzgpsE3l27cajxjzjzPEmKu47N7pekd0i8pS9Y6cyf5/hYkLoyL6W3YF7xBvvjTq6A5sPFiH7C5FnRfCSfIvSouJAR81Hkr5e3u+svHFFTWXz/cr787F2yVK89F6+RZfBeHFOGWIISvwRbTYqSvmaLGwz322iDC/+6tPmcn9+Fgrs7SBrN96IUU2bo8Pav2danBuK16zDWrXixXTxQLFlewFqlTxfk5ODLe6kiThrNweaFcjbI8pG03HUQpnqlzDYMBCW0UVUmgYdgxapt5l1vbQ4h4pjdcWX2HK8eWVrvvsSy/Yqb5xkuqhj8H0BdpYpyxPn46yv1c5ZrdyfOjfzHBFRJ9emwZ0kg7kFC54yvNwL7CQtYnoHoLzsnPGV/y0Wf7oHBfKEX1xhcRXZeLU4GCPvlqO2GekPbMXL8v4Twwngb3juudVYe0hZVlkDhoiTmmqgU1WERb9/F8/8/gM897T4vmGEP0VwAlKc6CblOn8k3JGAcBlcfrza4oRqIE9oX2YYhjBHn0SM7mfbr6pSVDRW7bcKdwzB6WoslhWvHk6se+xQTBQVZf3uLCzZbFZ5UNSXbsXSpTuQ+c0l+IUp69BrGB4YJiqN/7+9d4GL6jr3/n8K4ziAIDcFdZSbQBwVJEKVBsVIEhJjTEijTdRWT+JpSnJi09jUnLf25KR9T3N6kn+avklOetK+2laTNza1MZoEE4iICiKKw2XkIgIyCIMExAkwjgP4X2vPnmEYZoaZARTI8/189mf27Jm99ro861nPs9etPh/v/b3KbMSY6ajC/t3FzDDzROIjA+cPmRp+jcYq3pIuVL3P5ytmochsiFjBDKh+Y2cwwlwmFnzt31i+2cyXw9jDF6xwkfDUu6DgvSx7Bxo+AizcuuzDeO/jEuR0SRHiKIItJcb5mNl1VkNsTXhAIt4/vGd2MePYwig1oWtF3u4jwjC3kPTE/rf3c+OwdqH98tQ1FmG3sDqqiwwrXCm8hMraDs0Va8vNF4n3xTHH0U46+9px5m+fYl9WCao9fMUe76HqG3Ny/s4Md3uy5wB7dUdbloX3/sadtlCsXW4975DFJ5WnQY+cd7KMCxSlJYnOyxCMUTnSnt7PdO672PHCH3Gozno0xBCcy++fr/yHXGSdvWaRNr7X5kMD9rkMTFre77wwR37fv7+Nl35jNP5/9dK7ePPTVnM7YohXQOHs2zlJFJbfZzEW06pteNO8oqMVphcOIobT2XiJ5cVLP38Tv/xg8H6ETjHA0QRUB97HjufexDPPvokD5j0k7MDSseIhGy8KlqRg5YA5rgFIXG2x2A7Lyw9ffRfP/JzF/QX34m56YWikHYd+y/KO5d9PWHs8eA9TI+6Wp6EyCz97wShzB2wMRyYIgpjIjJt97iQhs+GvLkfZFW4p9UGrbkDR6SoUqdr7976bmYAfPBYBv0ksYcFyKDwvobCq2/gys7cX2mt6dhgsGiVvJPMNd2NMrcfAPZYkUk/wva36rg8cQiJs8LvtfnwniL/9Hnk8/MOwMKgJhcWXoTyhxInKZmjbNKg5V4z9e79CToUefTNjkPnMSkSYpwIxJ0XYM8kPiiWToTx8Cjlnm9DxTQtqy0pw+INcHCrWoo/vgfXTNVhsYSza3udOCnmEPzoqqlF8ugxHCxqg7W4V9ucq+SoLew42oq3XG6ufW4eVwaZ8kCBkQSj6VBegLKtGTl45mtq1aKpn9xzLxp4PKlDTZTTIfrQyaMCUKz+pDsUnmlFXXo4TJedxpoCluysQd0XOxgzvBuSVtKK0sBKtnQb0TO5E/amT2P9RBS4bmKP4wEokhg6yQPuZGoL4qOtQnlJDdVaJ3EH50o3FS2Yyx5JJ0oB9tUx5arnvkgUs3IjQNlQUNaCQl1NDO3SaRlRXVyLnrzk4WNLJyikOP30yAYEOREUS5I0+ZQWqz19AXm0HPPp60aOpQ84nWfi0tFcII2PNPEGu3Xqmaa+tuaGIn9SIQweLUHy5HdrmRqhOHcdfPjiN4uY+SBamYsf3o+HDnyMgxaxFodCXVKBMVWNRnjUoOPwF9h2qh3axHNHMIW817Ucn3DdEvrkdLscTfmjB0XNtqClUorj8PApOKlEjjUD8LCk8AkIRxet9Mcufr86i8mst2piu4L0+h/+Sh6N1BiGd2zPC4SWmU6hvAQ04ca4ZpYPq2zEcbfBC/B1TBWfSlX3uFEtmoy7nJL4ouADN1atQ11Yi78Mj2Mccvk6me1Y/tx6rZw0WDI8AX3icLxWdp1A88sNlTu19NTblqBtlh47hrDDqzoDOmVFD7Dlmtc+dPfj+iJu/h8zUkIFTNz0DEH2HAdVnmnFV8CP7oP+G6309mOowwzemz1wXZpaBfpkVvw7QA0b8wqMs2iAjg9oGkX45Yc5xENM9BS397RRri/S2bnJirzgBjwCE+DF5ZTrb6r2B7X3urPBh7VZTdu2A3s+V30tHfNDAd72S0HDE3Khg8bCIrIHF3ZZ/7kzcAwIQ1FAOpUX+GVj+WadhwD53bpZnw4lPcUyIgwF1PnMHlaUtxtPecbTPHUEQjhg/m5hPYs5GwkLMl7ajVd2Bq5aNo1QKxapVeHrLUsw22/jMCIxchOSom9C2tKCpw7IJ8YTvwng8/dwjWDVgnfaBhsWqp76PJFSjurm/AfIKi8H6H61F2jzHBt5w8Zp9B1IWy5jjxQzTunbU1bSgpkGLzsmmtCZjoI1kMk4CcO+z38PauTo0KmtwtoLdV8/y6/pkY5r/5QHE91vKAvY2MYdXEBYnRcL/+mVm9LWihseBHZeuTILPwjvwxFNrsdo6Hzz9EPPdWMyf3IKKmnZcqhXvaWEFNj0Ua556FFuSZww0yDi+87AkygBNVQsaW3VC490TtQj3zp8G6WwFK0f22/lGKCsvQXm6BmU1LE1TArByYwY23jlw1qEtPALCkCTkZyNqLnfgEk8Ly5fOwLl47J+Zgz/vqnET3QGG1FBOCsui0GgxXFZO5jxqQ+tNiVhOSTYXARqAB8uzZSyfdZdRWdyI0tIaFCrVYj4vxb9kfhfzLDZpd/mZJqN89lJsf2YZ5vY1oZg56xXsvrrLOug9mUylP4jtG2Lhb92Xz8rzDlEGLtZooW7gz2pFU7cP7vzeGvzLQ7Oh+ZzXGVecO4Zb4RrhRmd8wDdovNgK9dfc0OvFjPg7cecsXvnFeh/B5KW6BdUXebjs4HWAyUvimnuR+b3B6fSaw2RMvKexub++9UUqsO3pDCRLq23XERuYjNvFj2/F1qSbuFpTj6LSZqGMNF19Rh2SuQ732tUhMkivlyOvgjmiK1diy50Bg+uLLcakHEnggyYUKLUwSIOxJmMZ5jnshXTk3HkiZO5sfGdtGrb+YCW+I7fd7ebhNw/Jy0Mw9ZtWXGLxsmwq+DDVNU89hifvnm3h2HGGdu6MbRDXbZdRdqG7P1zvYKz9cTLkhbXmeFvKCX95sCSsE3XnWy3aLU/Eb7gXyTdrUGHjmQ6dO0a/vLai9Xp/2+aMc4cpgZjWVYzCS+J9AfF4/NEwo9M/AE/4RyuwOJDpyyrmxJucOu5YP74KiT2uxp2/1AnHtLaBbaqE6fenH52BIqUpsIF6w53y9JHwl3ncofZG+iMrEDNIsQ2GnDuCICYKk/Q3em6K5+MKQycz/sVzPqTP4UqIHD7+XmwV7P9fjQPPHkCO+G318+IEbdO9Hp6QyZwys0YWQ//cAafSaoE5n5gDLLPTuaU9tR8v7W2GYtNWZC6z4yj19Qp7Cwk4CGsAlvdI2D2ObeJ++GR7Dw+b6eRzd3oEI4OVhY+bZTFa5emUjA2Bq/nszDM7SvDOL3KhWpCK32TGGYcjWjzH6bi6c48zDCdc3o0gtV+G7siL+R5XZHYIXAqzrxlZL+/HoXZvrN35FNIdbOFhl7EmRzz8yU7EY6SxzIcRLM/+cF3QQ8ORc0eI7cOIhmnNSMfdXR3sSnnyfGEOpbMyV91wBdFzZ4jfxjbjKa4EQdx6RqspGHUkPkxpi4dTDQ03cFz5vyWme2+HY8fhjZibcTfn03CNqske5jg4HZblPa4YVXxZejvplLCAjGEOoyxGqzyHI2MmXM1nd59p8Ryn73PnHmcYTrgOHDuOO/JivmekHAGGK2EaKkuQxRfnWLIcK91x7DhjTY54+MPVQe5gmQ8jWJ794bqgQ4Yj544Q24cRDdOakY67uzrYlfLk+XI7ZI4gCOI2M5rNATEu0EN9yTgcZrSWLicIwlnaUfBZFQyQYnVq7MivxksQBEEQxISGnLtvLd1Qvr8Hr/7qj3iHr6ApjUHiAnLuCOJ2YrhYihy+3UpYElZGjnDPMkEQdpk0aRJu3hz7s1R4HHlcCYIg7EHO3QA84TfXD3Lx8JvQudOD7o5rULcAvgsVyNyZLmwXQExAJotybbXpPzHW6IbqTD1krKxWP6hAoHh1zEByRExgpk7xRNf1G+K3sQuPI48rQRCEPcbtgioEQRAEQRAjwTdd13H1m27IZ/qP2Z4x3munbrkK/2lemObtxP4oBEF8KyHnjiAIgiCIbz2tHZ3QXb+BAD9veE+dMmacPO7U8R679mtdkLF4BU93uJ8IQRDfcsi5IwiCIAiCYPAevI5OHa7f6Bkzc/C4k8mHYk73kVGPHUEQQ0LOHUEQBEEQBEEQxASAFlQhCIIgCIIgCIKYAJBzRxAEQRAEQRAEMQEg544gCIIgCIIgCGICQM4dQRAEQRAEQRDEBICcO4IgCIIgCIIgiAkAOXcEQRAEQRAEQRATAHLuCIIgCIIgCIIgJgDk3BEEQRAEQRAEQUwAyLkjCIIgCIIgCIKYAJBzRxAEQRAEQRAEMQEg544gCIIgCIIgCGICQM4dQRAEQRAEQRDEBICcO4IgCIIgCIIgiAkAOXcEQRAEQRAEQRATAHLuCIIgCIIgCIIgJgDk3BEEQRAEQRAEQUwAyLkjCIIgCIIgCIKYAJBzRxAEQRAEQRAEMQEg544gCIIgCIIgCGICQM4dQRAEQRAEQRDEBICcO4IgCIIgCIIgiAkAOXcEQRAEQRAEQRATAHLuCIIgCIIgCIIgJgDk3BEEQRAEQRAEQUwAJulv9NwUz4kxzDdd19HRqcP1Gz24eXNsFNmkSZMwdYonpvvIMM17qniVIAiCIAiCIIjbATl344DWjk7ort9AgJ83vKdOEZyqsQB3MrtYvNqvdUHG4hU83Uf8hSAIgiAIgiCIWw0Ny3SHvl7oOvXmw9AnXh8FeI8dd+zkM/3hI5OOGceOw+PC48TjxuPI4+o0Hc2obtCKX8YB4y2+NjAI8torfhtDmOqTbgzGjSAIgiAIYhxBPXfucDEXz7xRIn4JxcZfr0fydPHrCKNuuQp/Xy/BiRrLdOr0uKrtFhy9IdFVYd8vspCvBxKffBpblozttI27+NpEjQPPHkAO4rDjrVSEi1fHBB0leOcXuVAtSMVvMuPgK14mCIIgCIIgXIN67sY4fI4dH4o51uFx5HF1lW4985jGEeMtvgRBEARBEMS3B3Luxjh8XttYGoppDx5Hpxd6kcVg46712P78ZmxNGgf9NCMdX60K+367B6++r8L4Huhpg3GXtm4o32fx/e2nUE64wiAIgiAI4tsGOXeE09R9/CaeeTYXdeL3YTE9FNGRAZCNFwkcyfj29eBawzWoO1zv6RzzjLu09aC7g8W3oQvdozh3liAIgiAI4lZAzh1BEARBEARBEMQEwGPXrl++LJ6PH3TtqD6rxLGvjuPgkTLUaDrRPdkbQQEySKxGMOouFiMrvwrV1fWobvHAXPkkNBYW48vPc3Co4BKu6CfBf0YQfCTiDVboWqpQcOQkDh4+hdJGA6YGB2HGjUZ8dqpF/Mc0LL5bAfkobfPWdq0LgX7e4rfbS0dlIfJrQ5D8QBhsLZvifFz1qDt+AifK2jFFHgp/y7xnZas6VYgTx/Jx8HjtkOUzgNYqHDpajmqdL2JCZDC0qVGYX4Scz/JQVNeBrutS+IdMg9R6lKtOjbwj51DK5WOeHyQdauSfOAfleT2CooPgZS++Vs/TXizBiS/zsf+zCjTpbsArIAT+FnLRVpKLnDNMDqsacOESk9lePXq6WlHLZbPaRl50NONM0Vmc+CLXKKtaPTy8/RHo4yn+wQYW9+SovkanToKgWX4szVpUsHjVwX752ULboELh8WJ88fFplPF6JvWDPEA6KO0up82S6y0o+qoercFhSEsMwaDlavr00FSxeBwrxOHD53Hpaifgx+ohywdT/W7xCMW8AIt86dOijtXzEyeL8A9b5WGKf7WaxbkVrToD+no7oanj8a0fHB5BEARBEMQ4YJytlsmMvFPZeG9vDTTilQHMjMLGJ9OQPKvfPNSe2o+X9jYbv8wNRXxvK5SXrYaMSUOx4cVHsWKmh3iBwQzK6s8+wDtZ12AQLxnxhGJhMFTlYpijvFpmdcMVRM+dIX67vfBhma9l219t0fm4apH/zm7sO2+Vd20leOc/cqGyXrOEORTpmY9jbeQQq1SaVjFNS8dOr7N4/ZNWq7JjeMuxYfsarLCQkf7VGlOwfXkzPvyTSb5MabUTX9PzVqVgm64Y753qEn8w4Y3kJ9dj4xLjPD1j/gmnNrAMWw919t/x+49b0S38Zokn5OlrsJ05aAOHiLK6cfxTvP6hevA90mCs3X4nun+b5fxqmfpW5O3djw/PDR5eKYlIwAv39OLVP/C8zsDbD8tdSJsNHK2Wqa3BgbePIMe6zjJClqVjQ3gJ3vygGYpNW5G5TLxTr8aB3x5Ajun9ixlPxP9gM7bxeZMDVrwdzIDwCIIgCIIgxgnjyrlrY47ar5ijNshgt4Q5ahv/lRmSgcavA5w7R8xMwM7/lQK5aDCrv/gjXv3E2li3xRCG6zBxzmEyLXNvYnCchHwojmHGcwCyB/zXjrFvZfyufn47lpSNpnOnh3L3u3jvLHOeH38cmd8NMP6zLAtv/qEKmgBWPi/3l49NTHGWekLCHMSINWlYvzwMgd6e6OloQtGXOTiQz5x1KxkxOxdzAxDR0o7u2CTcnxIKX4MUIYvY51DOnfA8KRI3rcHauBmQoQuaM9n4veBo9d+ja6qHmi/a0ckclj0qqOcqsPWhKNGZ8UBgpByBkn45x+worN+4ColzvCBBL7SN5Ti07wTymaMT8tB67Lo3VLiTY64bzBFOfuw+rF3I4iHtga69Hvl/y8ahOuaU6XtY3XHCuetj6f2fv2JfeQ8kQhxSsGSmNzz7utBWU4L9e4tR2+MJAwvP5Nw5mzab2HPuLJw0r9gEbNuQBPl0T3jqr6HxXAE+/Jg74cZ4WDpj6i/eZXVXj5C0ddjxkNEJ1jUWYfcb+VDp5dj6agaWohXVjbx+d6H8k2zkNPhh9ZZULBT34ZcEyxEeaPGyhyAIgiAIYhww6nPuPvzwKF544b+Fg5+7DTMAPzQ7dp6IeCgDv3ljO95+azteezEZClNHjL4Z+z5WQSd+HYQ0GKs3pWP7j1KxOsJi2FVLKYpMK4W0FmO/pWNnuufZdGxMC4aXeHlMwA1j7qxxw5jlxdtvbcXGBSwPfvEmDlwU/2PifC5e4v/lBjn/7/Nx7GIJXrNaJIU7goLTYgrz16nQvOGoZ2Yk0KNbKLRgxCuMjh3Hd9E92PKDOKQneULn7GqGzLGL3rQZz90fg5DpUkgkHpAxY33FE1uwM4OFzWRk/ydVg2WkgTl2KRnYuW05lsaGIVpw7JyAPS85czM2LmP/l3lAIvOFPGUdMtO4UDZDWWmMuGwWC5OHGxVsDNcn2PhdOETnp1OFA1zOAxTI/OkaJM9ljh2vpZM94Ds3Dht/eh9WsmA1nxTgTCcPhNFZhUN/43UjFBt2bjHGw4fFQyKF78wYpPO4zYfjlyIW6EqOYj9z7LAgBbt+zuPgyxxFY7pCFqXguRdTEY2BPWlOpc1F1MeOCI5d0Kp1eCUzBdHBUshYWUp8AhCesgYvMEcwkDuYVvR0G7t+FYv6ezdlcxKx6ckkpKez8u/otYifHCGCQ+eFkChTfMPIsSMIgiAIYlwyqs4dd+byjpfiuv6GcPBzdx08Tck5qMRzRCRhffIMSPR66DqZIRewGGvX9DsEOKfCuQ7xfABSrP7Ro8hYFsMM9zhk/NNdUIi/8FXzNK1GI1xzvhS1whknABtefMJ4T2wMkh9+Ajsf7+8xcQbeq1FdaX2o0eastW0XLfLft+7x8GWOBnfwgJwjJewfA+E9HLynRSAy1ezgnTM7gmpk814jyzCnxyHzrQysFn4fLbwRFMyd7WbkfFllkTcekCelYu2DyxHtbO9o2HJssDOkLiQ1DWuZqBjOVqJqkHcnx/1pcrjshzD5W77AesioB8IXxQpnKs014dMZtOdVULJP+eoERFsHyZFGYbngNKpx+rxxAKbuQiWKWDUIWpOCFcHCpYFMZjLx6HJEiF8do0eVsp45glKW5wkItKUhAuOw4WGL+jYqNEN1gr9gkWPtfdZDUI1IIlOwYeXgeXG+gca45X1ZBLXJAWb4LljO0pSKpXPIcSMIgiAIYmIyqs7d6dOV4lk/tq45g/ZrCwO5Nh+v7nwXOyyOVw+0iz9ymtHY1CueWxKLJZYW8/QAhIinlgx41oLFiJ8pnosEJsQhUTx3Bs3pg3jzLeujAFXOjPp0REcdlOeZw5YQLjp2JnyxMIE5oOevok28YiQU8bFWTk+gv4WDy+hoF+abDQ7TDyHMYRw9PBB9912I92b5dSwLv3z+bbz0mwPYn12CujZbZWkfeWIYTCMuBzF5BuRCgutR2yRc6WeuHHPEYXkuESdnLsjI0NZkHEKs+fITvMr3i7Nx7DtpzA9Vk7F0NZfqhc+4SAcvHYLDkDhXPHfIFdSe5Z9RiJgjXLBJYHTsiKXZJh0sHrxKzw9DuN0yYQ60IlI87ycwKRXpsz1hKOd64k387FfvY8/fi6BqGTyDkSAIgiAIYiIxqs7dyNENbat46iRfa214Tgv87Rv9ZqyeFegNmXhqRiq1cnwc4xseh/R06yMKobZ6Zlyh7arQm6nauxvPPMv3oOs/jPMMr6B5QA/mDIQO1fslhhkSbJ1CX4TOEk9Hi8A4bHt5MzIfDkMMc6i1l9U49nEuXvs35rwfVjs9rNBX6miVQw942ct3nynuDbn1GPmeIIkj2fD1hnyuH+TWq2Y6jIYnPF1yXD2Nw0HtIZ3iUh1wGz4MUzy1hURqY5laqRxrf74ZOzYpED9bCkNLK4qO5uOdX72Hn/2pBG20nx1BEARBEBOUUXXukpKMw9IssXVtaLwQOMfCkE1Zg98J88vsH+6vdGf1LFUzNNbGYKMa9tfZG0xgHB9WaH0kIHyQ1+gefLETW3nw9lsDF1UZF8gCoEhbh+d2PYO3X9+KnVsUiJD2QJ31Cf5R6VwPnuqyZS+uNVo0Cz12UvtO3m3EU4xU4qObsfPFLY6PNGNPnemetqsOeqb62qE5L547xBNewqjGdrRZDGkcxJXW/mHSowFz2gRHW6PFNQfOWJvGuvtVZLIvwpelYdtLT+N3bzyNV55NEnrgu8/lYs9JR/JBEARBEAQxfhlV527DhlVYkbIYU6VThIOf82vuMCcqsv8N/vFcHKo2Lppgou3UQYuha/uRN2gZdOcZ8Kz2Yuz5exW0JgNTV48Dfy7G1+LX24o4pNI0V3BEsBumySkaJTpbjXMR67T9PXRSX8iXpiHzcT4AsAf5NU5GIL8ESnuOCd+3kDs5AQooRrsn0g3kkbGC7OUX1thdFKitrACHDufiTKPR2ZXHKhDEPpW5qsEvIkR0JSXIE88dEwrFcu4sqnHsrD0nqBvKk1Xi+Sghk2PhEvbZXoqCyoF13UxfM4q+surSN2hRJ8xpbe3PP4kUgbHLse2HCUI+1arUg+aiEgRBEARBTARGfVgmd+Zef/3HwuGuY8eRRCchI0z8gi7k/P5d/OxXojP3i7fxy731UDdcEw5NcBwSrebJuYIkOg7pFvfzOWAvPfc2XmLPeeZnB23sn3WbmB6O+AWAqrhu5IxVcR7i4DBZvjrV8+MmHu3IF+Yi5sPKbzfjN8XRcEsL9PXYs7cIamvvqKMK+/8nH7XwhOLBOMfbKowm5l6pVmis0xqZgPWsTA1ns7H7GHNQrJw1Xd1x7NlzGllHr0MWLI7DnBuHtQtZ3tTn4z3LFxEiwjYArH44O6xVvny5sPps7d8OYH+ZlWT16aE+dhh7zg5epVLAUdpcwgtxd8cxWezBsT8dRF6jVWB9Wqj+/ikOWddFSReq3udylIUie/WUxbF/qKcUXkIPejs0V4YVYYIgCIIgiNuOx65dv3xZPB/bTJJhXow/OipqoBan0xm69NBeY8f1fmtW2GD5yQQEin6AvlGFnFKxGyc4DGmJIcycM6FFxWcV5m0AZixegsQ57NdJ0xC1UIZLBfVoNY8E7IPe4jn9TMPiuxWQ25j6MxK0XetCoJ+3+M0aKeTzWTw/zMUHnzXAP9kUD77v3R68dWM21sT6Cf805oM3kh8Ig79wReR6C4q+qofP8mW4QxiO54fZAQ3IySlHTr0MKTy/+HYLOz5HoXBDyOAwRBzH1RLmIBQpUdZqkXcSf/j1qZBf1Yyik7XomsTy+kYbKnNy8acjl6Hv9cbqR1YiytFo26v1+OwUs+gXyLG4XoWPspWobOlAm7oBJceyseeDCtQw2QlJexjbV8/on6Im5kHrIPkwYSO+HNPzIu4w5/MA7P0uYe5PSymKa1tQeLIcZedKceLkJUxVxGLWVFamEVzOq1F8ugxHCxqg7W5FbXU9Sr7Kwp6DjWjjefHcOqwUVhflSDFrUSj0JRUoU9UgJ68cTe1aNNXXoODwF9h3qB7axXJEa7RodVB+ZqaGID7qOpSn1FCdVSL3bBM6vmlBbVkJDn+Qi0PF3Vi8ZCY0GlavXEqb+B9r7OS/h38YFjJZPHGuGaUnlDhR2QxtmwY154qxf+8xHG3wQvwdUwWnzFx3WX2c4d2AvJJWlBZWorXTgJ7Jnag/dRL7P6rAZYMnEh9YicRQk3vnySS+BUfPtaGmUIni8vMoOKlEjTQC8ZYb3RMEQRAEQYwDblffhXsExmDji09ga1oofK3tLu8ArNz0BH7zkxTIR8ImC4xD5q51WBs7sLeIb6a8fcuA9SVvL8I2Bf172xkXVOGblIdiY6p76xn6Lltv3CJB2BePhfeLXIQ8vx2/2eTaFhCu4YHwBzdj16YYRDAXhC+k8s5b2fjweDN0slBkvLAZ6Q5WbxzArERs+1/rkLFwKtSnVcjKKsGxki50izKy82E3tjsYUZhT8sR6bEwJgFdXl7HHuaW3vzZyOd/xhPC7pKMZx1j8hTSU90K2UIGt/7oZGZFWQi6VI0O8h4epPM7vUaHo8lTEb8jAK1sTba4Maw9JZCp27EzFyjBPdLeojXE4Wg+19xxseOEpbEu1t1n9EGlzkUAmi688mwDFdEBbW48cHo/jamjlCmTu3IIN8UI/4QB8k9g9z7F7ZF3CQiq738rCvqx61IKV/5bHsWXJwHtkS9Kxk8uddw80Qu9/FwzM6SMIgiAIghhvTNLf6Lkpno8v+nqh6xaHhnl4QiYbxb2r+H56fEybRArZLX6ZX91wBdFz7RnSY4uRjKuhU2/cJtuVsr2Ya9x8nW/SbtrLz8DKThhtx8LxGUUZGQYsivZXx7SUcynfxNt46hCLe/hiKw5XvXQGk/y7Uc8cps1FDKwge3hPugv10HyPs+WvZ3+Wjk05IQiCIAiCGIrx1XNnyWQPZqwxI48fo+nYcbhRzZ9zix27bzOSkSpb7ggIYY1dg92h82Mp5852N1rcM2zHjmOSfzfKYqQcO46EVUAhHi6Eab7H2fInx44gCIIgiHHM+HXuCIIgCIIgCIIgCDPk3I1xJk2ahJs3x/7IWR5HHleCIAiCIAiCIG4P5NyNcaZO8UTX9Rvit7ELjyOP621lshTyuX6Q+9BiGARBEARBEMS3j/G7oMq3hG+6ruPqN92Qz/Qfsz1jvNdO3XIV/tO8MM17lPaEIAiCIAiCIAjCIeTcjQNaOzqhu34DAX7e8J46Zcw4edyp4z127de6IGPxCp7uI/5CEARBEARBEMSthpy7cQLvwevo1OH6jZ4xMwePO5l8KOZ0Hxn12BEEQRAEQRDEbYacO4IgCIIgCIIgiAkALahCEARBEARBEAQxASDnjiAIgiAIgiAIYgJAzh1BEARBEARBEMQEgJw7giAIgiAIgiCICQA5dwRBEARBEARBEBMAcu4IgiAIgiAIgiAmAOTcEQRBEARBEARBTADIuSMIgiAIgiAIgpgAkHNHEARBEARBEAQxASDnjiAIgiAIgiAIYgJAzh1BEARBEARBEMQEgJw7giAIgiAIgiCICQA5dwRBEARBEARBEBMAcu4IgiAIgiAIgiAmAOTcEQRBEARBEARBTADIuSMIgiAIgiAIgpgAkHNHEARBEARBEAQxASDnjiAIgiAIgiAIYgJAzh1BEARBEARBEMQEgJw7giAIgiAIgiCICQA5dwRBEARBEARBEBMAcu4IgiAIgiAIgiAmAOTcEQRBEARBEARBTADIuSMIgiAIgiAIgpgATNLf6LkpnhMEQRDEkBha1ahr80RIZCh8JeLFbwV6aKqbofWageg5XuI1giBGm2+6rqOjU4frN3pw8yaZreOJSZMmYeoUT0z3kWGa91TxKjGajGvnzqBtRWNTFwzwgO+sWQjx9RCu61rUUHdOhTw8GDJT32RfL3TdPeIXwNNLCgn1W95a9HroDJT3bmGSX4kUMql4zUl4fdBgBsJnunjjeEfXjromICQ8oF8POMMw8vq24G463aWvGVn/ez+yYtfgvx6Lwi337TqaUa31RvRcX/HCraXt+F/xy499se3f1yHeR7w4ATDo9OjpHSP6+VbVQfactkY12rqZDRHCbIjpRhtizHKbZd9VRkqmWjs6obt+AwF+3vCeOkVwFojxA3fGu1j5tV/rgoyVX/D0W6g4+/TQ1F0BZskRIhOvMWzKpknveHhCJhvjumAIPHbt+uXL4vn4QVuPrPf24fcfliD/dBUKT1cgr9kLKYkhuJK9B7/6HyXyT5XhaOlNKL4rhx/XA9fK8N6/foR92WfwRfZlBH5XATm9QLil1B1+Gy//zxkYYpfhjgDxIuEctXn4ya8/xRd9s7Em1k+86ARNBXj1f2fjizwl9DFJ36J8b0XOq/vwp+xSFEvmYVXkNPG6E7ib17eFYaTTTXTKr/CH4zexduPdiBr9xw1EV4V9Lx/ER0yeW0OXID7UU/zh1uEV6ImmI8WoDIxG8jwLa2Fco0Xhe3/E6x+MkbZxBOqgoU2Niw1X0XZjCgKnDX4FYbiYi//6j0M4mCfaEF/pseCBMPiLv485xoDsu8bIyBTvsfum+zrkM/0hlXiSYzcO4WU2hZWdr/dUtDEHbzL7Lp1ya+RXk8N8gj2lyDtrwOJV82DUJnZk0+QnXDb6E+P5dfjtfj/nOgY1Dr15EIcq+3vh+lFD+fk1GMRvhsvFUF4SvxAE8a3kmkWP/UTm1qSzHUU59TCELUb8LPHSbaJbrxfPbjE+sVi50hO1X6qg7hOvEWMO3YUCvPnWQbx5uk28YoGhBv94pwRqvSdi0lKR+ew6bN0QivHRH3YbZf82wIdi8h47curGP7wMeVnyMr3ldPWi51ukr8edc6c9W4CsFvELQzLdD/K57PDhbwG84RdqvG7EF34TaNjMmKKuAK/+dg9ezW4WLxBjklnLsWNXBra/uBkZkeK1W81tkZVgrN6xGTueXY9XHpKL10x0Q/k+i89vP4VSK14atzhIp1aFfTzf31dhxJLZWo+iekBxVxQCxUuuUpfN834PcurEC64gi8HGXeux/fnN2Jp0u0xxD4QvioSkvRQF1b3itXEA6ex+GhuRz/2jJanY9nAcFLFhWJoS47ZM3xIcyf6QdX386jw+x44PxSQmBrwseZneKkLu3oxdz6/Dzl2pCB9/3VluM86S2gv1JYuGKSABL7yyBTtfZMcPFMyVC8CKrelYGcYcPe8ArHxyHVYEi/8lRpY+PdQN16Du/Hb0ioxnZDPlt3eOxu2SFVkAwmND4TtIy/Wgu4PFp6EL3RPhTZ69dPb14BrP946Ry/e2ShVq4YeF4cOQp06e99dwzd28nx6K6MhbNL/QDpLIKCQzOcqvbBKvjANIZ/fDZE8Y4RPoi3E1sNae7A9Z18evzuPztajXzkUu5uKZZ9/EgYvi9zEEL8tbuiDOZClCIsMgny5+/5Ywzpy7LlyzHGGRwArMOgWBMVi/4xm8/Z+bsX7JeBlkQRAEMdbpRp2qHQiIRPhM8dK3FcksRCxkDkJxPdTiJYIgiJFEe2o/3jk19rtax0s8v02MjwVVdGrkHTmH0mo1qqta0WoartunQ1+7BtXV9ahu8cDceX7ouViMrPyqAdeEqdTXW1D0VT1ahRunYfHdNib46tpRfVaJY18dx8EjZajRdKJ7sjeCAmSQjOqLIz3qjp/AibJ2TJGHwr+nFWeOHcenH51AcaMON6fPwCxfcfJpnxZ1hcX48vMc5Ki+hn7ydMwIto5fO5SHC1FUrUdQdBAGLdhtyk/L/BHRXizBiXwlcj42Plsv84M8wDSt1BRPlresLGous4KwLAN7zxPpqCxEfi0QsXwZ7pjei7baMhQcLcThw+dx6WondFOnYZafgymsfNWjKhUKj/F7TqG0sQNd16XwD5kGqavl09GMM0VnceKLXCEfO3USBM3yY+HYzru2Eva/M/XQ+YchRNZfBoeKNdAbpOK94p+dhE/4L8wvQs5necgq0eDq1S5M8QuGv5eNdy5X6/HZqRaWeXcICwxY3ltU5ygfhpAFN/NU11KFgtwz+ILJycmLX+OK1gC/wCD4mEfPuCkrTDbzmWwqm4G5YdMHrcSou1jE6vfX8AoPgZ/1YlYtKhzKPS+sJhcxyxsdlmXmzX5vrcKho+VCfIx6xIC+3k5o6nh86tHiEYp5AayeWeW1UCe+zMf+zyrQpLsBr4AQ+A+xOEBb2XHkFNVB58eebT00vK8Vyk+LoOoJQESwtbwzB+rYSZwob8akGXIETrXSDR5G2TuhvGhO1wDZtPheXdWAC5eYDuvVo6erFbVCvovhWGbsAL13AU326mLfZZz6cxXqlibgewsDYJ39DnWHWYfXo6K6BU0dwKS+62hTG/O+WueLGL6UmbVu6mDycILJw3mTvFjlhykdVvf1cPk8chIHDxejQnMdEiabM4Sh+3YYSh8M0pUS9LYrWTn0Yv5dCsxyoLbMciemUVtZhE8/O4aDx2txRT8Vs+XTzXVNqFdCvJlOHErWnKq7ztZDPdRFSpS1im3jzXaoTp3EZ4fykFdpr52xoK8bmnIljuYW4h+fnWNtZxu0vd7sHm+Hbae2gcX/eDHTI6dRxttbqSgzVnXQHfSNKuSUdlqEMbz2y8TQuq8f63aj+sRxHDLlqTQI84JEweFlWX4OXxxhcnH6sp02ZbDsO6zrgsz2QiXo/yF0nglndYEllvewuF/t7oXfDJYfEiuZcnNBFb4AR6AfV+DfPprOZKPGZwkS5zhSMDYQ649ga92CRdRcjeeQZTqCdoCHlf41Ykc2TX5CcBjSxvmCKuPDueuqx6f/U4iCGgvHjtPRgZqaFuNxcyZWscLoqz6OPxyoGXBNKCCHzh1TrKeO4I3XmaIsvYy6y93QXutGU/1llJ0uxRfFbfCfPw/yaQ6Mg2HRjYpPs/CPAgNCZrfjH7//AkdVbdBcY/FquAzlCSUuBcQiMfgKDr32N/zlpBqXWvRou9wK1dlSHFXLkJgQAi9zQ/A18n+fiy9rvHGnrdW/TPlpmT+84fh4D371/gVU1PQ/u+yUErnNMtwZz8M3xZPlLW8YOZZlYO95ImbnLm4eLr3/V/zh81pU1Hewiq7FpRo1lCf5s6ZgsSIUg+ywtirs+/1H2JdjuofHrwUqJWvA85rgH38H5E7pf3bf8U/w7/+nAEWqFnM+VpRWIOerWnjc4Ycrfz45KO9aTh3EX75ogf8sfxT/5SN8WHBZuFfb0ma8l8nI7IXRCBnKMuAwB135wQf4r78qoaxsRdPXxnBqKuuRn1uMMl0AFscGDGzYzcbOPCxu+AL//oez5nst82GaIgLzBsipA1lwJ0/1zch59y9480A1VKKc8PyrUdUgL/ssmqaFY/E8plDNMu2irEh6UffJFziYr0VwsrVBoEXR/zvEwmyEx/w7oQga6ASrjx/Ans8vw//O7+LOUM/+MksQGzhNOX6/t4Q926RHetF6yRQflrdRi4yNkymv5wVhdvGn+O1HrE40aJlOYHLKy+ircnSERmFxqH3VL7lagT+8r4JyymykWxuntUV4lcVDxRqWZcmhA43Jzmp89PsCnGhndfN+vrJXv24Iv8MTef9tlD0eX1O6rNNp+l7DjT0epq6T1S9TOlk4K/vzte3cp/j973LxxTmT3rOsi6Z6b/wvrl3CUaZDp35nGVaGWQ5mc0J3dJt0uNGx41y93J/3NQFRRgPcrJuCcIdnMd55/SQKKvl/TPJikR8W6ei/bxpmXz2ON94rRakg01yPq1GUp0SlpxyJkdOsnFLWyGfvx6/fKRqsD/JqMTXGDxquDwboSiNTtJdZvjUicPEQBpRJ7vz8jPJ0oNaY1193oE5VxXTHdSxYFoa+4gP41f8phtKkE0VZ08coWPhWCtHpuutsPew3dubP5W3QEXxRYtQv5namygBFApNJq6gYGgrw9m8O4UABc5iEesLznMXlbBm+sKmTGPpW5P15D978e42oR8T2lsnMl5XsOXNv4sTZkXbuhtd+Oa/7+rFuNz4qtMjT00oU35iN5OhJOLeb5cXhS0a5MLcpRrnwN2fdYNl3WNcFmfXEWUH/D6HzGC7pAhHt+WxmN2X338PbMZ4fX3IdyRzQxipy7txGjaNvVaBz8Vh37lyP55BlOoJ2gFn/mtoYAXLuxgYDHDM7iIUBk0K3uCYUkAPnru3UAfzH3gb7iw50tTMnjwnLUnaPM8a7y5gE7TpqKi5DsiQVzz6dju+tWYrk8G9QcbYVdVXMKGo4hxOaUGQ8uw5PPrYC9y4PgL6yBrV19bgSuMCiYmlR8VkF6hCCZFuNlS0BbizA7/7SgO6Zcdj+8vfxg3XLsGZVJKY1V0BZWourMxfjzlkyeAWFYvGdsVg2pxuFFSzHliRj+/cSsCyJXUuajdlB3oPespgwOXeN5VWo0Plj7T89jK3fX4m16QlIVsigVzcJbxwLmqycVb0aB353CHnNkxGzZi2287x5iMVvdTTmS5pRpmpGMVNks78bi5Ah5l0LZf3BZeilfkh+fB0yn1iFtWsSsDIpCF5N53EoqxaNvX3os8o7c9wv1OPS1AhsfGYdfphxF+5dwf5ztYo19l+j+IrMieVztTjzh7/iT2d18JgdhceeWoOtDyfj3rSluGsRywNWlqryC1AZWKPPFJHZUDA5HJfrUXj+OiLW3IvMH6YhY+0ypC2bA39DE6prr6B0kJzakQV38pTvb/bqfhy81Aev2ARs+3E6NjxyFx5YpWBG82S0VF6G6lwZlJ7zsDLS301ZkcGn9wKOqlrRN8tSphmtKuz/qAFXWek0yYKxWmHRe8TiVrC3FNW6MKx5QoEQFvCAnmLewE3xxvzYCPZsOXw0zMC+5ofVW9Lx0F08PrGIkQcZe01Ned3chLJLnli26RFkbmZycq8C8QFtKFZ9jdpzzGAb1Oj048HaEG3uBdQ2TMGCe1i+m42iXlTnfI58lofo6MSMxDgwe9CMrvQE/qLUIuieFKwTtjUw6QYPdLVUobRnNjIeW4V77wrHvBlB8GPPt07nVN8Q3BHH0rTAE03KVmjnKrB1czKTcZ7OuZDP9IMXyzi+FPwb71SgaWow1v7oUWRu4nVhGe5lMixpucjksBYnrvhj5ZIgYzldrsQeli/yhDsHloszukPuh6D585DI4jDbwOq/BojPWIcNq415vywi2LhcvUk3yTrRypxYw8IkPPbYUhaHmZgxcxqrW0M0ylrmVLD6IU9fi+efugfr7me6JVyHmnLmuJ2vgSFmCcujfmOA64NX97cwfRCM9KceZnqV6SOTPmg8j4MmfWCjsZd0awQ58YpejMTZ9rQew1KeNL6498eP4ukNK/AA0x1+V5juqGtGbWsTVEeaIV11N7Y/9QAy1jBZ82thdb0dNdUGLLiLyZBJ2F2qu55O1sOBbZB2dhz+5blH8DgLN421M7019cxxu4zKvtm4y0IvGepy8eprxbhk8GRxMeqkh+5dintToxE1RQNlRfNgndSnRf6fPsAHpT2QMB34+I+NuvSBe5geiZiMpoJifFbchj6W7yPr3DmbFzbgq3T/50c4ZKn7HmB1JW0RvhN5k7VpzagoqYCav4S1qBuW7UZT4CJznq6M94TmjBp1Fxqg0dQg67wnVm9+FP+8mcmfhVxUD8jvwbLvsK7HzkKwvw+CIuRYMoTOc1kXMPg9r/+fMjT18rJncvjkKqxj9xjbo0vI+UQFlZbVnd5b4dyxOvHsHrz1WSE+szguBZjaECZz77yLV//MHGYbNpH21H789FWVlU4fKkx3GDpMY1yy2XXebrNmr1Q54L/6GGuHzSrMG7OxZuZVm85df9jif+sH2yx1H7+JX3xlw5bh8/h+edqcR67Hs5+hy3Tk7ACz/h2gS4ZoRyaAc2dj/NfI8uGHR/HCC/8tHPzcLaQBWJgeh/R0BVg59hMWxq7x6+xYFGBbKQ9FRwk+3Nssbp/giYiHMvCbN7bj7be247UXk6Ewla6+Gfs+VkF83zdK9MAQmcIcjjjIp0shkUoRuOgebFjpKTxfWS7F2n/JwGo+oVrqAVlwDNb/MAFB7E5VcZ1959QZ9L34mn8uikS06aU8qzgrvn8fMlj+hsC4WXxgeBiiY9kxTyyIwBDjd+EIdmpyugHB2PjiE6zMguEr8zCmMzIBG3++Hhlh7PfyEzhUIryHFFB/9SlyWN1UPL4Zz90fhkBTmTC5iL7/CbzwGIuLvh7/OD7EKnCdVTj0N17Wodiwcws2LguFrw97vkQK35kxSM/cjI3zefzsY0AkMl9cg+S5vsYymB6KFT94CKt5dpyvQrnYK2EP3bmj2Fvew2Q3AS/8dA1W8LL0kQqHkAcvsvKdCWiyP8WhizZW4tMD0Zt4PsQghMuIhMuBHCue2IKdGTwfmrH/k6oh5dSdPNUcz8Yhdk/QqnV4JTMFipksD9jzJT6+CFmUgudeTBXqi+aTbOQxZ8RdWQmMVSCCfVrLtHExD0++rzEMp2pQZ1lQjTUoaGefKUxH2AvYJ1h8tlwcKumFkChTfMIQHmhuIoywvE7mMsHlhMupzBfylHXITOOZxepjpYMaJwlH/DJeb1U4Z7kqpKEOylOs/KUsHXxbgUoeaRPdUJXwGVzMAIsbsOwv4xpqdQrs4PKxlMc3xu4EcdksMU1RrH7xC+Z080OOQK4oWSOY8+cSaFhdEOpiLNOfYmsgYQ1beubj2MDr4tmjONZgvG4iJNhqLrMzukPii3AxDhHikoSB80xxYscsq7dmDe3oTsnAzm3LsZT/vsjJZer1PZA/9jheeJDJNK/bgg5NQ+ZjPD/1yCuzWAClU4UDXPdLWR786xNYy/WRK/rAxxvC+qR9Ti5QovfACmY4r2V5zXWHhOuOR5cLsq45p4b6zjRsf5QZJNN5vJmsrXwQm5awH9uZDFmUgWt119V6yNqg0GTs/EkqooN5G2RsZzJ+fBcU7Nevj19Eo2lBDi5De7kMeSJxy1azThL02fRgKB58Ars2hULC284PS8x1WVdyFPu5DlyQgl0/79elvH6Z9Eg0i8fI475OUh89IqzSLUlKwy6T7hP0No9zKl74V677eqDam4V8G22AwTsGmc/056nv3ERseJjHoQvKc1okbmJt31Imfya52JSKePbrgPy2gcO6Hu7LdAzTccJ3BzrPHV3A73mf3yPF6mefMsohy4/+9uhxbGd60nBLdmzgzs0B5PD4/9pou739fJzwS7+u8kXyffxaCc4NWmREi/JiVlcWxGChWac6E6arOBem77L1xt9+zWSKfVds2mr8Lh4DVr1m9us7A8Lcio1NB/DMGyXiH/rhTttLTN8hLcMYFn/2+Vy89Gyu4Jy5ikvxdINRswO+JYyqc8edubzjpbiuvyEc/NwtB0/GlMWDqVj7YBLiQ8RrnKgEdo1fZ0eK3CnHwhpNyTmoxHNEJGF98gzWGOmh62RaKWAx1q4RGwHOOdbIOjLeDVrUVdaj2vpo6ndUhmJlahwCB5SKB0LmiUt+LkhE8hzjqZk5cgjq4fxV2NjNx3l8fYWKhOMFyGuwiO/0KKzm+csaHrecZxtEPJyGZFtrTk8Oxur13FntQZFSLTooaiizeQsRg5V2lj4PuTPB2BBmVzlUUroLlShiQQWtSbG9iupk1gCIxpY9glgDYXb4TUjkWJLAT5qhcVgIWpwrqGfGInPS16dAbh0ORyrH2sdiWF7rkXOmbrBhGbYcG5bZyYfUNKxl4mo4W4kqh96dO3nKnJkcrjVZ/O4Ls71SYWAcNj2ZhPR0OQxtw3jVwAyKRGZMDHSW26EqZM+XKrBpAzOp9RehtHB+1SqV4GCsXBQ+YnLK6//yBdaFxJfBjxXOVJprwqdtxOXymSznlfUvuWG4WCMswa7ISEU6K6vawvr+ettZh3Pn2OdcBaJtLFgSf38Swm3JjDtcqkKW0AgmINFmXQxAYip3XfTIKjXGX9t2RfgcxKjoDjnuT5O7cV8YVidZ6GwRX+YMcwPE0NRuNhS05Soo2WdQWoodfTSEPpBOcc7hNDH3TiRHWxVgMDPGhUueWLEixqoN82IOMVdUPdC0mmI9cvrQHomrFyPEun5PD0f8Avapv4JmU1TqmAwxh4dvJ7Bhqe0hLYHL0oQXdjh/Dkr+XyZPVUpRBz6YYNXWiTA9YnR8xgh9ahQd6WIncmzKUNhYfZdhjnMz8kosX9gYka9OEMu5n0DWdgvyzXTayjir/PORQzGffVrm92jhhi5AEzOihbJPwf2xVgkTkCJ8TSpW2vpppOloZ04msPr59Ug2OWeRqYMdjMhIrGYfORb6WKCjDsrzTCcnhPfXZ2fDdIVRCLMuN5fZr9yxM4XJdFbmduxIE37uhzmBn2eLDtjD4pY5/NmCY1aC1z62ypOxwFixA8YpttTUiHH6dKV41o+ta7cT7dcWBlptPl7d+S52WByvHrBU1M1obHKwr1FXHT7nm6ZaH7Y2UbVJMObMtOo9YPgGzjCezAoYbExMHvx/twhWICPdT3jL+uFv38MzP/8jfv+XbGaYtkLn4M2h6/ghMdpBwx0aKhhhOMscJf7JFKKa2zK4iANvGPfHGnS8U4Bq/hfeEDpwvjWX6oXPuEjrXhELuEKZK57bIC7Mwb1Dcg0a1ogAUYiwdtItkMxjhhQ/UYl5YIGcaTtb7a/A5BmQC5lXj1pHK7S7k6cdV1DLq8L8MIQ72DvSd8Fy4WXL6liXzF4rAqD4jtFQMveOifurSVIisXSRAonM4D1WIjq/fc1QFRgNXsX8EaoPnDi5sWfGTYTl8plxYzh+EXVCHepFXdlFFudQxCsUUNzFfqwvhUowegFdZZXgbMi/EwnLd1hG/BAzgmPCtS1XjHlXnIvXbZU/O9783Nhra2gwOkS+0+3U29HQHXPlmOPOHqXzWZk5+ZavTWNMn2N9wPTRSPkZkcE2yzVQMOzYbzYqtsTDaq7aCOpD2zBnc65zFrm21ShDMbGOXqwGIHwxD+8a00k84kyPnOXXHevAwOjYYdW9EUXLjHIe9SF0H+8V5KNo1LVM7o2XzESH2hAif39E889If9tO7i2yTt3RBdrGZsGIdlj2knAoksTz0YTpJV6vct4YqgdKjrRNrK5nFwzoXdUyvatCHO63fGnqdJguMOJhavlIb6seRyOBIQN1mjGNrN2xbpens3RzRzCbtVHGK2OIMWIHjFNG1bkb+3SzBko8dZKvtfwNnh3Mw0etjnBnJwOzhvy2yaQU4Q9uwSvPM8M8zg++PV2oOq3Ch394HzteOoAzw+oWtMQLno5sB4mU58Jg+HAV8XQwngjkG9nP9YathSYH4TCPPeHpyKgckfLxNA97sYlUanTi23uZ6hqIr9Rm7oh4wMs5u8yIO3nKh2GKp6NJ4KLFgpNvGpKhOV8qDMVYsYiZfLIwxN/JLh6vQTXX6uahGFGIHsnIeQyzsCVRSEyxGJrJh2Qe48PRjI2xfIGCGYPXkC8Mzewfkpkca8ubGKLeuIlE4kCepN6s/JkMTBf/IzoamjbrkQijoDt8prAUu4E78umwmKXwsqcP2q72j/pwhuHKkyUjqQ8HwMrYxWh6DvF/L2+jQdmtF7xSkaF0oIu9oreCoWRL5m188aa7bjQ2LRnBoh8tXNIFIo7L3sX2yG3kyDD1QD37prC/m71l+Y09+JZD6sUhmWmRCBevGHE+TOcZ6TDFl8U2Xvr7BosdAiLGF1kzEGrlBI51xoQdME5xWfW7QlKScfiSJbau3T68EDjHQlmlrMHvxPHC9o5MO0PiBMzDR62OuJF69TtCODBKfCPjkLFtC37zX8/itX9bh4w45ph2qbF7d/Hwhn2aaYbGzugugQ7j0AUEeHAzgzUqU41G3sw7sYVvVu/wWIN4B8XjKbY0bVcdDJPtY88XetdGA094CaLQjjZxzR+btLYa37wv8B/US6e6bNmTbI34Jo8bpI4aVXfy1NtbeCsNjdb9zaddwTQMTBiS0Y7qwmvCMMlEoQWWIiaej9eoguqCfkwPxQhfpGBxMg7NNFyowTF2LT5pvrExnhOF5Uwe1IUXoRliSOZIw+eicULuechGmVsdTyiM8RXnmPUYbM+HGn3dMbLI/I2T6+uaHNQpXStqreYcmjDorwuf7s/BcYMR1IfDxSRDLVcdvPBELzSNxjeoxnxyUgdeaXXNcR5NTHk+hO4ztFxhGolha4TNGMYdXeBc2bP26JJ4OtpMj0OmYKNlCEMvVXt3M+dp/+D5j2JPlXkelzgkczV3FqxxNkxXGI0wJzITxA64HYyqc7dhwyqsSFmMqdIpwsHP+bWxxJwoPi9G5HguDlVbvl1kjsCpgxbDE/YjTxxCNbZhhrgwtLAJzTasKnW19dDYXrTxfW8q65mRKV6azCdGh2H1k2uEeVyor0HdcF9cieSdtL/gh6akVGjUg5ZHCYYkZKGI5pW7oQTKRn7BBvpm5B9mZfdVvVFh20Eey3tKAGWuCho7jbSupAR54vnIEwrFct4oqnHsrD2Dshd1BWfZP4AI1uAMMhLyWT7YM4r4/kvcMQ1QQDHLeMkm7uQp37RZWNyhFAWVA+tIP91Q7n5beCP53hnn55naxhcLE/jQkmYoj5xGPjOwBZkQNZYsNhaJ7PNYQTby+FAMaQzix+JQjPBIrGBFbjiuwj+Kueknx5JYU58Ukwc+NLPhLHI+MQ7JjFhua0jmyCMLDxPeiKrzVFDbqQsGJh+HmAzkmN5yB/gL88+qNJaye2t1x0gSMj9GyOvaL4thpfbNaE6fRpF4bo32Ks+HYITcyrfhI6gPh4tsfpQ4t68EKnsqoaMcx46zT1Y/FwptkjM6kOkR1kbYxMDnwzuYGjEayORYOKTu06Iol8fZEytjHSnfsYc7usCpsm8sQc4F8dwKQycrx0HdmyOBHBlm56kZ+3IHzyULX8QXEjHO4zINyVzicM7b0GG6zkiE6YcQrgss5hGb4EOmLTEO03RnmHY/1mHeGiaIHXAbGFXnjsOduddf/7FwjDXHjiOJTjJO+BboQs7v38XPfiU6c794G7/cWw91wzXh0ATHIfEWvFUfPgGQR/N+r1bkHFcPGCKiq87Fnk+ttbEHui9kCfMD99ltcKXwtHwdIvUw9uQ0taLNxZ4cw9ls7D42eD6OtiwL7/2NPV8airXLTWPGfZF4Xxx7VhcO7c6Cylo59bXjzN8+xb6sElR7+A52hiyZG4e1C1m+1Ofjvb9XQWv1fF1jEXaz8h6VNkdEvny5sCBL7d8OYH/ZYNOLv0x4hy+YwJRUuo2FIfgqeHv2FkFt7R13VGH//+QLQxYUD8aZlZ9t3MlTLyy9L4EZwz049qeDyGu0kqE+PdTHDmPP2R5gZgLSE0wODMNNWTEtgqE6XsVMQSmWKyzmEcj4kEf2ea4G+UxkJMuiEO706zopvISJIu3QXLFnmYwQk5kzJwzNrMKxU+z7EpYmi2F+8rg7WTOvR34+b9wDkGhzSKabmHscWo1zhiyZvhD381U/W4qxx0ZdEJab/nMusrLUkPiLtUoyA3P4Ig8XWXjGKwzXdYepB12juc0e36wEbFjF4tKuwjtv56K6zcJp6OsW9kt6nesjm4g9UtJZCLW7MdpoMAx9OAydbROfWKSlewuy/d5uGzpJV49D/31CeFkX8VCSeaiUQx1oqUes4SsDCnPh38KvDg9s10YXL8TdzVd9ta/7qg+ztPAXa2FJWBF9G4xLR3VdwBdBgu3SDFWN1Ys3d3TBUGXP26PdxYPmjAsvLw//ET8RynE/zgzD2XAM07t8LpkNx8e4sAofmqkWhmQqNiVYDcm0h4Mw3cZBmOIcPfv4IpS/Rxiw4IgR03xiE4OHo5pQ41w2+7AeljpogT5x+Kothozn8Bg9O2BiMz72uTNj2ptC/GpjDxzz3jacYCf2uZskw7wYf3RU1EAtjjAwdOmhvcaO6/1aThKRgBeeTECgxSjOkcOULjv7wdjcp8OE7X3M/EOkuHSyHnUXKpB3vgWd7RqUHcvGvk9Y9VgYCv8rndBa5I9foET4f3XpeZS1aNHXOxmdDWX47MNcHG3ug+TOZdiQ2L/HDZ8Toy9Wobq+AScKKqE8o8SJvG8wO2Xe4H31REx7/iiWzEZdzkl8UXABmqtXoa6tRN6HR7CPOXyd8Mbq59Zj9az+jPYICEWU5yUUFjeg8KuzqPxaizZ1A6rLSnD4L3k4WmeAZGEqtmeED9pkdSBSzFoUCn1JBcpUNcjJK2c6VYum+hoUHP4C+w7VQ7tYjmhmdLZa5eegPdOsGOp3M1NDEB91HapzapQWKpF7tgkd37Sglqfl/RwcON0hLM2+4YV0JPbvXtsvAwvkWFyvwkfZSlS2dAj5UMLKdc8HFahh8huS9jC2r55hMcXDtny4lae+87AwqIndY9xY/0RlM7RtGtTwez7IxaFiJjfecmz9STrusJxm6oasCEz1gqFerO8Bcch4aB78zOU7Gf6TO5BVxJsgT6SsvQeLrTYztV8mnvBDC46ea0MNK4Pi8vMoOKlEjTQC8bNYbXBY3xhD/W6Fv6QbX7L/c20Sn74a35ll0fr4yNBXXgoVX9cpbCk23GO1qflQuoFhN50SFlJLKYprW1B4shxl50px4uQlTFXEYtZUln/hs+FRU4ViZTWrCxfQquV1sR6qU8fxf99XobbLkxk+6/E982p47FPLyu40ELMq1riHEMNV3eEn1aH4RDPqystxouQ8zhSwMLsCcVcky8sh9xmykx9D3Wfzd08ExkbAX3Ne2I+tMPc0vsxn8ll4Ch/tP408VTcUP/guFCUNqLMOt+8yTuxh9WrhEmQkWOhFWziUF8fla2rPZlhsEOy2PnRYD4eSM1u/MxmKisJMTTnOll5iYVnppL+WoeKbPoSsXIPM9NmQmuIi6kDlKTVUZ610oKBHurF4yUzm/LN23CLPtKV5+KDY2LZ3fjMNiSvlcDQ9evA+dxa4WIc9/MNs675zxdi/9yvkVOjRN5Nvd7ASERZ557BdcCiztvLbQRk5rOvGv/hKr+MMS3Otkv1vgM6TuaELjGXvry6HstxG2bP26NJ0Oe7wZ23pNcv4svj9SWmcI9XbCcOcIfaIZAy5J5qw/9rBAfuq8WX/X+OrQ963CncN2pPOD7MDGvDB3iKWl6G4d33CYHl3OUwmn+Z932zvped6mJOYmCqRk6O0u2ecf4gMl74qR85XDeL+c8b9/P5QaPzdLHeszsUIaT5u3AePyzx/WbLjcxQiDjt+GmeOr7/kOqsbJcg3p4Nv4fABDgrGsy39MHQ8rXFpY/ph2gG267qdujRk+zN+GPWeu3FBYIywv8vWtFCmAMVrJrwDsHLTE/jNT+wsXT9WmR6HbS+kInm2J7rr65GTVYJjJXrI16zD9sdiBr7R5fCx4P+2DmsXekBzVoUP9xzEO3uLhZWJIlLSsOuHVst0Tw5F+nb+f5YpHcaeTbWTb+FCUjOw67kkxHtrUXS0BFlZVVC29MArjJXDv25GRqR1Rkshv/cJvPJsAhTTgdrTKnYPu+9oPWp5b8fD6/DKP1tvIWEHqRwZO57AxpQAeHV1QXmcP1+FostTEb8hA69sTRzVt1AcSWQqdu4y5p2hRY1jprSw/ItISsL2f1uPFdzJsMWsRGz7X+uQsXAq1GI+HCvpQrcopzsfdnb5ePfyNDCJ5dHOVKwMY40Za/y5XJnjnsLS9XIGllpPFHRbVnyFzXc5QXf1D8UwIZkfhZX8RBqJ+EjX3pbLlqRj56YYRHj3QCP0zPN9HEflzQ0QHiNse8CX6U9UDHTdeG9d9HeMDU7EdxyshOoWXoh/Yr1Z1oV8b+nt1/pSVi4/2Yzta5je62kX62IJck63s6iGIeO5rYPmGBuHNjNHrs6il8tV3TEnBdufM8qd9rJRHtp6Rynvh2JyAJK3PoVdP0pCYoQon18zHRWXgMxdT2HbUjuWSlM9mDpFYnyYg5UiRws39eEwdLZdJvtiKcs/oS556s1x4TrJMD0Uq7cwnfRY1KDtA7gO3CHoEdY+WehAtfccbHiB5XvqwAUhOL7RCtZm8DNPRKRGjbqetsam7juuhqZHCkUak/MX06EY1LDeKoao6wye589tsdR519DdJ9Y7N3SBsFXIP4v3MGO5v+yZnZGWjl0/T0P8IO87FIp7/IxtFHtmUrS1PnSDQH+hZyfnDeMiJfzgDtPq5+2vkWDqDbK10qSAG2EOicthsvzNNM7Ns7zngOU+fcIcPnFo5y/477uxb1aGee85S4R96fjedtkHjGH9IheqBan4zVupA3vt+BYJwv57poVfDiCH741nI0wjTsRzWIyeHTCRmaS/0XNTPCc4fb3QdYtDQjw8IZONf2Ex6PToYXqeD4dyuEKZCT6vQRza4dQ9LM8MvR6QOOdVDMAUN75KpsyOP2ON+R7WyMt8hlE+FmXtdN6MNMOJg7mcHOWDaePUOOywVuIWuJWnfD9IcWyU03EfhqyMGnqWcOnEbxT4hsJ841ebWOo9R3WxrxlZL+/HIcUa/G5D1OAXCa7qDgOTBw8mD7ej7jlDWzF+/2/HUcWNoMw4ZmYYUX/+Ll79NBTb/msd4m+9dzcAt+ruKNVDc1xcaTtNesSZe7icMvm67e2yq3J+i3FY1zmO6p2zusASi3uGzI/WYrz+78che5w5jN8d2lGqbriC6LmDnf1hwXutmHMTwhyr4W62TbjOqJQpMYCx2qTePvhiAD5MofFjAjh2HAnTzjw9TjdAXKGLeeDUPSzP3DUSTHFz1rHjmO8ZjmPHsSjr29Y4DycO5nIavpy6ladS0z0uxH0YsjJqfAscO45DY89S7zn8XygS7wkAjpeixLSAiiWu6g6+vPztqnstRXiVv2X+k8r+Ak/lKmEFxKCoGWbHzrSfkmSlAorb7Nhx3Kq7o1QPzXFxpe006RFn7uFyOhbaZVfl/BbjsK5zHNU7Z3WBJRb3OM6PXlTnFqA2LBkZy93sARsBnFtIhSDGL2NQLREEMWK0aIybk5q2liCIYRK4JAmJUkerHY4TZsZgBV9t7lwu3vlC7XiBp6T+Sfy6ktPIag9AxgobPZcEQdinoxzZx6RY+/1EhNwm65PPjXtprysLqRDE+IOGZRLERKSuAK/+rQrXWq5BqwciHtuMF1Y6MdOZIJygrawA+Y2+SExTmBdWGZdoa7D/zU9xrIWdS6WQzxRn1mu7oO7oYdf8kJ75ONaa5wF3o/rYaVTx1WyXhZJzRxCuwIez9rgwZJdxQd2KqDlBmDTJcnUg1zEtXsJRbLIxh5C4Jdy8eRM1jV9jvjxYvEKMBuTcEcREhK/M9UaJsCBQ4oOp2PBdOWTUT08Qg+nTou70aWQfrYHqst64xL63N+KXJyItNQ7hthZcIAjilqBuuQp/Xy/4OD1GlBjLdOr0uKrthnymw7WyiWFCzh1BEARBEAQx5vim6zqufmN0Bobbe0fcXnivneCsT/PCNG/r/SeIkYScO4IgCIIgCGJM0trRCd31Gwjw84b31Cnk5I0zuFPXxcqv/VoXZKz8gqc72qGSGAnIuSMIgiAIgiDGLLwHr6NTh+s3egRngRg/cGd86hRPTPeRUY/dLYKcO4IgCIIgCIIgiAkALbFAEARBEARBEAQxASDnjiAIgiAIgiAIYgJAzh1BEARBEARBEMQEgJw7giAIgiAIgiCICQA5dwRBEARBEARBEBMAcu4IgiAIgiAIgiAmAOTcEQRBEARBEARBTADIuSMIgiAIgiAIgpgAkHNHEARBEARBEAQxASDnjiAIgiAIgiAIYgJAzh1BEARBEARBEMQEYHw5d3o9dJ16GPrE74RzGIz5pjOI30eTvl7js3S94gUn6WhGdYNW/DI8DLpxICcjmN4xibtywNG1o+5iO3RUz28b46IOEQRBEAQxiHHl3NV9/i527HwXh+rEC4RTaM8eFPJt99lb4Exoy7GbPWvH7nI4/TRdFfb9aj/e/O1u7DmnFy+6ixZFu7mcHETRWPWdRjS9YxR35ECgFTmv/RWvvfFXvPSJWrxG3FrGQR0iCIIgCMImNCyTGFN06yeos2OHb1t6CYIgCIIgiNGDnDvi9iOLwcZd67H9+c3YmuQrXpzAjHR6tSrs++0evPq+ysVesrFIMFbv2Iwdz67HKw/JxWu3mm4o32f5+dtPoZyoPVd1BSx9LI3ZzeIFgiAIgiAmAuTcEWOD6aGIjgyA7NsikSOZ3r4eXGu4BnVHj3hhnCMLQHhsKHxvmyz0oLuD5WdDF7on6pyzPj1LH0tj5wSRGYIgCIIgBMi5IwiCIAiCIAiCmAB47Nr1y5fF8zFPR2Uh8muBiOXLcMf0XrTVlqHgaCEOHz6PS1c7oZs6DbP8pOK/bdCnh6ZKhcJj/J5TKG3sQNd1KfxDpkE6SfyPI1qrcOhoOap1vogJkYkX+9FdLEZWfhVaPEIxL8BTvGpEe7EEJ/KVyPn4BIobddDL/CAPsBNXd+I54B5jfsAvCDN8PKFvVCGntBMzFi9B4hzbz2wrO46cojro/MIQ4iNeNNHXCuWnRVD1BCAi2Pr+btQdO4kT5c2YNEOOQLSg6Kt6tAaHIS0xBH0tVSg4chIHDxejQnMdkkBjnAaiR93xEzhR1o4p8lD4S8TLFhja1CjML0LOZ3nIKtHg6tUuTPELhr+X9fsJPdRFSpS1TsPiuxWQ32yH6tRJfHYoD3mVX0M/eTpmBMsgcaO8LeNQVOegTHRq5B05h9IWD8yd5wdJhxr5J85BeV6PoOggeNlLr9XzBJn5Mh/7P6tAk+4GvAJC4D9V/C+jrSQXOWfqUV3VgAuXOtHdq0dPVytqq9m16oFh63g55Cpx9As38sFEXzc05SyM3EL847NzqNG0QdvrzcLxHhzO9YFyIO1shaqwCLlfsDirvkanbjK8AqfDx0ZZm9Kl82ey6C1etEDbwOT8eDG+YHXp5EXHYZlwSn5M+V+tZnnailadAX29ndDU8fysH1ivdVyuCnHiWD4OHq/FFf0k+M8IchgHWxjL5Yw5LVe0BvixOuIzRfyDGSuZ6XFHrk1h8PSoUXNZx8pUh752jZC+6up++RxWHWJ5U31WiWNfHcfBIxfQ5IxutqZPi7rCYpw4WcRkzbb8D8AV2bSqZ8YyKO+vr+Lf3EqHC/cMkHOZMb1ffp6DQ8Ua6A1SBM3yc65dIgiCIAgLJulv9NwUz8c8dR+/ideygdU/Wg+vLw/gUO3gIUVeS1LwwqYEhFi3pW1V2Pc/2ci/bGMYkrccG3dkIDlY/G6Pi7l45o0SIC0Dbz88eD6Q9tR+vLS3GYpNW5G5zDSXihlUH/+VxbtL/N6P15JU7Nwah0BL/8SdeGprcODtI8ixcU/IsnRsCC/Bmx9Yx2sghsos/OytKiFtv7NOG0v3T1i6DWEpeGVHAnPgLOhU4b2d2VAGJGDnKymQd5TgnV/kQrUgCVuj6rD3k1YM3IHBExEPZeC5e0P7jShokf/Obuw7H4qNv16P5OniZQ4z8pT/7wD25F+zCofjCfmq+5D5SJTFEL7+sDK2hEL5QTFqrdYskUQk4IVnWFyHsjXN5Z2OnV5n8fqgtDBYmWzYvgYrZlkEZs6DFGxf3owP/1QDjfBDHHa8lYpwe+k1PW9VCrbpivHeKWuZ8Ubyk+uxcYmxDE31wTb9YbcxufwVk0vruEtmx2H7T1l8hsoHhqGhAP/99mlUDRZjF/PAAqkfVrP0ZCzwEi8YMdfz57cjI1K8yNE3I+e9AzhQaaNusLDSf/Q41kZbJcYV+THlvx3M9aeNpe0/WNqs18LhcchkcYh0IkMdpYXFK37DemxJCbZZR9yXa1MY4tdBDJZPV5/Vdu5TvLe3Bmob6wTZ1He20Ktx4LcHkNMifjfD8uUHm7HNap6qy7Jpr14vSMVvMuPAQ3cnHa7eY5bzx9Oh+yoL+dbpnRmFbZlrED9A4RITnZs3x41JRhDECDBp0si/xRuXPXeN5VWo0Plj7T89jK3fX4m16QlIVsiYTdAk9FoUNMmQmBACL1N+cWPhd4eQ1zwZMWvWYvvT6fjeQ8uwZnU05kuaUaZqRvGpFsz+bixCBr0xt+BqPT5j/0PEHVgT6yde7MdmD1ljAX73lwZ0z2SG9Mvfxw/WseeuisS05gooS2txdeZi3DlLNOHciSe/5//7BDnNffCKTUDmM+vw2MPL8MCqGCwM7EZF7mkcrbiOvt4+hz13Hiw52twLqG2YggX3hMHfLGu9qM75HPmX+lgBsLQlxmGeRW+KrvQE/qLUIuieFKyLnNbfY6Ntger8dcjT1+L5p+7BuvtZGYXrUFPegkvna2CIWYI7AkyWjlVPgfntfDeUe/6M907r4DE7Co89tQZbH1uBB+5hYS3k5d0IVWkV8q74Y+WSINEQNoV1HTUVl6FlDsy/PPcIHmf5mLY8AL019ahpuIzKvtm4i5Whh3CPHUzlfbkehSwtEWvuReYP05CxloW1bA78DU2orr2C0tOX4b+Uxdvko5jyQNaJ1oLLMCxMwmOPLWVxnIkZM6dBai+9puc1N6HskieWbXoEmZtXYe29CsQHtKFY9TVqz7XAP9l4z1TfENwRF4tlCzzRpGyFdq4CWzcnY2USu5Y0F/KZfvC6UYX9ryuhljJn7xdP4unHmDylL0BY9wUUlqlRLZmHVfNZuTnAUJeLV18rxiWDJ5NLYx48dO9S3JsajagpGigrmu3ngbYJxUUd8Ev+Lv75nx7AeiabaSlRiJJpoKpoR3VRFfQxCiYL/b25A3roA8SLzEnL/9OH2M8cE3nyCmT++EE8/shyrLlnMRYHa5lMsbqRXwGPxQmIMtv+LsrPFG/Mj41geSeHj6YWddeY87klHQ/dxfMzFjHyIPh7GaD88CNkqT2heHwjXn56FdY8sAwp8g6oCi9DWd2HxSvnwc+Rrjaoceg/P8IhVqd4nd3243RsYGHcm7YI34m8yfRbMypKKqAOiLWoryMh157wCgrF4jtZeuZ0o7BCCyxJxvbvJQjpW5Y0G7ODvFk9cu9ZBuY0vfFOBZqmBmPtjx5F5iYmu2tYuhJDIGm5CFV5LU4MqKu2UX/1Af5a3IuQtHV4+SfpWMfCuHuxBy4XXUJZcRtmrrgDs0z6r/E4/uM/zwyQTaF+mmSM6UzlcSu5MNWzvnY0FV6D36oVePzBOCRHzoB/oExw/lxNhztpN7dnF+pxaWoENjLd/cOMu3DvCqZ/r1ZBVfM1iq/IkMJ7vsV7iIkBOXAEQTiDu47fUO9QxyQGBGPji08gfVEwfGUekEilCIxMwMafr0dGGPu9/AQOlXSL/+bGwqfCW2DF45vx3P1hCDS1lNIARN//BF54jFmQ+nr84/gorByn78XX/HNRJKJNIzllwVjx/fuQkR6HEHSZexTciaf62BHhnqBV6/BKZgqig6WQSVie+AQgPGUNXsiMQ6DeVu+AFZJwxC9jBrZehXOW+wga6qA8xe6XejKjpB1Fle3iD5xuqEr4XmTMCI4LNV4ywZ4pf+xxvPAgS4ePWEaL0pD5GP+fHnllTcb/OcBwPg97zrJnL0jBrp+vwQq+AImUhSUTy/unD2H1TPa/s9k4VGm9WXYPDKHJ2PmTVCFPJOw+WXAMMn58FxTs16+PX0Sjs4tl6IHoTbxMYhAynYXF8lcWLMeKJ7ZgZwYvk2bs/6QKOvHvZhra0Z2SgZ3blmNpbBiiF4UKvQJDwp6XnLkZG5ex/3P5lvlCnrIOmWlcIJixWmlcwlE2i4XJw41i9YBf8Ak2fhcOOQK5Fam/zkqJEcmcfVOP72RfKB5mjg6Tv6VSPRwuCNnXjJy9JdAwxyBxy1ZzHsh82DE9GIoHn8CuTaGQsDzY92HJ4LCYHASmPYQXnkhAOC8Hnnf8PibPr/wohslUF3LePw31EGWhK87GvvIeJudMpp+Ig9xXdCkkXpAvY9eeNIZ16IjKXA4uy485/+Ti0GQvhESZ8jMM4YH8mXp0Cw8IRrzC5HkCvovuwZYfxCE9yRO6IVbYVB89gixWZyVJadjF6qxipq8xP318EbIoFS/8ayoU0h6o9mYhv0O8ycxw5NoDgeFieuaJcQ8MMacvOjYYAwebu/AsLid/5nISatTNsQGQiK2LJDhM6NHcwHXz2aM41mC8bo+ebmPXl2JRmHnBIdmcRGx6Mgnp6SzeHWJdZ85Z3v8rZs+UYvWzTw2sn6KM7eSyyeWC/a/NeFc/9VrIWL1+4dE4KHj6o5l8uJOOYabdgEhkvrgGyXOZHPA8nh6KFT9gssmL6HwVygfJADEe4Q6d6SAIgnAGd/XGuHTuIh5OQ7KtoSqTg7F6fQKCmFFSpFSLRp4aymxuLMRgpZ1l50PuTEA8+/w6uwojvj+6ry8i+OfxAuQ19DucmB6F1Q+mYu1S09Ard+LZDNUJPhZJjrX39RtClkgiU7BhpfUcN1t4IJw5oBKWd3ll/ZtHGy7WIJ9FS5GRCm5X1RbW9xtJnXU4d459zlUgmhnJAwnD6qR+49eEb2yMYBgamtodOxXMiFYVVjHDR4q1DybYHsolZeneyuKVroCss93sJJtIXL0YIdb3TWdO7AL2qb+C5iGMcDNhy7HBznDWkNQ0rGXJNJytRNUg706O+9PkYvm6QMBiLF9g/a6el0+scKbSXBM+ncLbG0E8qPNFyCrTwmAyxiWhWMrl7+4wxw5nXZXgiGBJKjYsHTh80kTgsjThpQrOn4OS/9cSaQw2rLGdB7JFK7BpCTtpUUHl0NfvhuqM+BLhrjCbYUlimWPFxe0cC0so1+HLj21Yfgbz+sQM+i+r0Ga+yQPyJJafDy5HtOWwYmv61Cg6YqyzmzIUtlcEDYzDhod5YpqRV2L5MsXIiMm1Ezj9rEtMTnhUUxKQaFM3ByAxlQ/31iOr1PHm9L6BRr2R92UR1J3CqYDvguUsf1OxdI7o2DepkFPPPpek4P5Y6/piJHBZOrY9zGQjVo82ayeJ1bO11rrWnXQMM+1B9zHn0jr6EjmWJPCTZmgGeaXEeMFdw4wgCMIaV3SJLdNijOOHxOjBToOZ0FDBecBZ1ijyz452cQ7ERRx4g+9dZeN4pwDV/C/cWBnpt6TBCmSk+wk9Gx/+9j088/M/4vd/yWYOVCt0lm/Y3YlnxxXUcqNifhjCrRdBMcOcAoXlxCX7SCKjkMyMDMPxi6gT4taLurKLzOgNRbxCAcVd7Mf6UqhEA15XWQUl+5R/JxIhxkv9zJdDPnjNGRdgaTvLP6MQMUe4YBPJnDjB4Ot3kk0EI3qutcXkHvLEsIHzDC2ZPANyQeDqUWvtoMyVY47dcnFAHMs78XTYSKKweoMcXujCsT/sxk9+9i5efS8LOafUFo6JfbStVwSnJyZWbtWrY0kAwhfzvL7G8kAQ4n6SohBu17v1wpwoPrxZj9pGRx5JGxrK+WcXPv+/NuoFP147gmPCnKtmNLTyz+HKjz08EH33XYj3BjTHsvDL59/GS785gP3ZJahrs+49toG2HRqeRQ7rLHNKwsMQxD7VtUxPGC+JjJxcD43zz9K2GOUExbl43Vb5sOPNz40jDgwNjl/sBDInOX22Jwzl+Xh155v42a/ex56/FzG9Y/FyjKFtbBZGRTiWTV8o0uw43YrQQY6rO+kYbtrjwqxGPRDjEktHzhUjjCAIwhWc0THj0Lnzgqcje0Mihc1+Kj4cSzwdjCcC5/pBPtcbgxZfHDZShD+4Ba88n4rVcX7w7elC1WkVPvzD+9jx0gGcsX4r6048+TBM8dQWEqm9JeasYI5AYorF0Ew+JPMYH9YWg4XMMJIvUDCD8xryhaGZ/UMyk2NtONtDxMl5PM1DnFyDpcP2xCOX8ZU66vn0gJc9efSZwqTVDTxGKAL4leoAAAzpSURBVOIigUkZeGVXOjKSghHiqYe6pAoH9h7AL3fuwaGLVs6YHTyHiJKXt7EHpFtvFZ5U6lAOvKSu5ZCXg3j4zeR1ww9+A+TFXflxQGActr28GZkPhyFmJjPuL6tx7ONcvPZvzHE+rDYa+kMxVP2QeRtfKOiuW4U3cnI9NK4/SyJxUFek3kL5yKc7qk8M3qP6883YsUmB+NlSGFpaUXQ0H+/86j387E8laLMadjqUbNrFgWy6kw63037LypMYDciRIwjidmHp6FnqoRF3ZUafZmiuiKe26Gg39tgFeHDThDWqU40G9sw7seXFLdjp8FiDeIdj1BzTprE/Z883Mg4Z27bgN//1LDMC1yEjzhvoUmP3bnEuiDvxNN2j0eKalcFjSZtm6PltJsIXKZjBYxyaabhQg2PsWnzSfOPQvTlRWM78OHXhRWgcDskcCbwRNJd/tqPNYmjW7UB1mTuz9tDy9U8YUvtO3hhANjMGq3/wBHb953b87tfrsXVVMCT6a8h65yiqHXgjfK4kp+WqraUITfRC0yh0lyEk2HqYW+vguU4WtGmM93mJz7GNJ7yE9weRyHjeVn0YeKwO5/8dZfmRBUCRtg7P7XoGb7++FTu3KBAh7YE66xP8Y9D8TwucrLOGliuo4iezApybp3mbMclJyD0P2SyTAccTiqHTNNkX4cvSsO2lp/G7N57GK88mIZ7pme5zudhz0lgfZb7GUBzLpmu4k44RTzsxLrA2pgiCIG43Jr00Dp07IO+kjcUrRDQlpVCxz6DlUcahbbJQRPP5IQ0lUDbyCzbQNyP/cC4OfVXveB6Yj7cxTFsGa18zqorFczO9aON7ZFXWM2dIvDSZL0oQhtVPrhHmaqG+BnX8oe7EUybHQj5nqb0UBZV2emBYvIq+MhrQThEeiRXMVjEcV+Efxdy8lGNJrKl3JdQ4NLPhLHI+MQ7JjFhuY0jmiBDAHE1uNKlx7Kx950r9xR/xzLNv4t/EYU+jQj4rE3sOAt8jiy8tH6CAYpbx0lhC12SUP8shg5LpoVj66MPG+W76i6iyJ28M2fwocZ5nyeCl/010lOPYcfYpjcFCwaGy4EIxiuzKcw2KjvPFfpgczzcayLYJRUwCf1VzEUXlA4fmmenTQpXN6sZhFdSCszpK8tPZKuRnNau0Zp9Y6gv50jRkPs61Qw/yaxy8THGmzrLaXZTL654nVsaOQaGygSw8TBgOr85j+W/HaTUw3XaI6a8ccUEgmxi0qOP5W2kxHFUiRWDscmz7IZ9PDdSq1IL+k8yVDy2bnVXY88KbrIwP4IwTTr476RixtDuJoVMPnVPdw8RoMFacOh4FOuigY2wet5tx6dzx1e12H7Oas8bQlmXhvb8xQ04airXLTfMYfJF4XxwzCrpwaHcWVNZz6vraceZvn2JfVgmqPXwdv1UNDoGwjRYzWI9ZDmfr06P6k09xaJAN6YHuC1l4862D2GfXwJTCUxgb5E48vRB3N19xswfH/nQQeY1WFg43eP/O4mW9yIUjJjNnThiaWYVjp9j3JTFQWMwNksfdyUxxPfLz+ZDMACTaGpI5QshTViGR5Xft3w5gf9lgo4iX955PulgWhuGRlFGct6Kvx569RVBbv1HoqML+/8lHLTPCFQ/GQX67apO5N6jVOJ/LkpYSQf7ezK6zM1zQAxJH4wN9YpGW7i3Iw3u7beSBrh6H/vuE8EIl4qEkRA8Ky44861qRt/sIjrH4hqQnIm6IuYnhqXyFxh4U7T1sQ871qMs+jPc+LkFOlxQhYhzclx8pvIRJXO3QXLF6lkc78nl+vpWPauu8FvGb4mB43pB1lumSwyy+/IVBWBJWRI/SmD2ph+Aooal10DBHt5i+EPfz1VxbirHn71XQWofZqsL+P+ciK0sNib8DLSvpQtX7PH+zUGRPbzF5F4rYR4H0hxzJJpOxvdko4jL20HIsdWb+qzvpGKm0D0kv6g7/ET/Z+S527NyPMyM9P5wYklvh1FkbifYOgiDGLrbqrL1jNBiX+9wplsxGXc5JfFFwAZqrV6GurUTeh0ewjzl8nfDG6ufWY/WsfgPLIyAUUZ6XUFjcgMKvzqLyay3a1A2oLivB4b/k4WidAZKFqdieEd6/N54tJvlhtn+DsIJdzSmlGE418vbn4GAZM/AXeqGVGYOW+8n5BUpw6WQ9qkvPo6xFi77eyehsKMNnH+biaHMfJHcuw4ZE495H7sTTwz8MCwMacOJcM0pPKHGishnaNg1qzhVj/95jONrghfg7pgpGqqN97izxl3Tjy1Mt4DZKfPpqfMe0Dx/HR4a+8lKo+IKNYUux4Z5Qo2NhwrS/WXAY0mztz2Tzdzv7vk0JgiLqOlTn1CgtVCL3bBM6vmlBbbVFeQsbRz+ClSGm8rYTlpmhfrfAtB/WAjkW16vwUTYr85YOoUxKjmVjzwcVqGG+QUjaw9i+ekb/1Jmh8sBeHIbYR9Hu7xJWAi2lKK5tQeHJcpSdK8WJk5cwVRGLeXO80aesQPX5C8ir7YBHXy96NHXI+SQLn5b2om9mHDLWONqXbTL8o6IwU1OOs6WXcCLPKg/+WoaKb/oQsnINMtNnQ2oKx5QHc0MRP6kRhw4WofhyO7TNjVCdOo6/fHAaxVz+mTzv+H40fCyeb3Ofu6khiAhtQ0URqxtczhvaodM0oprJQs5fWf0r6RTS8tMnExBoEgW35IfjCT+04Oi5NtSw+4rLz6PgpBI10gjEzwuBX58K+VXNKDpZi65JrJbcaENlTi7+dOQy9L1M/zyy0mKvvcEIdTaoidXzy1AOqrNfIadCz9ISg8xnViLCLJ8jKNccnynQF6tQXc90R0EllGdYPPK+weyUefB361lMTsJnw6OmCsXKauTkXUCrluvmeqG8/+/7KtR2MR25aT2+Z2dlSyPTMMOb69hWVmaVaO00oGdyJ+pPncT+jypw2eCJxAdWIjHUqJP8wm3LpqWM8Q3En380ql+3O6xn7qTDvbTblHMLBv9+GSf+UIoa3gnf2wmvyCVYPEBuidFkNBy70TLsCIIY3wx3X/Nx6dwtfnwrtibdxNWaehSVNqOmpg2aLtaIh8VgfeY63DvP2nhgxlrkIiRHGKCpbkH1xRZ2DzvqO3B1SgAS+ea334uFvxM9L9LZUYgP6EBd1de41NBqfDYCsfbHj+Fevzoctd7EnBmlictD4NFSC2UJc8CUVUKcmzomIyLlbmx/4g74mgvRvXh6zVGY72lsbkcdv6eBOZKRCmx7OgPJUmZwWMfLEdPZfwqZ4acLw9qNi8w9IUZkkPYw4/i8HhH3rcTqeVbr1I2kc8fwCAjDXd9h+XeFD4VrRy1Pm1Dek+G7MB5PP7MOyRaO/IgawSYjMC4Nu34YjaltjSg6o0Y1i8OlFgMM3gFYueERbEvje2lZcKudO/b0kAXh8NddxsUaLdqu6aG9Pg1LVt2BWV5+iFkWKfxWWdyI0tIaFCrVuHRlEnwWLsW/ZH4X8xxt3M+ZJMWs+DgsDvwGTUzGauu53BvzANNDser7D+HJe+QDX4yY8mD2Umx/Zhnm9jWhuKABFey+uss66D2lUKQ/iO0bBsuzPaPXKzQaSYtl0Dc2MKfOGAcuC603JVCsWoWntyRBbpXZrsuPEUloOKvn36DxYivUX7P8vNaLGfF34s5ZUvhHK3An/62yAcoypoNO10LVwJzLaaF4+Jn1TP8MbXB7zb4DKaa0sHiZ6mznZJYvQlqSEeEt/llgBOWaM2kaopZwvcQ3JO/CVS4zfaFIvsdd547hycL8TizmT25h5dxqTJNY3pIwpkt+8Cg2DNVFy5DOZvosiumz841QVl6C8nQNymqMOnDlxgxsvNPCc7Yjm4KMTTXWz6cfjBi45cRQ9cyddLhxj+vOnQ+m9LH244LR+V/7QCxmDFV3iRFhJB07cugIgnAFdxy9SfobPeNa1Rh0evTwN5kSKWSDrWibmO9hzpTMx81hT3290HXz+UIuhGHQgz1awNNLOuQqfu7E0538GDe4mH/D5mIunnmjBEjLwNsPi5sTmOMwDNkZZVgUefEPxiyzDCmTjwEeqfOYZcyD5YHMhTyweL6j8qv7+E28lg2sfn47Muzt4qHvn3fktCy4Kz96llip7XTy+U9CilzNC0tutVxbw8rF0DvE8FxXsZS1YegiV3XgiJSHJe6kY4TSbg+eJ8JKn7daTr6lDNexuxXO3FiYA0gQBHfEhtnlNgTOBj/unTuCGDVsOXfEqOOUc0cQBDHKDMdpGq6/RQ4bQUxshusIOrqd3v0RBDF26GuHuoafjO2tJQiCmNi461zx21y9lT/L+iAIYmIz3HrP/27vFuq5Iwh7UM/dLaQZOb89giJtF9QdPUBYMnb9NBEh9PqJIIhbjKtGFseVW9wJ3xVGO3yCIIyM5jBMV8Ie+Ffg/wepmy10bvhNbAAAAABJRU5ErkJggg==)"
      ],
      "metadata": {
        "id": "3YSesJzJO8wz"
      }
    },
    {
      "cell_type": "code",
      "source": [
        "print('วานิตา')\n",
        "print('623020536-5')"
      ],
      "metadata": {
        "colab": {
          "base_uri": "https://localhost:8080/"
        },
        "id": "a8IR6TjrO7q6",
        "outputId": "dba52f0e-4640-4370-a1b5-1d5da2f2477d"
      },
      "execution_count": null,
      "outputs": [
        {
          "output_type": "stream",
          "name": "stdout",
          "text": [
            "อาธิติยา\n",
            "623021058-0\n"
          ]
        }
      ]
    },
    {
      "cell_type": "code",
      "source": [
        "print('วานิตา',end='->')\n",
        "print('623020536-5')"
      ],
      "metadata": {
        "colab": {
          "base_uri": "https://localhost:8080/"
        },
        "id": "pbzWrBJJPk4s",
        "outputId": "d3bd0f45-affb-49d6-a096-01658b6eb77f"
      },
      "execution_count": 15,
      "outputs": [
        {
          "output_type": "stream",
          "name": "stdout",
          "text": [
            "วานิตา->623020536-5\n"
          ]
        }
      ]
    },
    {
      "cell_type": "code",
      "source": [
        "print('วานิตา','623020536-5')"
      ],
      "metadata": {
        "colab": {
          "base_uri": "https://localhost:8080/"
        },
        "id": "_MHIE9xkPsi4",
        "outputId": "5c13f983-1108-47a9-e02a-9e7789299239"
      },
      "execution_count": 16,
      "outputs": [
        {
          "output_type": "stream",
          "name": "stdout",
          "text": [
            "วานิตา 623020536-5\n"
          ]
        }
      ]
    },
    {
      "cell_type": "code",
      "source": [
        "print('วานิตา','623020536-5',sep=' & ')"
      ],
      "metadata": {
        "colab": {
          "base_uri": "https://localhost:8080/"
        },
        "id": "gGMluDRMQD1I",
        "outputId": "aa0958ac-c4ac-40a4-94d9-dffe6debf8b8"
      },
      "execution_count": 17,
      "outputs": [
        {
          "output_type": "stream",
          "name": "stdout",
          "text": [
            "วานิตา & 623020536-5\n"
          ]
        }
      ]
    },
    {
      "cell_type": "markdown",
      "source": [
        "## input ของ function แบ่งเป้น 2 ชนิด (จำเป็นต้องใส่ กับ ไม่จำเป็นต้องใส่)"
      ],
      "metadata": {
        "id": "XVCT5lUDQLUy"
      }
    },
    {
      "cell_type": "code",
      "source": [
        "def print_grade(name,id,grade = 'F'): #กำหนดเกรดเป็น F ไว้ ถ้าเราไม่ใส่เกรดมันจะออกมาเป็น F\n",
        "     print(f'รหัสประจำตัว {id} ชื่อ {name}' )\n",
        "     print(f'ได้เกรด {grade}')"
      ],
      "metadata": {
        "id": "nMbubV8mQfCo"
      },
      "execution_count": 20,
      "outputs": []
    },
    {
      "cell_type": "code",
      "source": [
        "print_grade('นางสาววานิตา สมเด็จ','623020536-5') #กำหนดเกรดเป็น F ไว้ ถ้าเราไม่ใส่เกรดมันจะออกมาเป็น F"
      ],
      "metadata": {
        "colab": {
          "base_uri": "https://localhost:8080/"
        },
        "id": "in0VNObMRYmQ",
        "outputId": "4c560f35-2871-499a-a276-5001c55d3451"
      },
      "execution_count": 21,
      "outputs": [
        {
          "output_type": "stream",
          "name": "stdout",
          "text": [
            "รหัสประจำตัว 623020536-5 ชื่อ นางสาววานิตา สมเด็จ\n",
            "ได้เกรด F\n"
          ]
        }
      ]
    },
    {
      "cell_type": "code",
      "source": [
        "print_grade('นางสาววานิตา สมเด็จ','623020536-5','A' ) #กำหนดเกรดเป็น A"
      ],
      "metadata": {
        "colab": {
          "base_uri": "https://localhost:8080/"
        },
        "id": "0bN_94E6SLNy",
        "outputId": "9b23ddfe-5bc4-48e3-a89c-47a2b6a0cbd1"
      },
      "execution_count": 22,
      "outputs": [
        {
          "output_type": "stream",
          "name": "stdout",
          "text": [
            "รหัสประจำตัว 623020536-5 ชื่อ นางสาววานิตา สมเด็จ\n",
            "ได้เกรด A\n"
          ]
        }
      ]
    },
    {
      "cell_type": "code",
      "source": [
        "print_grade(name='วานิตา สมเด็จ',id='623020536-5',grade='B+') #กำหนดตัวแปลตามด้วยสิ่งที่จะแสดงผล"
      ],
      "metadata": {
        "id": "gcZCLMbBoNr8",
        "outputId": "5944ccc7-589c-47d2-9afb-926a5a34ad89",
        "colab": {
          "base_uri": "https://localhost:8080/"
        }
      },
      "execution_count": 23,
      "outputs": [
        {
          "output_type": "stream",
          "name": "stdout",
          "text": [
            "รหัสประจำตัว 623020536-5 ชื่อ วานิตา สมเด็จ\n",
            "ได้เกรด B+\n"
          ]
        }
      ]
    },
    {
      "cell_type": "markdown",
      "source": [
        "# Looping (for)"
      ],
      "metadata": {
        "id": "vVCvTSlhDqqo"
      }
    },
    {
      "cell_type": "markdown",
      "source": [
        "```python\n",
        "for member in listEx:\n",
        "     do_something()\n",
        "```   "
      ],
      "metadata": {
        "id": "dtF4T_kwTzyR"
      }
    },
    {
      "cell_type": "code",
      "source": [
        "for member in [1,2,3,4,5,6]: #forloop สำคัญคือต้องสร้าง list\n",
        "     print(member)"
      ],
      "metadata": {
        "colab": {
          "base_uri": "https://localhost:8080/"
        },
        "id": "FgpneOjsUT9y",
        "outputId": "c4099e2a-49d1-4e76-d36a-b04cc404c8e7"
      },
      "execution_count": 24,
      "outputs": [
        {
          "output_type": "stream",
          "name": "stdout",
          "text": [
            "1\n",
            "2\n",
            "3\n",
            "4\n",
            "5\n",
            "6\n"
          ]
        }
      ]
    },
    {
      "cell_type": "code",
      "source": [
        "def print_name(name):\n",
        "     print(f'ฉันชื่อ {name} ')"
      ],
      "metadata": {
        "id": "AB9xR5mJU3Sr"
      },
      "execution_count": 25,
      "outputs": []
    },
    {
      "cell_type": "code",
      "source": [
        "for name in ['วัชราภรณ์','จุฑากาญจน์', 'ชลธิชา','ญาดา','กิตติคุณ']: # ให้ name วนลูปใน list\n",
        "     N = name # เอาตัวแปร N มารับค่าที่ name วนลูป\n",
        "     print_name(N) # ใส่ตัวแปร N ลงใน function print_name"
      ],
      "metadata": {
        "colab": {
          "base_uri": "https://localhost:8080/"
        },
        "id": "oHlgfOI9VJeP",
        "outputId": "99072108-dcee-4402-ad73-a31eca32bd5e"
      },
      "execution_count": 44,
      "outputs": [
        {
          "output_type": "stream",
          "name": "stdout",
          "text": [
            "ฉันชื่อ วัชราภรณ์ \n",
            "ฉันชื่อ จุฑากาญจน์ \n",
            "ฉันชื่อ ชลธิชา \n",
            "ฉันชื่อ ญาดา \n",
            "ฉันชื่อ กิตติคุณ \n"
          ]
        }
      ]
    },
    {
      "cell_type": "code",
      "source": [
        "list_name_id_grade = [['นางสาวเบญญาภา ระภูเขียว','623020527-6','B'],\n",
        "                                 ['นางสาวทักษิณา ราชหุ่น','623021000-1','A'],\n",
        "                                 ['นางสาวปลายฟ้า คำเพ็ง','623021005-1','C']]"
      ],
      "metadata": {
        "id": "IO-N0jqEWzGB"
      },
      "execution_count": 27,
      "outputs": []
    },
    {
      "cell_type": "code",
      "source": [
        "for each in list_name_id_grade:\n",
        "    name = each[0]\n",
        "    id = each[1]\n",
        "    grade = each[2]\n",
        "    print_grade(name,id,grade)\n",
        "    print('----------------')"
      ],
      "metadata": {
        "colab": {
          "base_uri": "https://localhost:8080/"
        },
        "id": "q8R-2BZaZ3_j",
        "outputId": "e58b7c37-5a3c-4263-b93d-025c99be1d0d"
      },
      "execution_count": 28,
      "outputs": [
        {
          "output_type": "stream",
          "name": "stdout",
          "text": [
            "รหัสประจำตัว 623020527-6 ชื่อ นางสาวเบญญาภา ระภูเขียว\n",
            "ได้เกรด B\n",
            "----------------\n",
            "รหัสประจำตัว 623021000-1 ชื่อ นางสาวทักษิณา ราชหุ่น\n",
            "ได้เกรด A\n",
            "----------------\n",
            "รหัสประจำตัว 623021005-1 ชื่อ นางสาวปลายฟ้า คำเพ็ง\n",
            "ได้เกรด C\n",
            "----------------\n"
          ]
        }
      ]
    },
    {
      "cell_type": "markdown",
      "source": [
        "### ใช้ for loop เพิ่มสมาชิกใน list"
      ],
      "metadata": {
        "id": "O-IflZZgZGH3"
      }
    },
    {
      "cell_type": "code",
      "source": [
        "list_name = []\n",
        "list_id = []\n",
        "list_grade = []\n",
        "for each in list_name_id_grade:\n",
        "    list_name.append(each[0]) # เพิ่มสมาชิกเข้าใน list_name ด้วยการวนลูป each ใน list_name_id_grade เอาตัวที่ [0]\n",
        "    list_id.append(each[1])\n",
        "    list_grade.append(each[2])"
      ],
      "metadata": {
        "id": "D8ebNI64ZXdF"
      },
      "execution_count": 45,
      "outputs": []
    },
    {
      "cell_type": "code",
      "source": [
        "list_name"
      ],
      "metadata": {
        "colab": {
          "base_uri": "https://localhost:8080/"
        },
        "id": "8QQsjP3XZ9lQ",
        "outputId": "1496da5b-6fff-4ef4-cf2a-a273d4dd7b3f"
      },
      "execution_count": 30,
      "outputs": [
        {
          "output_type": "execute_result",
          "data": {
            "text/plain": [
              "['นางสาวเบญญาภา ระภูเขียว', 'นางสาวทักษิณา ราชหุ่น', 'นางสาวปลายฟ้า คำเพ็ง']"
            ]
          },
          "metadata": {},
          "execution_count": 30
        }
      ]
    },
    {
      "cell_type": "markdown",
      "source": [
        "### การวนลูปด้วย `range()`"
      ],
      "metadata": {
        "id": "qJUzCkBbbZiz"
      }
    },
    {
      "cell_type": "code",
      "source": [
        "for i in range(100): # วนลูปด้วยค่าซ้ำ\n",
        "     print('งง', end = '  ')"
      ],
      "metadata": {
        "colab": {
          "base_uri": "https://localhost:8080/"
        },
        "id": "vSTo8-oxbkIO",
        "outputId": "207daceb-c437-4d62-cd5e-9664c588659d"
      },
      "execution_count": 46,
      "outputs": [
        {
          "output_type": "stream",
          "name": "stdout",
          "text": [
            "งง  งง  งง  งง  งง  งง  งง  งง  งง  งง  งง  งง  งง  งง  งง  งง  งง  งง  งง  งง  งง  งง  งง  งง  งง  งง  งง  งง  งง  งง  งง  งง  งง  งง  งง  งง  งง  งง  งง  งง  งง  งง  งง  งง  งง  งง  งง  งง  งง  งง  งง  งง  งง  งง  งง  งง  งง  งง  งง  งง  งง  งง  งง  งง  งง  งง  งง  งง  งง  งง  งง  งง  งง  งง  งง  งง  งง  งง  งง  งง  งง  งง  งง  งง  งง  งง  งง  งง  งง  งง  งง  งง  งง  งง  งง  งง  งง  งง  งง  งง  "
          ]
        }
      ]
    },
    {
      "cell_type": "markdown",
      "source": [
        "### Loop ซ้อน Loop"
      ],
      "metadata": {
        "id": "SnExpL9ecZXY"
      }
    },
    {
      "cell_type": "code",
      "source": [
        "for mem1 in range(2,5): # [2 ,3 ,4]\n",
        "     print(f'now mem1 = {mem1}')\n",
        "     for mem2 in range(1,13): #[1 ,2 ,3 ,4 ,5 ,6 ,7 ,8 ,9 ,10 ,11 ,12]\n",
        "          print(f'{mem1} x {mem2} = {mem1*mem2}')\n",
        "     print(f'end inner for mem1 = {mem1}')"
      ],
      "metadata": {
        "colab": {
          "base_uri": "https://localhost:8080/"
        },
        "id": "m7JFC0KqbkF7",
        "outputId": "e82f762d-afd2-4102-8a51-c490b4ed18c9"
      },
      "execution_count": 47,
      "outputs": [
        {
          "output_type": "stream",
          "name": "stdout",
          "text": [
            "now mem1 = 2\n",
            "2 x 1 = 2\n",
            "2 x 2 = 4\n",
            "2 x 3 = 6\n",
            "2 x 4 = 8\n",
            "2 x 5 = 10\n",
            "2 x 6 = 12\n",
            "2 x 7 = 14\n",
            "2 x 8 = 16\n",
            "2 x 9 = 18\n",
            "2 x 10 = 20\n",
            "2 x 11 = 22\n",
            "2 x 12 = 24\n",
            "end inner for mem1 = 2\n",
            "now mem1 = 3\n",
            "3 x 1 = 3\n",
            "3 x 2 = 6\n",
            "3 x 3 = 9\n",
            "3 x 4 = 12\n",
            "3 x 5 = 15\n",
            "3 x 6 = 18\n",
            "3 x 7 = 21\n",
            "3 x 8 = 24\n",
            "3 x 9 = 27\n",
            "3 x 10 = 30\n",
            "3 x 11 = 33\n",
            "3 x 12 = 36\n",
            "end inner for mem1 = 3\n",
            "now mem1 = 4\n",
            "4 x 1 = 4\n",
            "4 x 2 = 8\n",
            "4 x 3 = 12\n",
            "4 x 4 = 16\n",
            "4 x 5 = 20\n",
            "4 x 6 = 24\n",
            "4 x 7 = 28\n",
            "4 x 8 = 32\n",
            "4 x 9 = 36\n",
            "4 x 10 = 40\n",
            "4 x 11 = 44\n",
            "4 x 12 = 48\n",
            "end inner for mem1 = 4\n"
          ]
        }
      ]
    },
    {
      "cell_type": "markdown",
      "source": [
        "### Loop in Function"
      ],
      "metadata": {
        "id": "xJQL-20fgFc_"
      }
    },
    {
      "cell_type": "code",
      "source": [
        "def print_grade_loop(name,grade): # function ที่มี input 2 ค่า\n",
        "     for n,g in zip(name,grade): # วนลูป n,g ใน names,grades\n",
        "         print(f'{n} ได้เกรด {g}')"
      ],
      "metadata": {
        "id": "KXuJj-DnbkDY"
      },
      "execution_count": 33,
      "outputs": []
    },
    {
      "cell_type": "code",
      "source": [
        "print_grade_loop(list_name,list_grade)"
      ],
      "metadata": {
        "colab": {
          "base_uri": "https://localhost:8080/"
        },
        "id": "CCDFx6gcbkAk",
        "outputId": "cc34fc12-f74c-4c82-d2e7-46baf0711d2c"
      },
      "execution_count": 34,
      "outputs": [
        {
          "output_type": "stream",
          "name": "stdout",
          "text": [
            "นางสาวเบญญาภา ระภูเขียว ได้เกรด B\n",
            "นางสาวทักษิณา ราชหุ่น ได้เกรด A\n",
            "นางสาวปลายฟ้า คำเพ็ง ได้เกรด C\n"
          ]
        }
      ]
    },
    {
      "cell_type": "markdown",
      "source": [
        "# Conditional Statement (if)"
      ],
      "metadata": {
        "id": "G3U3GdwND4eh"
      }
    },
    {
      "cell_type": "markdown",
      "source": [
        "```python\n",
        "if condition1:\n",
        "    do_something() ## ถ้า condition1 เป้นจริง ทำ do_something()\n",
        "elif condition2:\n",
        "    do_another_thing() ## ถ้า condition1 ไม่เป็นจริงแต่ condition2 เป็นจริง ทำ do_another_thing()\n",
        "else:\n",
        "    do_the_last_thing() ## ถ้าไม่มี condition ไหนเป็นจริงเลย ทำ  do_the_last_thing()\n",
        "```"
      ],
      "metadata": {
        "id": "bxNpcebEiG3c"
      }
    },
    {
      "cell_type": "code",
      "source": [
        "for n in list_name:\n",
        "    if len(n)>20:\n",
        "        print(f'{n} ได้เกรด A')\n",
        "    else:\n",
        "        print(f'{n} ได้เกรด F')"
      ],
      "metadata": {
        "colab": {
          "base_uri": "https://localhost:8080/"
        },
        "id": "aGKZF2j0bj10",
        "outputId": "16adf64a-90de-454a-e3df-02c8db3ae80f"
      },
      "execution_count": 35,
      "outputs": [
        {
          "output_type": "stream",
          "name": "stdout",
          "text": [
            "นางสาวเบญญาภา ระภูเขียว ได้เกรด A\n",
            "นางสาวทักษิณา ราชหุ่น ได้เกรด A\n",
            "นางสาวปลายฟ้า คำเพ็ง ได้เกรด F\n"
          ]
        }
      ]
    },
    {
      "cell_type": "markdown",
      "source": [
        "### Operater ที่ใช้ตรวจสอบ condition\n",
        "\n",
        "==, !=, >=, <=, <, >, and, or"
      ],
      "metadata": {
        "id": "yRT2qza_kFgp"
      }
    },
    {
      "cell_type": "code",
      "execution_count": 36,
      "metadata": {
        "id": "ytelbdYgDZJR",
        "colab": {
          "base_uri": "https://localhost:8080/"
        },
        "outputId": "a80499cc-0723-46e5-8c48-87df0d3c2c0c"
      },
      "outputs": [
        {
          "output_type": "stream",
          "name": "stdout",
          "text": [
            "False\n"
          ]
        }
      ],
      "source": [
        "a = 10 == 20\n",
        "print(a)"
      ]
    },
    {
      "cell_type": "code",
      "source": [
        "b = 15 <= 20 # 15 <= 20 True or False\n",
        "print(b)"
      ],
      "metadata": {
        "id": "hnQ5qa8Zkg3y",
        "outputId": "34973f64-8bb4-4963-8042-0674e820e230",
        "colab": {
          "base_uri": "https://localhost:8080/"
        }
      },
      "execution_count": 37,
      "outputs": [
        {
          "output_type": "stream",
          "name": "stdout",
          "text": [
            "True\n"
          ]
        }
      ]
    },
    {
      "cell_type": "code",
      "source": [
        "if a: # ถ้า a เป็น True print 'X'\n",
        "    print('x')"
      ],
      "metadata": {
        "id": "EKiNtKh1lPEG"
      },
      "execution_count": 38,
      "outputs": []
    },
    {
      "cell_type": "code",
      "source": [
        "if True: # ถ้า เป็น True print 'X'\n",
        "    print('x')"
      ],
      "metadata": {
        "id": "Z-zNKod5lUDd",
        "outputId": "e2900359-3800-407d-cc80-beeefffb52c5",
        "colab": {
          "base_uri": "https://localhost:8080/"
        }
      },
      "execution_count": 39,
      "outputs": [
        {
          "output_type": "stream",
          "name": "stdout",
          "text": [
            "x\n"
          ]
        }
      ]
    },
    {
      "cell_type": "code",
      "source": [
        "if a and b: # ถ้า a and b เป็น True print 'X'\n",
        "    print('x')"
      ],
      "metadata": {
        "id": "zzX1SrZPlal1"
      },
      "execution_count": 40,
      "outputs": []
    },
    {
      "cell_type": "code",
      "source": [
        "if a or b: # ถ้า a or b เป็น True print 'X'\n",
        "    print('x')"
      ],
      "metadata": {
        "id": "AlLVcOZIljHp",
        "outputId": "0b9bb96f-7cb9-4138-d6e8-83b1d67c68b9",
        "colab": {
          "base_uri": "https://localhost:8080/"
        }
      },
      "execution_count": 41,
      "outputs": [
        {
          "output_type": "stream",
          "name": "stdout",
          "text": [
            "x\n"
          ]
        }
      ]
    },
    {
      "cell_type": "markdown",
      "source": [
        "# HW\n",
        "เขียน function ตัดเกรด โดยที่ input เป็นคะแนน (0-100) , output เป้นเกรด (F-A)\n",
        "หรือ 'ไม่สามารถตัดเกรดได้'\n",
        "\n",
        "วนลูปตัดเกรด input = [1,50,65,90,101,-5,49,'ก',80]\n",
        "\n",
        "กำหนด\n",
        "\n",
        "* ถ้าคะแนนอยู่ระหว่างมากกว่าหรือเท่ากับ 0 แต่น้อยกว่า 50 จะได้เกรด F\n",
        "* ถ้าคะแนนอยู่ระหว่างมากกว่าหรือเท่ากับ 50 แต่น้อยกว่า 55 จะได้เกรด D\n",
        "* ถ้าคะแนนอยู่ระหว่างมากกว่าหรือเท่ากับ 55 แต่น้อยกว่า 60 จะได้เกรด D+\n",
        "* ถ้าคะแนนอยู่ระหว่างมากกว่าหรือเท่ากับ 60 แต่น้อยกว่า 65 จะได้เกรด C\n",
        "* ถ้าคะแนนอยู่ระหว่างมากกว่าหรือเท่ากับ 65 แต่น้อยกว่า 70 จะได้เกรด C+\n",
        "* ถ้าคะแนนอยู่ระหว่างมากกว่าหรือเท่ากับ 70 แต่น้อยกว่า 75 จะได้เกรด B\n",
        "* ถ้าคะแนนอยู่ระหว่างมากกว่าหรือเท่ากับ 75 แต่น้อยกว่า 80 จะได้เกรด B+\n",
        "* ถ้าคะแนนอยู่ระหว่างมากกว่าหรือเท่ากับ 80 จะได้เกรด A\n",
        "* ถ้าคะแนนไม่อยู่ในช่วง 0-100 ให้ return 'ไม่สามารถตัดเกรดได้'"
      ],
      "metadata": {
        "id": "UTv2yTO-mNX_"
      }
    },
    {
      "cell_type": "code",
      "source": [
        " score = [1,50,65,90,101,-5,49,'ก',80]\n",
        "\n",
        " print(score)\n",
        " for i in score:\n",
        "     if type(i) == type(\"\"):\n",
        "        print (f'คะแนน {i} ไม่สามารถตัดเกรดได้')\n",
        "     else:\n",
        "        if i >= 101:\n",
        "            print(f'คะแนน {i} ไม่สามารถตัดเกรดได้')\n",
        "        elif i >= 80:\n",
        "            print(f'คะแนน {i} ได้เกรด  A')\n",
        "        elif i >= 75:   \n",
        "            print(f'คะแนน {i} ได้เกรด  B+')\n",
        "        elif i >= 70:   \n",
        "            print(f'คะแนน {i} ได้เกรด  B')\n",
        "        elif i >= 65:   \n",
        "            print(f'คะแนน {i} ได้เกรด  C+')\n",
        "        elif i >= 60:   \n",
        "            print(f'คะแนน {i} ได้เกรด  C')\n",
        "        elif i >= 55:   \n",
        "            print(f'คะแนน {i} ได้เกรด  D+')\n",
        "        elif i >= 50:   \n",
        "            print(f'คะแนน {i} ได้เกรด  D')\n",
        "        elif i >= 0:   \n",
        "            print(f'คะแนน {i} ได้เกรด  F')\n",
        "        else :   \n",
        "            print(f'คะแนน {i} ไม่สามารถตัดเกรดได้')\n"
      ],
      "metadata": {
        "id": "qXnEFROslmQL",
        "outputId": "2fb34f58-70b7-42eb-fd08-4f7b68cb151a",
        "colab": {
          "base_uri": "https://localhost:8080/"
        }
      },
      "execution_count": 42,
      "outputs": [
        {
          "output_type": "stream",
          "name": "stdout",
          "text": [
            "[1, 50, 65, 90, 101, -5, 49, 'ก', 80]\n",
            "คะแนน 1 ได้เกรด  F\n",
            "คะแนน 50 ได้เกรด  D\n",
            "คะแนน 65 ได้เกรด  C+\n",
            "คะแนน 90 ได้เกรด  A\n",
            "คะแนน 101 ไม่สามารถตัดเกรดได้\n",
            "คะแนน -5 ไม่สามารถตัดเกรดได้\n",
            "คะแนน 49 ได้เกรด  F\n",
            "คะแนน ก ไม่สามารถตัดเกรดได้\n",
            "คะแนน 80 ได้เกรด  A\n"
          ]
        }
      ]
    },
    {
      "cell_type": "code",
      "source": [
        ""
      ],
      "metadata": {
        "id": "hAPZx3NP3XU8"
      },
      "execution_count": 42,
      "outputs": []
    }
  ]
}